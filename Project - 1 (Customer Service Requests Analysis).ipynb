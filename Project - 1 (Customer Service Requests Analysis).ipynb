{
 "cells": [
  {
   "cell_type": "markdown",
   "id": "291793b2",
   "metadata": {},
   "source": [
    "### 1. Import a 311 NYC service request.\n",
    "Reading, Understanding and Optimizing data : </br>\n",
    "As a part of data wrangling, first, we need to read and understand the data (features/columns) very clearly. Once we understand the data properly, we can plan for subsequent steps. The data need to be simplified (reduction/simplification) for further analysis. With the simplified data (which can be analyzed in an easy way), we can predict (inferences) some insight that can be used for future purposes."
   ]
  },
  {
   "cell_type": "code",
   "execution_count": 1,
   "id": "ec7369d7",
   "metadata": {},
   "outputs": [],
   "source": [
    "# Importing required libraries\n",
    "\n",
    "import numpy as np\n",
    "import pandas as pd\n",
    "import matplotlib\n",
    "import matplotlib.pyplot as plt\n",
    "import seaborn as sns\n",
    "import datetime\n",
    "import calendar"
   ]
  },
  {
   "cell_type": "code",
   "execution_count": 2,
   "id": "8ea9bb5f",
   "metadata": {},
   "outputs": [
    {
     "name": "stderr",
     "output_type": "stream",
     "text": [
      "C:\\Users\\HP\\anaconda3\\lib\\site-packages\\IPython\\core\\interactiveshell.py:3444: DtypeWarning: Columns (48,49) have mixed types.Specify dtype option on import or set low_memory=False.\n",
      "  exec(code_obj, self.user_global_ns, self.user_ns)\n"
     ]
    }
   ],
   "source": [
    "data = pd.read_csv('311_Service_Requests_from_2010_to_Present.csv')"
   ]
  },
  {
   "cell_type": "code",
   "execution_count": 3,
   "id": "f4a4b215",
   "metadata": {},
   "outputs": [
    {
     "data": {
      "text/plain": [
       "Index(['Unique Key', 'Created Date', 'Closed Date', 'Agency', 'Agency Name',\n",
       "       'Complaint Type', 'Descriptor', 'Location Type', 'Incident Zip',\n",
       "       'Incident Address', 'Street Name', 'Cross Street 1', 'Cross Street 2',\n",
       "       'Intersection Street 1', 'Intersection Street 2', 'Address Type',\n",
       "       'City', 'Landmark', 'Facility Type', 'Status', 'Due Date',\n",
       "       'Resolution Description', 'Resolution Action Updated Date',\n",
       "       'Community Board', 'Borough', 'X Coordinate (State Plane)',\n",
       "       'Y Coordinate (State Plane)', 'Park Facility Name', 'Park Borough',\n",
       "       'School Name', 'School Number', 'School Region', 'School Code',\n",
       "       'School Phone Number', 'School Address', 'School City', 'School State',\n",
       "       'School Zip', 'School Not Found', 'School or Citywide Complaint',\n",
       "       'Vehicle Type', 'Taxi Company Borough', 'Taxi Pick Up Location',\n",
       "       'Bridge Highway Name', 'Bridge Highway Direction', 'Road Ramp',\n",
       "       'Bridge Highway Segment', 'Garage Lot Name', 'Ferry Direction',\n",
       "       'Ferry Terminal Name', 'Latitude', 'Longitude', 'Location'],\n",
       "      dtype='object')"
      ]
     },
     "execution_count": 3,
     "metadata": {},
     "output_type": "execute_result"
    }
   ],
   "source": [
    "# Looking for features (columns) \n",
    "\n",
    "data.columns"
   ]
  },
  {
   "cell_type": "code",
   "execution_count": 4,
   "id": "40890ff8",
   "metadata": {},
   "outputs": [
    {
     "name": "stdout",
     "output_type": "stream",
     "text": [
      "<class 'pandas.core.frame.DataFrame'>\n",
      "RangeIndex: 300698 entries, 0 to 300697\n",
      "Data columns (total 53 columns):\n",
      " #   Column                          Non-Null Count   Dtype  \n",
      "---  ------                          --------------   -----  \n",
      " 0   Unique Key                      300698 non-null  int64  \n",
      " 1   Created Date                    300698 non-null  object \n",
      " 2   Closed Date                     298534 non-null  object \n",
      " 3   Agency                          300698 non-null  object \n",
      " 4   Agency Name                     300698 non-null  object \n",
      " 5   Complaint Type                  300698 non-null  object \n",
      " 6   Descriptor                      294784 non-null  object \n",
      " 7   Location Type                   300567 non-null  object \n",
      " 8   Incident Zip                    298083 non-null  float64\n",
      " 9   Incident Address                256288 non-null  object \n",
      " 10  Street Name                     256288 non-null  object \n",
      " 11  Cross Street 1                  251419 non-null  object \n",
      " 12  Cross Street 2                  250919 non-null  object \n",
      " 13  Intersection Street 1           43858 non-null   object \n",
      " 14  Intersection Street 2           43362 non-null   object \n",
      " 15  Address Type                    297883 non-null  object \n",
      " 16  City                            298084 non-null  object \n",
      " 17  Landmark                        349 non-null     object \n",
      " 18  Facility Type                   298527 non-null  object \n",
      " 19  Status                          300698 non-null  object \n",
      " 20  Due Date                        300695 non-null  object \n",
      " 21  Resolution Description          300698 non-null  object \n",
      " 22  Resolution Action Updated Date  298511 non-null  object \n",
      " 23  Community Board                 300698 non-null  object \n",
      " 24  Borough                         300698 non-null  object \n",
      " 25  X Coordinate (State Plane)      297158 non-null  float64\n",
      " 26  Y Coordinate (State Plane)      297158 non-null  float64\n",
      " 27  Park Facility Name              300698 non-null  object \n",
      " 28  Park Borough                    300698 non-null  object \n",
      " 29  School Name                     300698 non-null  object \n",
      " 30  School Number                   300698 non-null  object \n",
      " 31  School Region                   300697 non-null  object \n",
      " 32  School Code                     300697 non-null  object \n",
      " 33  School Phone Number             300698 non-null  object \n",
      " 34  School Address                  300698 non-null  object \n",
      " 35  School City                     300698 non-null  object \n",
      " 36  School State                    300698 non-null  object \n",
      " 37  School Zip                      300697 non-null  object \n",
      " 38  School Not Found                300698 non-null  object \n",
      " 39  School or Citywide Complaint    0 non-null       float64\n",
      " 40  Vehicle Type                    0 non-null       float64\n",
      " 41  Taxi Company Borough            0 non-null       float64\n",
      " 42  Taxi Pick Up Location           0 non-null       float64\n",
      " 43  Bridge Highway Name             243 non-null     object \n",
      " 44  Bridge Highway Direction        243 non-null     object \n",
      " 45  Road Ramp                       213 non-null     object \n",
      " 46  Bridge Highway Segment          213 non-null     object \n",
      " 47  Garage Lot Name                 0 non-null       float64\n",
      " 48  Ferry Direction                 1 non-null       object \n",
      " 49  Ferry Terminal Name             2 non-null       object \n",
      " 50  Latitude                        297158 non-null  float64\n",
      " 51  Longitude                       297158 non-null  float64\n",
      " 52  Location                        297158 non-null  object \n",
      "dtypes: float64(10), int64(1), object(42)\n",
      "memory usage: 121.6+ MB\n"
     ]
    }
   ],
   "source": [
    "data.info()"
   ]
  },
  {
   "cell_type": "code",
   "execution_count": 5,
   "id": "8d9aed42",
   "metadata": {},
   "outputs": [
    {
     "data": {
      "text/html": [
       "<div>\n",
       "<style scoped>\n",
       "    .dataframe tbody tr th:only-of-type {\n",
       "        vertical-align: middle;\n",
       "    }\n",
       "\n",
       "    .dataframe tbody tr th {\n",
       "        vertical-align: top;\n",
       "    }\n",
       "\n",
       "    .dataframe thead th {\n",
       "        text-align: right;\n",
       "    }\n",
       "</style>\n",
       "<table border=\"1\" class=\"dataframe\">\n",
       "  <thead>\n",
       "    <tr style=\"text-align: right;\">\n",
       "      <th></th>\n",
       "      <th>Unique Key</th>\n",
       "      <th>Created Date</th>\n",
       "      <th>Closed Date</th>\n",
       "      <th>Agency</th>\n",
       "      <th>Agency Name</th>\n",
       "      <th>Complaint Type</th>\n",
       "      <th>Descriptor</th>\n",
       "      <th>Location Type</th>\n",
       "      <th>Incident Zip</th>\n",
       "      <th>Incident Address</th>\n",
       "      <th>Street Name</th>\n",
       "      <th>Cross Street 1</th>\n",
       "      <th>Cross Street 2</th>\n",
       "      <th>Intersection Street 1</th>\n",
       "      <th>Intersection Street 2</th>\n",
       "      <th>Address Type</th>\n",
       "      <th>City</th>\n",
       "      <th>Landmark</th>\n",
       "      <th>Facility Type</th>\n",
       "      <th>Status</th>\n",
       "      <th>Due Date</th>\n",
       "      <th>Resolution Description</th>\n",
       "      <th>Resolution Action Updated Date</th>\n",
       "      <th>Community Board</th>\n",
       "      <th>Borough</th>\n",
       "      <th>X Coordinate (State Plane)</th>\n",
       "      <th>Y Coordinate (State Plane)</th>\n",
       "      <th>Park Facility Name</th>\n",
       "      <th>Park Borough</th>\n",
       "      <th>School Name</th>\n",
       "      <th>School Number</th>\n",
       "      <th>School Region</th>\n",
       "      <th>School Code</th>\n",
       "      <th>School Phone Number</th>\n",
       "      <th>School Address</th>\n",
       "      <th>School City</th>\n",
       "      <th>School State</th>\n",
       "      <th>School Zip</th>\n",
       "      <th>School Not Found</th>\n",
       "      <th>School or Citywide Complaint</th>\n",
       "      <th>Vehicle Type</th>\n",
       "      <th>Taxi Company Borough</th>\n",
       "      <th>Taxi Pick Up Location</th>\n",
       "      <th>Bridge Highway Name</th>\n",
       "      <th>Bridge Highway Direction</th>\n",
       "      <th>Road Ramp</th>\n",
       "      <th>Bridge Highway Segment</th>\n",
       "      <th>Garage Lot Name</th>\n",
       "      <th>Ferry Direction</th>\n",
       "      <th>Ferry Terminal Name</th>\n",
       "      <th>Latitude</th>\n",
       "      <th>Longitude</th>\n",
       "      <th>Location</th>\n",
       "    </tr>\n",
       "  </thead>\n",
       "  <tbody>\n",
       "    <tr>\n",
       "      <th>112023</th>\n",
       "      <td>31545582</td>\n",
       "      <td>09/16/2015 08:28:13 AM</td>\n",
       "      <td>09/16/2015 10:22:23 PM</td>\n",
       "      <td>NYPD</td>\n",
       "      <td>New York City Police Department</td>\n",
       "      <td>Blocked Driveway</td>\n",
       "      <td>No Access</td>\n",
       "      <td>Street/Sidewalk</td>\n",
       "      <td>11211.0</td>\n",
       "      <td>238 AINSLIE STREET</td>\n",
       "      <td>AINSLIE STREET</td>\n",
       "      <td>MANHATTAN AVENUE</td>\n",
       "      <td>GRAHAM AVENUE</td>\n",
       "      <td>NaN</td>\n",
       "      <td>NaN</td>\n",
       "      <td>ADDRESS</td>\n",
       "      <td>BROOKLYN</td>\n",
       "      <td>NaN</td>\n",
       "      <td>Precinct</td>\n",
       "      <td>Closed</td>\n",
       "      <td>09/16/2015 04:28:13 PM</td>\n",
       "      <td>The Police Department responded and upon arriv...</td>\n",
       "      <td>09/16/2015 10:22:23 PM</td>\n",
       "      <td>01 BROOKLYN</td>\n",
       "      <td>BROOKLYN</td>\n",
       "      <td>999555.0</td>\n",
       "      <td>199053.0</td>\n",
       "      <td>Unspecified</td>\n",
       "      <td>BROOKLYN</td>\n",
       "      <td>Unspecified</td>\n",
       "      <td>Unspecified</td>\n",
       "      <td>Unspecified</td>\n",
       "      <td>Unspecified</td>\n",
       "      <td>Unspecified</td>\n",
       "      <td>Unspecified</td>\n",
       "      <td>Unspecified</td>\n",
       "      <td>Unspecified</td>\n",
       "      <td>Unspecified</td>\n",
       "      <td>N</td>\n",
       "      <td>NaN</td>\n",
       "      <td>NaN</td>\n",
       "      <td>NaN</td>\n",
       "      <td>NaN</td>\n",
       "      <td>NaN</td>\n",
       "      <td>NaN</td>\n",
       "      <td>NaN</td>\n",
       "      <td>NaN</td>\n",
       "      <td>NaN</td>\n",
       "      <td>NaN</td>\n",
       "      <td>NaN</td>\n",
       "      <td>40.713018</td>\n",
       "      <td>-73.944792</td>\n",
       "      <td>(40.71301801092523, -73.94479246808795)</td>\n",
       "    </tr>\n",
       "    <tr>\n",
       "      <th>150577</th>\n",
       "      <td>31304323</td>\n",
       "      <td>08/13/2015 11:50:08 AM</td>\n",
       "      <td>08/13/2015 02:10:55 PM</td>\n",
       "      <td>NYPD</td>\n",
       "      <td>New York City Police Department</td>\n",
       "      <td>Blocked Driveway</td>\n",
       "      <td>Partial Access</td>\n",
       "      <td>Street/Sidewalk</td>\n",
       "      <td>11354.0</td>\n",
       "      <td>144-36 25 DRIVE</td>\n",
       "      <td>25 DRIVE</td>\n",
       "      <td>PARSONS BOULEVARD</td>\n",
       "      <td>146 STREET</td>\n",
       "      <td>NaN</td>\n",
       "      <td>NaN</td>\n",
       "      <td>ADDRESS</td>\n",
       "      <td>FLUSHING</td>\n",
       "      <td>NaN</td>\n",
       "      <td>Precinct</td>\n",
       "      <td>Closed</td>\n",
       "      <td>08/13/2015 07:50:08 PM</td>\n",
       "      <td>The Police Department responded to the complai...</td>\n",
       "      <td>08/13/2015 02:10:55 PM</td>\n",
       "      <td>07 QUEENS</td>\n",
       "      <td>QUEENS</td>\n",
       "      <td>1032976.0</td>\n",
       "      <td>221770.0</td>\n",
       "      <td>Unspecified</td>\n",
       "      <td>QUEENS</td>\n",
       "      <td>Unspecified</td>\n",
       "      <td>Unspecified</td>\n",
       "      <td>Unspecified</td>\n",
       "      <td>Unspecified</td>\n",
       "      <td>Unspecified</td>\n",
       "      <td>Unspecified</td>\n",
       "      <td>Unspecified</td>\n",
       "      <td>Unspecified</td>\n",
       "      <td>Unspecified</td>\n",
       "      <td>N</td>\n",
       "      <td>NaN</td>\n",
       "      <td>NaN</td>\n",
       "      <td>NaN</td>\n",
       "      <td>NaN</td>\n",
       "      <td>NaN</td>\n",
       "      <td>NaN</td>\n",
       "      <td>NaN</td>\n",
       "      <td>NaN</td>\n",
       "      <td>NaN</td>\n",
       "      <td>NaN</td>\n",
       "      <td>NaN</td>\n",
       "      <td>40.775249</td>\n",
       "      <td>-73.824073</td>\n",
       "      <td>(40.77524943112796, -73.82407332754447)</td>\n",
       "    </tr>\n",
       "    <tr>\n",
       "      <th>215173</th>\n",
       "      <td>30870860</td>\n",
       "      <td>06/17/2015 10:20:44 PM</td>\n",
       "      <td>06/18/2015 12:01:00 AM</td>\n",
       "      <td>NYPD</td>\n",
       "      <td>New York City Police Department</td>\n",
       "      <td>Noise - Commercial</td>\n",
       "      <td>Loud Talking</td>\n",
       "      <td>Club/Bar/Restaurant</td>\n",
       "      <td>10003.0</td>\n",
       "      <td>300 EAST 5 STREET</td>\n",
       "      <td>EAST 5 STREET</td>\n",
       "      <td>2 AVENUE</td>\n",
       "      <td>1 AVENUE</td>\n",
       "      <td>NaN</td>\n",
       "      <td>NaN</td>\n",
       "      <td>ADDRESS</td>\n",
       "      <td>NEW YORK</td>\n",
       "      <td>NaN</td>\n",
       "      <td>Precinct</td>\n",
       "      <td>Closed</td>\n",
       "      <td>06/18/2015 06:20:44 AM</td>\n",
       "      <td>The Police Department responded to the complai...</td>\n",
       "      <td>06/18/2015 12:01:00 AM</td>\n",
       "      <td>03 MANHATTAN</td>\n",
       "      <td>MANHATTAN</td>\n",
       "      <td>987401.0</td>\n",
       "      <td>204005.0</td>\n",
       "      <td>Unspecified</td>\n",
       "      <td>MANHATTAN</td>\n",
       "      <td>Unspecified</td>\n",
       "      <td>Unspecified</td>\n",
       "      <td>Unspecified</td>\n",
       "      <td>Unspecified</td>\n",
       "      <td>Unspecified</td>\n",
       "      <td>Unspecified</td>\n",
       "      <td>Unspecified</td>\n",
       "      <td>Unspecified</td>\n",
       "      <td>Unspecified</td>\n",
       "      <td>N</td>\n",
       "      <td>NaN</td>\n",
       "      <td>NaN</td>\n",
       "      <td>NaN</td>\n",
       "      <td>NaN</td>\n",
       "      <td>NaN</td>\n",
       "      <td>NaN</td>\n",
       "      <td>NaN</td>\n",
       "      <td>NaN</td>\n",
       "      <td>NaN</td>\n",
       "      <td>NaN</td>\n",
       "      <td>NaN</td>\n",
       "      <td>40.726623</td>\n",
       "      <td>-73.988632</td>\n",
       "      <td>(40.72662273495001, -73.98863152984724)</td>\n",
       "    </tr>\n",
       "    <tr>\n",
       "      <th>157029</th>\n",
       "      <td>31258678</td>\n",
       "      <td>08-07-15 18:44</td>\n",
       "      <td>08-08-15 3:51</td>\n",
       "      <td>NYPD</td>\n",
       "      <td>New York City Police Department</td>\n",
       "      <td>Animal Abuse</td>\n",
       "      <td>Other (complaint details)</td>\n",
       "      <td>Residential Building/House</td>\n",
       "      <td>10473.0</td>\n",
       "      <td>153 HUSSON AVENUE</td>\n",
       "      <td>HUSSON AVENUE</td>\n",
       "      <td>CORNELL AVENUE</td>\n",
       "      <td>GILDERSLEEVE AVENUE</td>\n",
       "      <td>NaN</td>\n",
       "      <td>NaN</td>\n",
       "      <td>ADDRESS</td>\n",
       "      <td>BRONX</td>\n",
       "      <td>NaN</td>\n",
       "      <td>Precinct</td>\n",
       "      <td>Closed</td>\n",
       "      <td>08-08-15 2:44</td>\n",
       "      <td>The Police Department responded to the complai...</td>\n",
       "      <td>08-08-15 3:51</td>\n",
       "      <td>09 BRONX</td>\n",
       "      <td>BRONX</td>\n",
       "      <td>1025514.0</td>\n",
       "      <td>234014.0</td>\n",
       "      <td>Unspecified</td>\n",
       "      <td>BRONX</td>\n",
       "      <td>Unspecified</td>\n",
       "      <td>Unspecified</td>\n",
       "      <td>Unspecified</td>\n",
       "      <td>Unspecified</td>\n",
       "      <td>Unspecified</td>\n",
       "      <td>Unspecified</td>\n",
       "      <td>Unspecified</td>\n",
       "      <td>Unspecified</td>\n",
       "      <td>Unspecified</td>\n",
       "      <td>N</td>\n",
       "      <td>NaN</td>\n",
       "      <td>NaN</td>\n",
       "      <td>NaN</td>\n",
       "      <td>NaN</td>\n",
       "      <td>NaN</td>\n",
       "      <td>NaN</td>\n",
       "      <td>NaN</td>\n",
       "      <td>NaN</td>\n",
       "      <td>NaN</td>\n",
       "      <td>NaN</td>\n",
       "      <td>NaN</td>\n",
       "      <td>40.808894</td>\n",
       "      <td>-73.850940</td>\n",
       "      <td>(40.80889384459987, -73.85093981833116)</td>\n",
       "    </tr>\n",
       "  </tbody>\n",
       "</table>\n",
       "</div>"
      ],
      "text/plain": [
       "        Unique Key            Created Date             Closed Date Agency  \\\n",
       "112023    31545582  09/16/2015 08:28:13 AM  09/16/2015 10:22:23 PM   NYPD   \n",
       "150577    31304323  08/13/2015 11:50:08 AM  08/13/2015 02:10:55 PM   NYPD   \n",
       "215173    30870860  06/17/2015 10:20:44 PM  06/18/2015 12:01:00 AM   NYPD   \n",
       "157029    31258678          08-07-15 18:44           08-08-15 3:51   NYPD   \n",
       "\n",
       "                            Agency Name      Complaint Type  \\\n",
       "112023  New York City Police Department    Blocked Driveway   \n",
       "150577  New York City Police Department    Blocked Driveway   \n",
       "215173  New York City Police Department  Noise - Commercial   \n",
       "157029  New York City Police Department        Animal Abuse   \n",
       "\n",
       "                       Descriptor               Location Type  Incident Zip  \\\n",
       "112023                  No Access             Street/Sidewalk       11211.0   \n",
       "150577             Partial Access             Street/Sidewalk       11354.0   \n",
       "215173               Loud Talking         Club/Bar/Restaurant       10003.0   \n",
       "157029  Other (complaint details)  Residential Building/House       10473.0   \n",
       "\n",
       "          Incident Address     Street Name     Cross Street 1  \\\n",
       "112023  238 AINSLIE STREET  AINSLIE STREET   MANHATTAN AVENUE   \n",
       "150577     144-36 25 DRIVE        25 DRIVE  PARSONS BOULEVARD   \n",
       "215173   300 EAST 5 STREET   EAST 5 STREET           2 AVENUE   \n",
       "157029   153 HUSSON AVENUE   HUSSON AVENUE     CORNELL AVENUE   \n",
       "\n",
       "             Cross Street 2 Intersection Street 1 Intersection Street 2  \\\n",
       "112023        GRAHAM AVENUE                   NaN                   NaN   \n",
       "150577           146 STREET                   NaN                   NaN   \n",
       "215173             1 AVENUE                   NaN                   NaN   \n",
       "157029  GILDERSLEEVE AVENUE                   NaN                   NaN   \n",
       "\n",
       "       Address Type      City Landmark Facility Type  Status  \\\n",
       "112023      ADDRESS  BROOKLYN      NaN      Precinct  Closed   \n",
       "150577      ADDRESS  FLUSHING      NaN      Precinct  Closed   \n",
       "215173      ADDRESS  NEW YORK      NaN      Precinct  Closed   \n",
       "157029      ADDRESS     BRONX      NaN      Precinct  Closed   \n",
       "\n",
       "                      Due Date  \\\n",
       "112023  09/16/2015 04:28:13 PM   \n",
       "150577  08/13/2015 07:50:08 PM   \n",
       "215173  06/18/2015 06:20:44 AM   \n",
       "157029           08-08-15 2:44   \n",
       "\n",
       "                                   Resolution Description  \\\n",
       "112023  The Police Department responded and upon arriv...   \n",
       "150577  The Police Department responded to the complai...   \n",
       "215173  The Police Department responded to the complai...   \n",
       "157029  The Police Department responded to the complai...   \n",
       "\n",
       "       Resolution Action Updated Date Community Board    Borough  \\\n",
       "112023         09/16/2015 10:22:23 PM     01 BROOKLYN   BROOKLYN   \n",
       "150577         08/13/2015 02:10:55 PM       07 QUEENS     QUEENS   \n",
       "215173         06/18/2015 12:01:00 AM    03 MANHATTAN  MANHATTAN   \n",
       "157029                  08-08-15 3:51        09 BRONX      BRONX   \n",
       "\n",
       "        X Coordinate (State Plane)  Y Coordinate (State Plane)  \\\n",
       "112023                    999555.0                    199053.0   \n",
       "150577                   1032976.0                    221770.0   \n",
       "215173                    987401.0                    204005.0   \n",
       "157029                   1025514.0                    234014.0   \n",
       "\n",
       "       Park Facility Name Park Borough  School Name School Number  \\\n",
       "112023        Unspecified     BROOKLYN  Unspecified   Unspecified   \n",
       "150577        Unspecified       QUEENS  Unspecified   Unspecified   \n",
       "215173        Unspecified    MANHATTAN  Unspecified   Unspecified   \n",
       "157029        Unspecified        BRONX  Unspecified   Unspecified   \n",
       "\n",
       "       School Region  School Code School Phone Number School Address  \\\n",
       "112023   Unspecified  Unspecified         Unspecified    Unspecified   \n",
       "150577   Unspecified  Unspecified         Unspecified    Unspecified   \n",
       "215173   Unspecified  Unspecified         Unspecified    Unspecified   \n",
       "157029   Unspecified  Unspecified         Unspecified    Unspecified   \n",
       "\n",
       "        School City School State   School Zip School Not Found  \\\n",
       "112023  Unspecified  Unspecified  Unspecified                N   \n",
       "150577  Unspecified  Unspecified  Unspecified                N   \n",
       "215173  Unspecified  Unspecified  Unspecified                N   \n",
       "157029  Unspecified  Unspecified  Unspecified                N   \n",
       "\n",
       "        School or Citywide Complaint  Vehicle Type  Taxi Company Borough  \\\n",
       "112023                           NaN           NaN                   NaN   \n",
       "150577                           NaN           NaN                   NaN   \n",
       "215173                           NaN           NaN                   NaN   \n",
       "157029                           NaN           NaN                   NaN   \n",
       "\n",
       "        Taxi Pick Up Location Bridge Highway Name Bridge Highway Direction  \\\n",
       "112023                    NaN                 NaN                      NaN   \n",
       "150577                    NaN                 NaN                      NaN   \n",
       "215173                    NaN                 NaN                      NaN   \n",
       "157029                    NaN                 NaN                      NaN   \n",
       "\n",
       "       Road Ramp Bridge Highway Segment  Garage Lot Name Ferry Direction  \\\n",
       "112023       NaN                    NaN              NaN             NaN   \n",
       "150577       NaN                    NaN              NaN             NaN   \n",
       "215173       NaN                    NaN              NaN             NaN   \n",
       "157029       NaN                    NaN              NaN             NaN   \n",
       "\n",
       "       Ferry Terminal Name   Latitude  Longitude  \\\n",
       "112023                 NaN  40.713018 -73.944792   \n",
       "150577                 NaN  40.775249 -73.824073   \n",
       "215173                 NaN  40.726623 -73.988632   \n",
       "157029                 NaN  40.808894 -73.850940   \n",
       "\n",
       "                                       Location  \n",
       "112023  (40.71301801092523, -73.94479246808795)  \n",
       "150577  (40.77524943112796, -73.82407332754447)  \n",
       "215173  (40.72662273495001, -73.98863152984724)  \n",
       "157029  (40.80889384459987, -73.85093981833116)  "
      ]
     },
     "execution_count": 5,
     "metadata": {},
     "output_type": "execute_result"
    }
   ],
   "source": [
    "# Setting the option to view all columns of the dataset and view the data for any 4 random entries\n",
    "\n",
    "pd.set_option('display.max_columns',None)\n",
    "data.sample(4)"
   ]
  },
  {
   "cell_type": "markdown",
   "id": "3a202032",
   "metadata": {},
   "source": [
    "Now, we need to understand each feature one by one. If the feature contains all Nun or all same entries or maybe, all different entries, then we will omit such columns, since these columns do not contain information that is statistically meaningful or can give us any trend.\n",
    "\n",
    "For instance, the 'Unique Key' column has a different number for each entry whereas columns like 'Agency Name', 'Complaint Type' have a different group of lists from which we can predict which kind of complaint occurs more often (e.g frequency distribution). So we can improve our future prediction and even can take some precautions (if permissible)."
   ]
  },
  {
   "cell_type": "code",
   "execution_count": 6,
   "id": "57ec957b",
   "metadata": {},
   "outputs": [
    {
     "data": {
      "text/plain": [
       "Index(['Created Date', 'Closed Date', 'Agency', 'Agency Name',\n",
       "       'Complaint Type', 'Descriptor', 'Location Type', 'Incident Zip',\n",
       "       'Incident Address', 'Street Name', 'Cross Street 1', 'Cross Street 2',\n",
       "       'Intersection Street 1', 'Intersection Street 2', 'Address Type',\n",
       "       'City', 'Landmark', 'Facility Type', 'Status', 'Due Date',\n",
       "       'Resolution Description', 'Resolution Action Updated Date',\n",
       "       'Community Board', 'Borough', 'X Coordinate (State Plane)',\n",
       "       'Y Coordinate (State Plane)', 'Park Facility Name', 'Park Borough',\n",
       "       'School Name', 'School Number', 'School Region', 'School Code',\n",
       "       'School Phone Number', 'School Address', 'School City', 'School State',\n",
       "       'School Zip', 'School Not Found', 'School or Citywide Complaint',\n",
       "       'Vehicle Type', 'Taxi Company Borough', 'Taxi Pick Up Location',\n",
       "       'Bridge Highway Name', 'Bridge Highway Direction', 'Road Ramp',\n",
       "       'Bridge Highway Segment', 'Garage Lot Name', 'Ferry Direction',\n",
       "       'Ferry Terminal Name', 'Latitude', 'Longitude', 'Location'],\n",
       "      dtype='object')"
      ]
     },
     "execution_count": 6,
     "metadata": {},
     "output_type": "execute_result"
    }
   ],
   "source": [
    "# Dropping columns and saving it in another data frame\n",
    "\n",
    "data_mod = data.drop(columns=['Unique Key'],axis=1)\n",
    "data_mod.columns"
   ]
  },
  {
   "cell_type": "code",
   "execution_count": 7,
   "id": "f625053e",
   "metadata": {},
   "outputs": [
    {
     "data": {
      "text/plain": [
       "array(['NYPD'], dtype=object)"
      ]
     },
     "execution_count": 7,
     "metadata": {},
     "output_type": "execute_result"
    }
   ],
   "source": [
    "# To evaluate distinguishable outcomes belong to this feature\n",
    "\n",
    "pd.unique(data['Agency'])"
   ]
  },
  {
   "cell_type": "code",
   "execution_count": 8,
   "id": "28f9d397",
   "metadata": {},
   "outputs": [
    {
     "data": {
      "text/plain": [
       "NYPD    300698\n",
       "Name: Agency, dtype: int64"
      ]
     },
     "execution_count": 8,
     "metadata": {},
     "output_type": "execute_result"
    }
   ],
   "source": [
    "# Frequency of the different outcomes\n",
    "\n",
    "data['Agency'].value_counts()"
   ]
  },
  {
   "cell_type": "code",
   "execution_count": 9,
   "id": "e3236acc",
   "metadata": {},
   "outputs": [
    {
     "data": {
      "text/plain": [
       "array(['New York City Police Department', 'NYPD',\n",
       "       'Internal Affairs Bureau'], dtype=object)"
      ]
     },
     "execution_count": 9,
     "metadata": {},
     "output_type": "execute_result"
    }
   ],
   "source": [
    "data_mod = data_mod.drop(columns=['Agency'],axis=1)\n",
    "pd.unique(data['Agency Name'])"
   ]
  },
  {
   "cell_type": "code",
   "execution_count": 10,
   "id": "9825cf3f",
   "metadata": {},
   "outputs": [
    {
     "data": {
      "text/plain": [
       "New York City Police Department    300690\n",
       "Internal Affairs Bureau                 6\n",
       "NYPD                                    2\n",
       "Name: Agency Name, dtype: int64"
      ]
     },
     "execution_count": 10,
     "metadata": {},
     "output_type": "execute_result"
    }
   ],
   "source": [
    "data['Agency Name'].value_counts()"
   ]
  },
  {
   "cell_type": "code",
   "execution_count": 11,
   "id": "ff8e89e1",
   "metadata": {},
   "outputs": [
    {
     "data": {
      "text/plain": [
       "Blocked Driveway           77044\n",
       "Illegal Parking            75361\n",
       "Noise - Street/Sidewalk    48612\n",
       "Noise - Commercial         35577\n",
       "Derelict Vehicle           17718\n",
       "Name: Complaint Type, dtype: int64"
      ]
     },
     "execution_count": 11,
     "metadata": {},
     "output_type": "execute_result"
    }
   ],
   "source": [
    "data['Complaint Type'].value_counts().head(5)"
   ]
  },
  {
   "cell_type": "code",
   "execution_count": 12,
   "id": "34e25250",
   "metadata": {},
   "outputs": [
    {
     "data": {
      "text/plain": [
       "Loud Music/Party                 61430\n",
       "No Access                        56976\n",
       "Posted Parking Sign Violation    22440\n",
       "Loud Talking                     21584\n",
       "Partial Access                   20068\n",
       "Name: Descriptor, dtype: int64"
      ]
     },
     "execution_count": 12,
     "metadata": {},
     "output_type": "execute_result"
    }
   ],
   "source": [
    "data.Descriptor.value_counts().head(5)"
   ]
  },
  {
   "cell_type": "code",
   "execution_count": 13,
   "id": "45f4c3f3",
   "metadata": {},
   "outputs": [
    {
     "data": {
      "text/plain": [
       "Street/Sidewalk               249299\n",
       "Store/Commercial               20381\n",
       "Club/Bar/Restaurant            17360\n",
       "Residential Building/House      6960\n",
       "Name: Location Type, dtype: int64"
      ]
     },
     "execution_count": 13,
     "metadata": {},
     "output_type": "execute_result"
    }
   ],
   "source": [
    "data['Location Type'].value_counts().head(4)"
   ]
  },
  {
   "cell_type": "code",
   "execution_count": 14,
   "id": "e6c1c20e",
   "metadata": {},
   "outputs": [
    {
     "data": {
      "text/plain": [
       "11385.0    5167\n",
       "11368.0    4298\n",
       "11211.0    4225\n",
       "11234.0    4150\n",
       "Name: Incident Zip, dtype: int64"
      ]
     },
     "execution_count": 14,
     "metadata": {},
     "output_type": "execute_result"
    }
   ],
   "source": [
    "data['Incident Zip'].value_counts().head(4)"
   ]
  },
  {
   "cell_type": "code",
   "execution_count": 15,
   "id": "cde20159",
   "metadata": {},
   "outputs": [
    {
     "data": {
      "text/plain": [
       "1207 BEACH AVENUE          904\n",
       "78-15 PARSONS BOULEVARD    505\n",
       "89 MOORE STREET            480\n",
       "177 LAREDO AVENUE          311\n",
       "Name: Incident Address, dtype: int64"
      ]
     },
     "execution_count": 15,
     "metadata": {},
     "output_type": "execute_result"
    }
   ],
   "source": [
    "data['Incident Address'].value_counts().head(4)"
   ]
  },
  {
   "cell_type": "code",
   "execution_count": 16,
   "id": "11264b5c",
   "metadata": {},
   "outputs": [
    {
     "data": {
      "text/plain": [
       "BROADWAY          3237\n",
       "3 AVENUE          1241\n",
       "SHERMAN AVENUE    1156\n",
       "BEACH AVENUE      1109\n",
       "BEDFORD AVENUE     979\n",
       "Name: Street Name, dtype: int64"
      ]
     },
     "execution_count": 16,
     "metadata": {},
     "output_type": "execute_result"
    }
   ],
   "source": [
    "data['Street Name'].value_counts().head(5)"
   ]
  },
  {
   "cell_type": "code",
   "execution_count": 17,
   "id": "bf0fdaaa",
   "metadata": {},
   "outputs": [
    {
     "data": {
      "text/plain": [
       "BROADWAY    4338\n",
       "BEND        4129\n",
       "3 AVENUE    3112\n",
       "5 AVENUE    3035\n",
       "Name: Cross Street 1, dtype: int64"
      ]
     },
     "execution_count": 17,
     "metadata": {},
     "output_type": "execute_result"
    }
   ],
   "source": [
    "data['Cross Street 1'].value_counts().head(4)"
   ]
  },
  {
   "cell_type": "code",
   "execution_count": 18,
   "id": "4821150e",
   "metadata": {},
   "outputs": [
    {
     "data": {
      "text/plain": [
       "BEND        4391\n",
       "BROADWAY    3784\n",
       "8 AVENUE    2766\n",
       "DEAD END    2144\n",
       "Name: Cross Street 2, dtype: int64"
      ]
     },
     "execution_count": 18,
     "metadata": {},
     "output_type": "execute_result"
    }
   ],
   "source": [
    "data['Cross Street 2'].value_counts().head(4)"
   ]
  },
  {
   "cell_type": "code",
   "execution_count": 19,
   "id": "b96de848",
   "metadata": {},
   "outputs": [
    {
     "data": {
      "text/plain": [
       "BROADWAY      672\n",
       "170 STREET    441\n",
       "44 STREET     355\n",
       "6 AVENUE      348\n",
       "Name: Intersection Street 1, dtype: int64"
      ]
     },
     "execution_count": 19,
     "metadata": {},
     "output_type": "execute_result"
    }
   ],
   "source": [
    "data['Intersection Street 1'].value_counts().head(4)"
   ]
  },
  {
   "cell_type": "code",
   "execution_count": 20,
   "id": "07bff2e1",
   "metadata": {},
   "outputs": [
    {
     "data": {
      "text/plain": [
       "BROADWAY    1358\n",
       "6 AVENUE     715\n",
       "2 AVENUE     617\n",
       "5 AVENUE     551\n",
       "Name: Intersection Street 2, dtype: int64"
      ]
     },
     "execution_count": 20,
     "metadata": {},
     "output_type": "execute_result"
    }
   ],
   "source": [
    "data['Intersection Street 2'].value_counts().head(4)"
   ]
  },
  {
   "cell_type": "code",
   "execution_count": 21,
   "id": "01ba7b28",
   "metadata": {},
   "outputs": [
    {
     "data": {
      "text/plain": [
       "ADDRESS         238644\n",
       "INTERSECTION     43366\n",
       "BLOCKFACE        12014\n",
       "LATLONG           3509\n",
       "Name: Address Type, dtype: int64"
      ]
     },
     "execution_count": 21,
     "metadata": {},
     "output_type": "execute_result"
    }
   ],
   "source": [
    "data['Address Type'].value_counts().head(4)"
   ]
  },
  {
   "cell_type": "code",
   "execution_count": 22,
   "id": "aaec44c0",
   "metadata": {},
   "outputs": [
    {
     "data": {
      "text/plain": [
       "BROOKLYN         98307\n",
       "NEW YORK         65994\n",
       "BRONX            40702\n",
       "STATEN ISLAND    12343\n",
       "Name: City, dtype: int64"
      ]
     },
     "execution_count": 22,
     "metadata": {},
     "output_type": "execute_result"
    }
   ],
   "source": [
    "data['City'].value_counts().head(4)"
   ]
  },
  {
   "cell_type": "code",
   "execution_count": 23,
   "id": "054d5a56",
   "metadata": {},
   "outputs": [
    {
     "data": {
      "text/plain": [
       "CENTRAL PARK              67\n",
       "PROSPECT PARK             22\n",
       "WASHINGTON SQUARE PARK    16\n",
       "SUNSET PARK               13\n",
       "UNION SQUARE PARK         13\n",
       "Name: Landmark, dtype: int64"
      ]
     },
     "execution_count": 23,
     "metadata": {},
     "output_type": "execute_result"
    }
   ],
   "source": [
    "data.Landmark.value_counts().head(5)"
   ]
  },
  {
   "cell_type": "code",
   "execution_count": 24,
   "id": "c715c74c",
   "metadata": {},
   "outputs": [
    {
     "data": {
      "text/plain": [
       "Precinct    298527\n",
       "Name: Facility Type, dtype: int64"
      ]
     },
     "execution_count": 24,
     "metadata": {},
     "output_type": "execute_result"
    }
   ],
   "source": [
    "data['Facility Type'].value_counts()"
   ]
  },
  {
   "cell_type": "code",
   "execution_count": 25,
   "id": "66561360",
   "metadata": {},
   "outputs": [
    {
     "data": {
      "text/plain": [
       "Closed      298471\n",
       "Open          1439\n",
       "Assigned       786\n",
       "Draft            2\n",
       "Name: Status, dtype: int64"
      ]
     },
     "execution_count": 25,
     "metadata": {},
     "output_type": "execute_result"
    }
   ],
   "source": [
    "data.Status.value_counts()"
   ]
  },
  {
   "cell_type": "code",
   "execution_count": 26,
   "id": "2e8ae021",
   "metadata": {},
   "outputs": [
    {
     "data": {
      "text/plain": [
       "11-07-15 7:34    9\n",
       "06-07-15 6:23    9\n",
       "07-12-15 7:04    9\n",
       "11-02-15 6:12    8\n",
       "Name: Due Date, dtype: int64"
      ]
     },
     "execution_count": 26,
     "metadata": {},
     "output_type": "execute_result"
    }
   ],
   "source": [
    "data['Due Date'].value_counts().head(4)"
   ]
  },
  {
   "cell_type": "code",
   "execution_count": 27,
   "id": "daa79d89",
   "metadata": {},
   "outputs": [
    {
     "data": {
      "text/plain": [
       "The Police Department responded to the complaint and with the information available observed no evidence of the violation at that time.    90490\n",
       "The Police Department responded to the complaint and took action to fix the condition.                                                     61624\n",
       "The Police Department responded and upon arrival those responsible for the condition were gone.                                            58031\n",
       "The Police Department responded to the complaint and determined that police action was not necessary.                                      38211\n",
       "Name: Resolution Description, dtype: int64"
      ]
     },
     "execution_count": 27,
     "metadata": {},
     "output_type": "execute_result"
    }
   ],
   "source": [
    "data['Resolution Description'].value_counts().head(4)"
   ]
  },
  {
   "cell_type": "code",
   "execution_count": 28,
   "id": "0c529c50",
   "metadata": {},
   "outputs": [
    {
     "data": {
      "text/plain": [
       "Unspecified                        300697\n",
       "Alley Pond Park - Nature Center         1\n",
       "Name: School Name, dtype: int64"
      ]
     },
     "execution_count": 28,
     "metadata": {},
     "output_type": "execute_result"
    }
   ],
   "source": [
    "data['School Name'].value_counts()"
   ]
  },
  {
   "cell_type": "code",
   "execution_count": 29,
   "id": "f0c947a9",
   "metadata": {},
   "outputs": [
    {
     "data": {
      "text/plain": [
       "Unspecified    300697\n",
       "Q001                1\n",
       "Name: School Number, dtype: int64"
      ]
     },
     "execution_count": 29,
     "metadata": {},
     "output_type": "execute_result"
    }
   ],
   "source": [
    "data['School Number'].value_counts()"
   ]
  },
  {
   "cell_type": "code",
   "execution_count": 30,
   "id": "4ca38816",
   "metadata": {},
   "outputs": [
    {
     "data": {
      "text/plain": [
       "Unspecified    300697\n",
       "Name: School Region, dtype: int64"
      ]
     },
     "execution_count": 30,
     "metadata": {},
     "output_type": "execute_result"
    }
   ],
   "source": [
    "data['School Region'].value_counts()"
   ]
  },
  {
   "cell_type": "code",
   "execution_count": 31,
   "id": "ed662f48",
   "metadata": {},
   "outputs": [
    {
     "data": {
      "text/plain": [
       "N    300698\n",
       "Name: School Not Found, dtype: int64"
      ]
     },
     "execution_count": 31,
     "metadata": {},
     "output_type": "execute_result"
    }
   ],
   "source": [
    "data['School Not Found'].value_counts()"
   ]
  },
  {
   "cell_type": "code",
   "execution_count": 32,
   "id": "60b85a76",
   "metadata": {},
   "outputs": [
    {
     "data": {
      "text/plain": [
       "Unspecified    300697\n",
       "Name: School Code, dtype: int64"
      ]
     },
     "execution_count": 32,
     "metadata": {},
     "output_type": "execute_result"
    }
   ],
   "source": [
    "data['School Code'].value_counts()"
   ]
  },
  {
   "cell_type": "code",
   "execution_count": 33,
   "id": "fd383185",
   "metadata": {},
   "outputs": [
    {
     "data": {
      "text/plain": [
       "Unspecified    300697\n",
       "7182176034          1\n",
       "Name: School Phone Number, dtype: int64"
      ]
     },
     "execution_count": 33,
     "metadata": {},
     "output_type": "execute_result"
    }
   ],
   "source": [
    "data['School Phone Number'].value_counts()"
   ]
  },
  {
   "cell_type": "code",
   "execution_count": 34,
   "id": "516e09b5",
   "metadata": {},
   "outputs": [
    {
     "data": {
      "text/plain": [
       "Unspecified                                     300697\n",
       "Grand Central Parkway, near the soccer field         1\n",
       "Name: School Address, dtype: int64"
      ]
     },
     "execution_count": 34,
     "metadata": {},
     "output_type": "execute_result"
    }
   ],
   "source": [
    "data['School Address'].value_counts()"
   ]
  },
  {
   "cell_type": "code",
   "execution_count": 35,
   "id": "c51b4637",
   "metadata": {},
   "outputs": [
    {
     "data": {
      "text/plain": [
       "Unspecified    300697\n",
       "QUEENS              1\n",
       "Name: School City, dtype: int64"
      ]
     },
     "execution_count": 35,
     "metadata": {},
     "output_type": "execute_result"
    }
   ],
   "source": [
    "data['School City'].value_counts()"
   ]
  },
  {
   "cell_type": "code",
   "execution_count": 36,
   "id": "8707b2a6",
   "metadata": {},
   "outputs": [
    {
     "data": {
      "text/plain": [
       "Unspecified    300697\n",
       "NY                  1\n",
       "Name: School State, dtype: int64"
      ]
     },
     "execution_count": 36,
     "metadata": {},
     "output_type": "execute_result"
    }
   ],
   "source": [
    "data['School State'].value_counts()"
   ]
  },
  {
   "cell_type": "code",
   "execution_count": 37,
   "id": "6d14f6d2",
   "metadata": {},
   "outputs": [
    {
     "data": {
      "text/plain": [
       "Unspecified    300697\n",
       "Name: School Zip, dtype: int64"
      ]
     },
     "execution_count": 37,
     "metadata": {},
     "output_type": "execute_result"
    }
   ],
   "source": [
    "data['School Zip'].value_counts()"
   ]
  },
  {
   "cell_type": "code",
   "execution_count": 38,
   "id": "aaeb3cc1",
   "metadata": {},
   "outputs": [
    {
     "data": {
      "text/plain": [
       "N    300698\n",
       "Name: School Not Found, dtype: int64"
      ]
     },
     "execution_count": 38,
     "metadata": {},
     "output_type": "execute_result"
    }
   ],
   "source": [
    "data['School Not Found'].value_counts()"
   ]
  },
  {
   "cell_type": "code",
   "execution_count": 39,
   "id": "50123bd9",
   "metadata": {},
   "outputs": [
    {
     "data": {
      "text/plain": [
       "Series([], Name: School or Citywide Complaint, dtype: int64)"
      ]
     },
     "execution_count": 39,
     "metadata": {},
     "output_type": "execute_result"
    }
   ],
   "source": [
    "data['School or Citywide Complaint'].value_counts()"
   ]
  },
  {
   "cell_type": "code",
   "execution_count": 40,
   "id": "dbb4a44b",
   "metadata": {},
   "outputs": [
    {
     "data": {
      "text/plain": [
       "Index(['Unique Key', 'Created Date', 'Closed Date', 'Agency', 'Agency Name',\n",
       "       'Complaint Type', 'Descriptor', 'Location Type', 'Incident Zip',\n",
       "       'Incident Address', 'Street Name', 'Cross Street 1', 'Cross Street 2',\n",
       "       'Intersection Street 1', 'Intersection Street 2', 'Address Type',\n",
       "       'City', 'Landmark', 'Facility Type', 'Status', 'Due Date',\n",
       "       'Resolution Description', 'Resolution Action Updated Date',\n",
       "       'Community Board', 'Borough', 'X Coordinate (State Plane)',\n",
       "       'Y Coordinate (State Plane)', 'Park Facility Name', 'Park Borough',\n",
       "       'School Name', 'School Number', 'School Region', 'School Code',\n",
       "       'School Phone Number', 'School Address', 'School City', 'School State',\n",
       "       'School Zip', 'School Not Found', 'School or Citywide Complaint',\n",
       "       'Vehicle Type', 'Taxi Company Borough', 'Taxi Pick Up Location',\n",
       "       'Bridge Highway Name', 'Bridge Highway Direction', 'Road Ramp',\n",
       "       'Bridge Highway Segment', 'Garage Lot Name', 'Ferry Direction',\n",
       "       'Ferry Terminal Name', 'Latitude', 'Longitude', 'Location'],\n",
       "      dtype='object')"
      ]
     },
     "execution_count": 40,
     "metadata": {},
     "output_type": "execute_result"
    }
   ],
   "source": [
    "data.columns"
   ]
  },
  {
   "cell_type": "code",
   "execution_count": 41,
   "id": "e8a791bc",
   "metadata": {},
   "outputs": [],
   "source": [
    "data_mod = data_mod.drop(columns=['School Name', 'School Number', 'School Region', 'School Code',\n",
    "                              'School Phone Number', 'School Address', 'School City', 'School State',\n",
    "                                 'School Zip', 'School Not Found', 'School or Citywide Complaint'],axis=1)"
   ]
  },
  {
   "cell_type": "code",
   "execution_count": 42,
   "id": "c94ce85a",
   "metadata": {},
   "outputs": [
    {
     "data": {
      "text/plain": [
       "Index(['Created Date', 'Closed Date', 'Agency Name', 'Complaint Type',\n",
       "       'Descriptor', 'Location Type', 'Incident Zip', 'Incident Address',\n",
       "       'Street Name', 'Cross Street 1', 'Cross Street 2',\n",
       "       'Intersection Street 1', 'Intersection Street 2', 'Address Type',\n",
       "       'City', 'Landmark', 'Facility Type', 'Status', 'Due Date',\n",
       "       'Resolution Description', 'Resolution Action Updated Date',\n",
       "       'Community Board', 'Borough', 'X Coordinate (State Plane)',\n",
       "       'Y Coordinate (State Plane)', 'Park Facility Name', 'Park Borough',\n",
       "       'Vehicle Type', 'Taxi Company Borough', 'Taxi Pick Up Location',\n",
       "       'Bridge Highway Name', 'Bridge Highway Direction', 'Road Ramp',\n",
       "       'Bridge Highway Segment', 'Garage Lot Name', 'Ferry Direction',\n",
       "       'Ferry Terminal Name', 'Latitude', 'Longitude', 'Location'],\n",
       "      dtype='object')"
      ]
     },
     "execution_count": 42,
     "metadata": {},
     "output_type": "execute_result"
    }
   ],
   "source": [
    "data_mod.columns"
   ]
  },
  {
   "cell_type": "code",
   "execution_count": 43,
   "id": "79c659a0",
   "metadata": {},
   "outputs": [
    {
     "data": {
      "text/plain": [
       "Series([], Name: Vehicle Type, dtype: int64)"
      ]
     },
     "execution_count": 43,
     "metadata": {},
     "output_type": "execute_result"
    }
   ],
   "source": [
    "data['Vehicle Type'].value_counts()"
   ]
  },
  {
   "cell_type": "code",
   "execution_count": 44,
   "id": "fd5abe7d",
   "metadata": {},
   "outputs": [
    {
     "data": {
      "text/plain": [
       "Series([], Name: Taxi Company Borough, dtype: int64)"
      ]
     },
     "execution_count": 44,
     "metadata": {},
     "output_type": "execute_result"
    }
   ],
   "source": [
    "data['Taxi Company Borough'].value_counts()"
   ]
  },
  {
   "cell_type": "code",
   "execution_count": 45,
   "id": "88aa2037",
   "metadata": {},
   "outputs": [
    {
     "data": {
      "text/plain": [
       "Series([], Name: Taxi Pick Up Location, dtype: int64)"
      ]
     },
     "execution_count": 45,
     "metadata": {},
     "output_type": "execute_result"
    }
   ],
   "source": [
    "data['Taxi Pick Up Location'].value_counts()"
   ]
  },
  {
   "cell_type": "code",
   "execution_count": 46,
   "id": "9f3f137b",
   "metadata": {},
   "outputs": [],
   "source": [
    "data_mod = data_mod.drop(columns=['Vehicle Type','Taxi Company Borough','Taxi Pick Up Location'],axis=1)"
   ]
  },
  {
   "cell_type": "code",
   "execution_count": 47,
   "id": "ca2ccde2",
   "metadata": {},
   "outputs": [
    {
     "data": {
      "text/plain": [
       "Index(['Created Date', 'Closed Date', 'Agency Name', 'Complaint Type',\n",
       "       'Descriptor', 'Location Type', 'Incident Zip', 'Incident Address',\n",
       "       'Street Name', 'Cross Street 1', 'Cross Street 2',\n",
       "       'Intersection Street 1', 'Intersection Street 2', 'Address Type',\n",
       "       'City', 'Landmark', 'Facility Type', 'Status', 'Due Date',\n",
       "       'Resolution Description', 'Resolution Action Updated Date',\n",
       "       'Community Board', 'Borough', 'X Coordinate (State Plane)',\n",
       "       'Y Coordinate (State Plane)', 'Park Facility Name', 'Park Borough',\n",
       "       'Bridge Highway Name', 'Bridge Highway Direction', 'Road Ramp',\n",
       "       'Bridge Highway Segment', 'Garage Lot Name', 'Ferry Direction',\n",
       "       'Ferry Terminal Name', 'Latitude', 'Longitude', 'Location'],\n",
       "      dtype='object')"
      ]
     },
     "execution_count": 47,
     "metadata": {},
     "output_type": "execute_result"
    }
   ],
   "source": [
    "data_mod.columns"
   ]
  },
  {
   "cell_type": "code",
   "execution_count": 48,
   "id": "34cbd560",
   "metadata": {},
   "outputs": [
    {
     "data": {
      "text/plain": [
       "FDR Dr                 33\n",
       "Belt Pkwy              30\n",
       "BQE/Gowanus Expwy      27\n",
       "Staten Island Expwy    21\n",
       "Cross Bronx Expwy      19\n",
       "Name: Bridge Highway Name, dtype: int64"
      ]
     },
     "execution_count": 48,
     "metadata": {},
     "output_type": "execute_result"
    }
   ],
   "source": [
    "data['Bridge Highway Name'].value_counts().head(5)"
   ]
  },
  {
   "cell_type": "code",
   "execution_count": 49,
   "id": "cd2a46f3",
   "metadata": {},
   "outputs": [
    {
     "data": {
      "text/plain": [
       "East/Queens Bound           21\n",
       "Northbound/Uptown           20\n",
       "North/Bronx Bound           20\n",
       "West/Staten Island Bound    18\n",
       "Name: Bridge Highway Direction, dtype: int64"
      ]
     },
     "execution_count": 49,
     "metadata": {},
     "output_type": "execute_result"
    }
   ],
   "source": [
    "data['Bridge Highway Direction'].value_counts().head(4)"
   ]
  },
  {
   "cell_type": "code",
   "execution_count": 50,
   "id": "54a22b2a",
   "metadata": {},
   "outputs": [
    {
     "data": {
      "text/plain": [
       "Roadway    162\n",
       "Ramp        51\n",
       "Name: Road Ramp, dtype: int64"
      ]
     },
     "execution_count": 50,
     "metadata": {},
     "output_type": "execute_result"
    }
   ],
   "source": [
    "data['Road Ramp'].value_counts()"
   ]
  },
  {
   "cell_type": "code",
   "execution_count": 51,
   "id": "39a8183f",
   "metadata": {},
   "outputs": [
    {
     "data": {
      "text/plain": [
       "East 96th St (Exit 14) - Triborough Br (Exit 17)                              6\n",
       "Bronx River Pkwy (Exit 4B) - Westchester Ave / White Plains Road (Exit 5A)    5\n",
       "Westchester Ave / White Plains Road (Exit 5A) - Castle Hill Ave (Exit 5B)     3\n",
       "Richmond Ave (Exit 7) - Victory Blvd (Exit 8)                                 3\n",
       "BEGIN Staten Island Expwy (Exit 15N) - Lily Pond Ave/Bay St (Exit 15S)        3\n",
       "East 177th St/Sheridan Expwy (I-895) (Exit 5)                                 3\n",
       "Name: Bridge Highway Segment, dtype: int64"
      ]
     },
     "execution_count": 51,
     "metadata": {},
     "output_type": "execute_result"
    }
   ],
   "source": [
    "data['Bridge Highway Segment'].value_counts().head(6)"
   ]
  },
  {
   "cell_type": "code",
   "execution_count": 52,
   "id": "5fbd6464",
   "metadata": {},
   "outputs": [
    {
     "data": {
      "text/plain": [
       "Series([], Name: Garage Lot Name, dtype: int64)"
      ]
     },
     "execution_count": 52,
     "metadata": {},
     "output_type": "execute_result"
    }
   ],
   "source": [
    "data['Garage Lot Name'].value_counts()"
   ]
  },
  {
   "cell_type": "code",
   "execution_count": 53,
   "id": "f67c0e7c",
   "metadata": {},
   "outputs": [
    {
     "data": {
      "text/plain": [
       "Manhattan Bound    1\n",
       "Name: Ferry Direction, dtype: int64"
      ]
     },
     "execution_count": 53,
     "metadata": {},
     "output_type": "execute_result"
    }
   ],
   "source": [
    "data['Ferry Direction'].value_counts()"
   ]
  },
  {
   "cell_type": "code",
   "execution_count": 54,
   "id": "2d88ef93",
   "metadata": {},
   "outputs": [
    {
     "data": {
      "text/plain": [
       "St. George Terminal (Staten Island)    1\n",
       "Barberi                                1\n",
       "Name: Ferry Terminal Name, dtype: int64"
      ]
     },
     "execution_count": 54,
     "metadata": {},
     "output_type": "execute_result"
    }
   ],
   "source": [
    "data['Ferry Terminal Name'].value_counts()"
   ]
  },
  {
   "cell_type": "code",
   "execution_count": 55,
   "id": "deccb0c6",
   "metadata": {},
   "outputs": [],
   "source": [
    "data_mod = data_mod.drop(columns=['Garage Lot Name','Ferry Direction','Ferry Terminal Name'],axis=1)"
   ]
  },
  {
   "cell_type": "code",
   "execution_count": 56,
   "id": "3a112139",
   "metadata": {},
   "outputs": [
    {
     "data": {
      "text/plain": [
       "Index(['Created Date', 'Closed Date', 'Agency Name', 'Complaint Type',\n",
       "       'Descriptor', 'Location Type', 'Incident Zip', 'Incident Address',\n",
       "       'Street Name', 'Cross Street 1', 'Cross Street 2',\n",
       "       'Intersection Street 1', 'Intersection Street 2', 'Address Type',\n",
       "       'City', 'Landmark', 'Facility Type', 'Status', 'Due Date',\n",
       "       'Resolution Description', 'Resolution Action Updated Date',\n",
       "       'Community Board', 'Borough', 'X Coordinate (State Plane)',\n",
       "       'Y Coordinate (State Plane)', 'Park Facility Name', 'Park Borough',\n",
       "       'Bridge Highway Name', 'Bridge Highway Direction', 'Road Ramp',\n",
       "       'Bridge Highway Segment', 'Latitude', 'Longitude', 'Location'],\n",
       "      dtype='object')"
      ]
     },
     "execution_count": 56,
     "metadata": {},
     "output_type": "execute_result"
    }
   ],
   "source": [
    "data_mod.columns"
   ]
  },
  {
   "cell_type": "code",
   "execution_count": 57,
   "id": "be73bd77",
   "metadata": {},
   "outputs": [
    {
     "data": {
      "text/plain": [
       "40.830362    902\n",
       "40.721959    505\n",
       "40.703819    480\n",
       "40.647132    362\n",
       "40.708726    341\n",
       "Name: Latitude, dtype: int64"
      ]
     },
     "execution_count": 57,
     "metadata": {},
     "output_type": "execute_result"
    }
   ],
   "source": [
    "data['Latitude'].value_counts().head(5)"
   ]
  },
  {
   "cell_type": "code",
   "execution_count": 58,
   "id": "82c10ed4",
   "metadata": {},
   "outputs": [
    {
     "data": {
      "text/plain": [
       "-73.866022    902\n",
       "-73.809697    505\n",
       "-73.942073    480\n",
       "-73.790654    341\n",
       "-74.004623    340\n",
       "Name: Longitude, dtype: int64"
      ]
     },
     "execution_count": 58,
     "metadata": {},
     "output_type": "execute_result"
    }
   ],
   "source": [
    "data['Longitude'].value_counts().head(5)"
   ]
  },
  {
   "cell_type": "code",
   "execution_count": 59,
   "id": "a9dd5097",
   "metadata": {},
   "outputs": [
    {
     "data": {
      "text/plain": [
       "(40.83036235589997, -73.86602154214397)     902\n",
       "(40.72195913199264, -73.80969682426189)     505\n",
       "(40.703818970933284, -73.94207345177706)    476\n",
       "(40.708726489323325, -73.7906539235748)     341\n",
       "Name: Location, dtype: int64"
      ]
     },
     "execution_count": 59,
     "metadata": {},
     "output_type": "execute_result"
    }
   ],
   "source": [
    "data['Location'].value_counts().head(4)"
   ]
  },
  {
   "cell_type": "code",
   "execution_count": 60,
   "id": "ebfbfefb",
   "metadata": {},
   "outputs": [
    {
     "data": {
      "text/html": [
       "<div>\n",
       "<style scoped>\n",
       "    .dataframe tbody tr th:only-of-type {\n",
       "        vertical-align: middle;\n",
       "    }\n",
       "\n",
       "    .dataframe tbody tr th {\n",
       "        vertical-align: top;\n",
       "    }\n",
       "\n",
       "    .dataframe thead th {\n",
       "        text-align: right;\n",
       "    }\n",
       "</style>\n",
       "<table border=\"1\" class=\"dataframe\">\n",
       "  <thead>\n",
       "    <tr style=\"text-align: right;\">\n",
       "      <th></th>\n",
       "      <th>Created Date</th>\n",
       "      <th>Closed Date</th>\n",
       "      <th>Agency Name</th>\n",
       "      <th>Complaint Type</th>\n",
       "      <th>Descriptor</th>\n",
       "      <th>Location Type</th>\n",
       "      <th>Incident Zip</th>\n",
       "      <th>Incident Address</th>\n",
       "      <th>Street Name</th>\n",
       "      <th>Cross Street 1</th>\n",
       "      <th>Cross Street 2</th>\n",
       "      <th>Intersection Street 1</th>\n",
       "      <th>Intersection Street 2</th>\n",
       "      <th>Address Type</th>\n",
       "      <th>City</th>\n",
       "      <th>Landmark</th>\n",
       "      <th>Facility Type</th>\n",
       "      <th>Status</th>\n",
       "      <th>Due Date</th>\n",
       "      <th>Resolution Description</th>\n",
       "      <th>Resolution Action Updated Date</th>\n",
       "      <th>Community Board</th>\n",
       "      <th>Borough</th>\n",
       "      <th>X Coordinate (State Plane)</th>\n",
       "      <th>Y Coordinate (State Plane)</th>\n",
       "      <th>Park Facility Name</th>\n",
       "      <th>Park Borough</th>\n",
       "      <th>Bridge Highway Name</th>\n",
       "      <th>Bridge Highway Direction</th>\n",
       "      <th>Road Ramp</th>\n",
       "      <th>Bridge Highway Segment</th>\n",
       "      <th>Latitude</th>\n",
       "      <th>Longitude</th>\n",
       "      <th>Location</th>\n",
       "    </tr>\n",
       "  </thead>\n",
       "  <tbody>\n",
       "    <tr>\n",
       "      <th>276593</th>\n",
       "      <td>04/25/2015 07:09:12 AM</td>\n",
       "      <td>04/25/2015 09:12:50 AM</td>\n",
       "      <td>New York City Police Department</td>\n",
       "      <td>Blocked Driveway</td>\n",
       "      <td>No Access</td>\n",
       "      <td>Street/Sidewalk</td>\n",
       "      <td>11420.0</td>\n",
       "      <td>125-07 ROCKAWAY BOULEVARD</td>\n",
       "      <td>ROCKAWAY BOULEVARD</td>\n",
       "      <td>125 STREET</td>\n",
       "      <td>126 STREET</td>\n",
       "      <td>NaN</td>\n",
       "      <td>NaN</td>\n",
       "      <td>ADDRESS</td>\n",
       "      <td>SOUTH OZONE PARK</td>\n",
       "      <td>NaN</td>\n",
       "      <td>Precinct</td>\n",
       "      <td>Closed</td>\n",
       "      <td>04/25/2015 03:09:12 PM</td>\n",
       "      <td>The Police Department issued a summons in resp...</td>\n",
       "      <td>04/25/2015 09:12:50 AM</td>\n",
       "      <td>10 QUEENS</td>\n",
       "      <td>QUEENS</td>\n",
       "      <td>1036268.0</td>\n",
       "      <td>185384.0</td>\n",
       "      <td>Unspecified</td>\n",
       "      <td>QUEENS</td>\n",
       "      <td>NaN</td>\n",
       "      <td>NaN</td>\n",
       "      <td>NaN</td>\n",
       "      <td>NaN</td>\n",
       "      <td>40.675360</td>\n",
       "      <td>-73.812469</td>\n",
       "      <td>(40.67536017924152, -73.81246874581379)</td>\n",
       "    </tr>\n",
       "    <tr>\n",
       "      <th>57145</th>\n",
       "      <td>11-04-15 22:07</td>\n",
       "      <td>11-04-15 22:40</td>\n",
       "      <td>New York City Police Department</td>\n",
       "      <td>Blocked Driveway</td>\n",
       "      <td>No Access</td>\n",
       "      <td>Street/Sidewalk</td>\n",
       "      <td>10465.0</td>\n",
       "      <td>3088 HATTING PLACE</td>\n",
       "      <td>HATTING PLACE</td>\n",
       "      <td>PENNYFIELD AVENUE</td>\n",
       "      <td>DEAD END</td>\n",
       "      <td>NaN</td>\n",
       "      <td>NaN</td>\n",
       "      <td>ADDRESS</td>\n",
       "      <td>BRONX</td>\n",
       "      <td>NaN</td>\n",
       "      <td>Precinct</td>\n",
       "      <td>Closed</td>\n",
       "      <td>11-05-15 6:07</td>\n",
       "      <td>The Police Department responded to the complai...</td>\n",
       "      <td>11-04-15 22:40</td>\n",
       "      <td>10 BRONX</td>\n",
       "      <td>BRONX</td>\n",
       "      <td>1037637.0</td>\n",
       "      <td>235981.0</td>\n",
       "      <td>Unspecified</td>\n",
       "      <td>BRONX</td>\n",
       "      <td>NaN</td>\n",
       "      <td>NaN</td>\n",
       "      <td>NaN</td>\n",
       "      <td>NaN</td>\n",
       "      <td>40.814228</td>\n",
       "      <td>-73.807132</td>\n",
       "      <td>(40.81422776076232, -73.80713172981756)</td>\n",
       "    </tr>\n",
       "    <tr>\n",
       "      <th>298337</th>\n",
       "      <td>03/31/2015 09:52:38 PM</td>\n",
       "      <td>03/31/2015 11:12:44 PM</td>\n",
       "      <td>New York City Police Department</td>\n",
       "      <td>Blocked Driveway</td>\n",
       "      <td>No Access</td>\n",
       "      <td>Street/Sidewalk</td>\n",
       "      <td>10462.0</td>\n",
       "      <td>1336 PUGSLEY AVENUE</td>\n",
       "      <td>PUGSLEY AVENUE</td>\n",
       "      <td>BENEDICT AVENUE</td>\n",
       "      <td>MC GRAW AVENUE</td>\n",
       "      <td>NaN</td>\n",
       "      <td>NaN</td>\n",
       "      <td>ADDRESS</td>\n",
       "      <td>BRONX</td>\n",
       "      <td>NaN</td>\n",
       "      <td>Precinct</td>\n",
       "      <td>Closed</td>\n",
       "      <td>04-01-15 5:52</td>\n",
       "      <td>The Police Department responded to the complai...</td>\n",
       "      <td>03/31/2015 11:11:50 PM</td>\n",
       "      <td>09 BRONX</td>\n",
       "      <td>BRONX</td>\n",
       "      <td>1023563.0</td>\n",
       "      <td>243328.0</td>\n",
       "      <td>Unspecified</td>\n",
       "      <td>BRONX</td>\n",
       "      <td>NaN</td>\n",
       "      <td>NaN</td>\n",
       "      <td>NaN</td>\n",
       "      <td>NaN</td>\n",
       "      <td>40.834467</td>\n",
       "      <td>-73.857933</td>\n",
       "      <td>(40.83446700461629, -73.8579329417305)</td>\n",
       "    </tr>\n",
       "    <tr>\n",
       "      <th>166141</th>\n",
       "      <td>07/30/2015 08:44:37 AM</td>\n",
       "      <td>07/30/2015 01:14:37 PM</td>\n",
       "      <td>New York City Police Department</td>\n",
       "      <td>Homeless Encampment</td>\n",
       "      <td>NaN</td>\n",
       "      <td>Street/Sidewalk</td>\n",
       "      <td>11249.0</td>\n",
       "      <td>95 SOUTH 5 STREET</td>\n",
       "      <td>SOUTH 5 STREET</td>\n",
       "      <td>BERRY STREET</td>\n",
       "      <td>BEDFORD AVENUE</td>\n",
       "      <td>NaN</td>\n",
       "      <td>NaN</td>\n",
       "      <td>ADDRESS</td>\n",
       "      <td>BROOKLYN</td>\n",
       "      <td>NaN</td>\n",
       "      <td>Precinct</td>\n",
       "      <td>Closed</td>\n",
       "      <td>07/30/2015 04:44:37 PM</td>\n",
       "      <td>The Police Department reviewed your complaint ...</td>\n",
       "      <td>07/30/2015 01:14:37 PM</td>\n",
       "      <td>01 BROOKLYN</td>\n",
       "      <td>BROOKLYN</td>\n",
       "      <td>994080.0</td>\n",
       "      <td>198521.0</td>\n",
       "      <td>Unspecified</td>\n",
       "      <td>BROOKLYN</td>\n",
       "      <td>NaN</td>\n",
       "      <td>NaN</td>\n",
       "      <td>NaN</td>\n",
       "      <td>NaN</td>\n",
       "      <td>40.711566</td>\n",
       "      <td>-73.964542</td>\n",
       "      <td>(40.711565574698284, -73.96454242454327)</td>\n",
       "    </tr>\n",
       "    <tr>\n",
       "      <th>83613</th>\n",
       "      <td>10-11-15 1:31</td>\n",
       "      <td>10-11-15 5:19</td>\n",
       "      <td>New York City Police Department</td>\n",
       "      <td>Noise - Vehicle</td>\n",
       "      <td>Car/Truck Music</td>\n",
       "      <td>Street/Sidewalk</td>\n",
       "      <td>10460.0</td>\n",
       "      <td>NaN</td>\n",
       "      <td>NaN</td>\n",
       "      <td>NaN</td>\n",
       "      <td>NaN</td>\n",
       "      <td>DALY AVENUE</td>\n",
       "      <td>EAST TREMONT AVENUE</td>\n",
       "      <td>INTERSECTION</td>\n",
       "      <td>BRONX</td>\n",
       "      <td>NaN</td>\n",
       "      <td>Precinct</td>\n",
       "      <td>Closed</td>\n",
       "      <td>10-11-15 9:31</td>\n",
       "      <td>The Police Department responded and upon arriv...</td>\n",
       "      <td>10-11-15 5:19</td>\n",
       "      <td>06 BRONX</td>\n",
       "      <td>BRONX</td>\n",
       "      <td>1016380.0</td>\n",
       "      <td>246001.0</td>\n",
       "      <td>Unspecified</td>\n",
       "      <td>BRONX</td>\n",
       "      <td>NaN</td>\n",
       "      <td>NaN</td>\n",
       "      <td>NaN</td>\n",
       "      <td>NaN</td>\n",
       "      <td>40.841833</td>\n",
       "      <td>-73.883878</td>\n",
       "      <td>(40.841832660770464, -73.88387761513046)</td>\n",
       "    </tr>\n",
       "    <tr>\n",
       "      <th>233333</th>\n",
       "      <td>06-02-15 9:31</td>\n",
       "      <td>06-02-15 15:10</td>\n",
       "      <td>New York City Police Department</td>\n",
       "      <td>Noise - Vehicle</td>\n",
       "      <td>Engine Idling</td>\n",
       "      <td>Street/Sidewalk</td>\n",
       "      <td>11235.0</td>\n",
       "      <td>1810 VOORHIES AVENUE</td>\n",
       "      <td>VOORHIES AVENUE</td>\n",
       "      <td>EAST 18 STREET</td>\n",
       "      <td>EAST 19 STREET</td>\n",
       "      <td>NaN</td>\n",
       "      <td>NaN</td>\n",
       "      <td>ADDRESS</td>\n",
       "      <td>BROOKLYN</td>\n",
       "      <td>NaN</td>\n",
       "      <td>Precinct</td>\n",
       "      <td>Closed</td>\n",
       "      <td>06-02-15 17:31</td>\n",
       "      <td>The Police Department responded to the complai...</td>\n",
       "      <td>06-02-15 15:10</td>\n",
       "      <td>15 BROOKLYN</td>\n",
       "      <td>BROOKLYN</td>\n",
       "      <td>997901.0</td>\n",
       "      <td>152790.0</td>\n",
       "      <td>Unspecified</td>\n",
       "      <td>BROOKLYN</td>\n",
       "      <td>NaN</td>\n",
       "      <td>NaN</td>\n",
       "      <td>NaN</td>\n",
       "      <td>NaN</td>\n",
       "      <td>40.586039</td>\n",
       "      <td>-73.950852</td>\n",
       "      <td>(40.58603886569018, -73.95085233298242)</td>\n",
       "    </tr>\n",
       "    <tr>\n",
       "      <th>246399</th>\n",
       "      <td>05/22/2015 11:03:04 AM</td>\n",
       "      <td>05/22/2015 12:05:14 PM</td>\n",
       "      <td>New York City Police Department</td>\n",
       "      <td>Homeless Encampment</td>\n",
       "      <td>NaN</td>\n",
       "      <td>Street/Sidewalk</td>\n",
       "      <td>10001.0</td>\n",
       "      <td>404 9 AVENUE</td>\n",
       "      <td>9 AVENUE</td>\n",
       "      <td>WEST 33 STREET</td>\n",
       "      <td>WEST 34 STREET</td>\n",
       "      <td>NaN</td>\n",
       "      <td>NaN</td>\n",
       "      <td>ADDRESS</td>\n",
       "      <td>NEW YORK</td>\n",
       "      <td>NaN</td>\n",
       "      <td>Precinct</td>\n",
       "      <td>Closed</td>\n",
       "      <td>05/22/2015 07:03:04 PM</td>\n",
       "      <td>The Police Department responded to the complai...</td>\n",
       "      <td>05/22/2015 12:05:14 PM</td>\n",
       "      <td>04 MANHATTAN</td>\n",
       "      <td>MANHATTAN</td>\n",
       "      <td>985175.0</td>\n",
       "      <td>213572.0</td>\n",
       "      <td>Unspecified</td>\n",
       "      <td>MANHATTAN</td>\n",
       "      <td>NaN</td>\n",
       "      <td>NaN</td>\n",
       "      <td>NaN</td>\n",
       "      <td>NaN</td>\n",
       "      <td>40.752882</td>\n",
       "      <td>-73.996661</td>\n",
       "      <td>(40.75288228680099, -73.99666138361599)</td>\n",
       "    </tr>\n",
       "    <tr>\n",
       "      <th>234366</th>\n",
       "      <td>06-01-15 6:46</td>\n",
       "      <td>06-01-15 14:25</td>\n",
       "      <td>New York City Police Department</td>\n",
       "      <td>Animal Abuse</td>\n",
       "      <td>Neglected</td>\n",
       "      <td>Street/Sidewalk</td>\n",
       "      <td>11229.0</td>\n",
       "      <td>2033 EAST 28 STREET</td>\n",
       "      <td>EAST 28 STREET</td>\n",
       "      <td>AVENUE T</td>\n",
       "      <td>AVENUE U</td>\n",
       "      <td>NaN</td>\n",
       "      <td>NaN</td>\n",
       "      <td>ADDRESS</td>\n",
       "      <td>BROOKLYN</td>\n",
       "      <td>NaN</td>\n",
       "      <td>Precinct</td>\n",
       "      <td>Closed</td>\n",
       "      <td>06-01-15 14:46</td>\n",
       "      <td>The Police Department responded to the complai...</td>\n",
       "      <td>06-01-15 14:25</td>\n",
       "      <td>15 BROOKLYN</td>\n",
       "      <td>BROOKLYN</td>\n",
       "      <td>999780.0</td>\n",
       "      <td>158477.0</td>\n",
       "      <td>Unspecified</td>\n",
       "      <td>BROOKLYN</td>\n",
       "      <td>NaN</td>\n",
       "      <td>NaN</td>\n",
       "      <td>NaN</td>\n",
       "      <td>NaN</td>\n",
       "      <td>40.601645</td>\n",
       "      <td>-73.944074</td>\n",
       "      <td>(40.60164544163709, -73.9440743028839)</td>\n",
       "    </tr>\n",
       "    <tr>\n",
       "      <th>228871</th>\n",
       "      <td>06-06-15 10:34</td>\n",
       "      <td>06-06-15 16:04</td>\n",
       "      <td>New York City Police Department</td>\n",
       "      <td>Noise - Street/Sidewalk</td>\n",
       "      <td>Loud Music/Party</td>\n",
       "      <td>Street/Sidewalk</td>\n",
       "      <td>10011.0</td>\n",
       "      <td>NaN</td>\n",
       "      <td>NaN</td>\n",
       "      <td>NaN</td>\n",
       "      <td>NaN</td>\n",
       "      <td>HIGH LINE</td>\n",
       "      <td>WEST   21 STREET</td>\n",
       "      <td>INTERSECTION</td>\n",
       "      <td>NEW YORK</td>\n",
       "      <td>NaN</td>\n",
       "      <td>Precinct</td>\n",
       "      <td>Closed</td>\n",
       "      <td>06-06-15 18:34</td>\n",
       "      <td>The Police Department responded and upon arriv...</td>\n",
       "      <td>06-06-15 16:04</td>\n",
       "      <td>04 MANHATTAN</td>\n",
       "      <td>MANHATTAN</td>\n",
       "      <td>982687.0</td>\n",
       "      <td>211294.0</td>\n",
       "      <td>Unspecified</td>\n",
       "      <td>MANHATTAN</td>\n",
       "      <td>NaN</td>\n",
       "      <td>NaN</td>\n",
       "      <td>NaN</td>\n",
       "      <td>NaN</td>\n",
       "      <td>40.746630</td>\n",
       "      <td>-74.005641</td>\n",
       "      <td>(40.74662966162459, -74.00564082989759)</td>\n",
       "    </tr>\n",
       "    <tr>\n",
       "      <th>149164</th>\n",
       "      <td>08/14/2015 06:08:52 PM</td>\n",
       "      <td>08/14/2015 08:18:41 PM</td>\n",
       "      <td>New York City Police Department</td>\n",
       "      <td>Noise - Street/Sidewalk</td>\n",
       "      <td>Loud Music/Party</td>\n",
       "      <td>Street/Sidewalk</td>\n",
       "      <td>10472.0</td>\n",
       "      <td>1207 BEACH AVENUE</td>\n",
       "      <td>BEACH AVENUE</td>\n",
       "      <td>GLEASON AVENUE</td>\n",
       "      <td>WESTCHESTER AVENUE</td>\n",
       "      <td>NaN</td>\n",
       "      <td>NaN</td>\n",
       "      <td>ADDRESS</td>\n",
       "      <td>BRONX</td>\n",
       "      <td>NaN</td>\n",
       "      <td>Precinct</td>\n",
       "      <td>Closed</td>\n",
       "      <td>08/15/2015 02:08:52 AM</td>\n",
       "      <td>The Police Department responded to the complai...</td>\n",
       "      <td>08/14/2015 08:18:41 PM</td>\n",
       "      <td>09 BRONX</td>\n",
       "      <td>BRONX</td>\n",
       "      <td>1021327.0</td>\n",
       "      <td>241829.0</td>\n",
       "      <td>Unspecified</td>\n",
       "      <td>BRONX</td>\n",
       "      <td>NaN</td>\n",
       "      <td>NaN</td>\n",
       "      <td>NaN</td>\n",
       "      <td>NaN</td>\n",
       "      <td>40.830362</td>\n",
       "      <td>-73.866022</td>\n",
       "      <td>(40.83036235589997, -73.86602154214397)</td>\n",
       "    </tr>\n",
       "  </tbody>\n",
       "</table>\n",
       "</div>"
      ],
      "text/plain": [
       "                  Created Date             Closed Date  \\\n",
       "276593  04/25/2015 07:09:12 AM  04/25/2015 09:12:50 AM   \n",
       "57145           11-04-15 22:07          11-04-15 22:40   \n",
       "298337  03/31/2015 09:52:38 PM  03/31/2015 11:12:44 PM   \n",
       "166141  07/30/2015 08:44:37 AM  07/30/2015 01:14:37 PM   \n",
       "83613            10-11-15 1:31           10-11-15 5:19   \n",
       "233333           06-02-15 9:31          06-02-15 15:10   \n",
       "246399  05/22/2015 11:03:04 AM  05/22/2015 12:05:14 PM   \n",
       "234366           06-01-15 6:46          06-01-15 14:25   \n",
       "228871          06-06-15 10:34          06-06-15 16:04   \n",
       "149164  08/14/2015 06:08:52 PM  08/14/2015 08:18:41 PM   \n",
       "\n",
       "                            Agency Name           Complaint Type  \\\n",
       "276593  New York City Police Department         Blocked Driveway   \n",
       "57145   New York City Police Department         Blocked Driveway   \n",
       "298337  New York City Police Department         Blocked Driveway   \n",
       "166141  New York City Police Department      Homeless Encampment   \n",
       "83613   New York City Police Department          Noise - Vehicle   \n",
       "233333  New York City Police Department          Noise - Vehicle   \n",
       "246399  New York City Police Department      Homeless Encampment   \n",
       "234366  New York City Police Department             Animal Abuse   \n",
       "228871  New York City Police Department  Noise - Street/Sidewalk   \n",
       "149164  New York City Police Department  Noise - Street/Sidewalk   \n",
       "\n",
       "              Descriptor    Location Type  Incident Zip  \\\n",
       "276593         No Access  Street/Sidewalk       11420.0   \n",
       "57145          No Access  Street/Sidewalk       10465.0   \n",
       "298337         No Access  Street/Sidewalk       10462.0   \n",
       "166141               NaN  Street/Sidewalk       11249.0   \n",
       "83613    Car/Truck Music  Street/Sidewalk       10460.0   \n",
       "233333     Engine Idling  Street/Sidewalk       11235.0   \n",
       "246399               NaN  Street/Sidewalk       10001.0   \n",
       "234366         Neglected  Street/Sidewalk       11229.0   \n",
       "228871  Loud Music/Party  Street/Sidewalk       10011.0   \n",
       "149164  Loud Music/Party  Street/Sidewalk       10472.0   \n",
       "\n",
       "                 Incident Address         Street Name     Cross Street 1  \\\n",
       "276593  125-07 ROCKAWAY BOULEVARD  ROCKAWAY BOULEVARD         125 STREET   \n",
       "57145          3088 HATTING PLACE       HATTING PLACE  PENNYFIELD AVENUE   \n",
       "298337        1336 PUGSLEY AVENUE      PUGSLEY AVENUE    BENEDICT AVENUE   \n",
       "166141          95 SOUTH 5 STREET      SOUTH 5 STREET       BERRY STREET   \n",
       "83613                         NaN                 NaN                NaN   \n",
       "233333       1810 VOORHIES AVENUE     VOORHIES AVENUE     EAST 18 STREET   \n",
       "246399               404 9 AVENUE            9 AVENUE     WEST 33 STREET   \n",
       "234366        2033 EAST 28 STREET      EAST 28 STREET           AVENUE T   \n",
       "228871                        NaN                 NaN                NaN   \n",
       "149164          1207 BEACH AVENUE        BEACH AVENUE     GLEASON AVENUE   \n",
       "\n",
       "            Cross Street 2 Intersection Street 1 Intersection Street 2  \\\n",
       "276593          126 STREET                   NaN                   NaN   \n",
       "57145             DEAD END                   NaN                   NaN   \n",
       "298337      MC GRAW AVENUE                   NaN                   NaN   \n",
       "166141      BEDFORD AVENUE                   NaN                   NaN   \n",
       "83613                  NaN           DALY AVENUE   EAST TREMONT AVENUE   \n",
       "233333      EAST 19 STREET                   NaN                   NaN   \n",
       "246399      WEST 34 STREET                   NaN                   NaN   \n",
       "234366            AVENUE U                   NaN                   NaN   \n",
       "228871                 NaN             HIGH LINE      WEST   21 STREET   \n",
       "149164  WESTCHESTER AVENUE                   NaN                   NaN   \n",
       "\n",
       "        Address Type              City Landmark Facility Type  Status  \\\n",
       "276593       ADDRESS  SOUTH OZONE PARK      NaN      Precinct  Closed   \n",
       "57145        ADDRESS             BRONX      NaN      Precinct  Closed   \n",
       "298337       ADDRESS             BRONX      NaN      Precinct  Closed   \n",
       "166141       ADDRESS          BROOKLYN      NaN      Precinct  Closed   \n",
       "83613   INTERSECTION             BRONX      NaN      Precinct  Closed   \n",
       "233333       ADDRESS          BROOKLYN      NaN      Precinct  Closed   \n",
       "246399       ADDRESS          NEW YORK      NaN      Precinct  Closed   \n",
       "234366       ADDRESS          BROOKLYN      NaN      Precinct  Closed   \n",
       "228871  INTERSECTION          NEW YORK      NaN      Precinct  Closed   \n",
       "149164       ADDRESS             BRONX      NaN      Precinct  Closed   \n",
       "\n",
       "                      Due Date  \\\n",
       "276593  04/25/2015 03:09:12 PM   \n",
       "57145            11-05-15 6:07   \n",
       "298337           04-01-15 5:52   \n",
       "166141  07/30/2015 04:44:37 PM   \n",
       "83613            10-11-15 9:31   \n",
       "233333          06-02-15 17:31   \n",
       "246399  05/22/2015 07:03:04 PM   \n",
       "234366          06-01-15 14:46   \n",
       "228871          06-06-15 18:34   \n",
       "149164  08/15/2015 02:08:52 AM   \n",
       "\n",
       "                                   Resolution Description  \\\n",
       "276593  The Police Department issued a summons in resp...   \n",
       "57145   The Police Department responded to the complai...   \n",
       "298337  The Police Department responded to the complai...   \n",
       "166141  The Police Department reviewed your complaint ...   \n",
       "83613   The Police Department responded and upon arriv...   \n",
       "233333  The Police Department responded to the complai...   \n",
       "246399  The Police Department responded to the complai...   \n",
       "234366  The Police Department responded to the complai...   \n",
       "228871  The Police Department responded and upon arriv...   \n",
       "149164  The Police Department responded to the complai...   \n",
       "\n",
       "       Resolution Action Updated Date Community Board    Borough  \\\n",
       "276593         04/25/2015 09:12:50 AM       10 QUEENS     QUEENS   \n",
       "57145                  11-04-15 22:40        10 BRONX      BRONX   \n",
       "298337         03/31/2015 11:11:50 PM        09 BRONX      BRONX   \n",
       "166141         07/30/2015 01:14:37 PM     01 BROOKLYN   BROOKLYN   \n",
       "83613                   10-11-15 5:19        06 BRONX      BRONX   \n",
       "233333                 06-02-15 15:10     15 BROOKLYN   BROOKLYN   \n",
       "246399         05/22/2015 12:05:14 PM    04 MANHATTAN  MANHATTAN   \n",
       "234366                 06-01-15 14:25     15 BROOKLYN   BROOKLYN   \n",
       "228871                 06-06-15 16:04    04 MANHATTAN  MANHATTAN   \n",
       "149164         08/14/2015 08:18:41 PM        09 BRONX      BRONX   \n",
       "\n",
       "        X Coordinate (State Plane)  Y Coordinate (State Plane)  \\\n",
       "276593                   1036268.0                    185384.0   \n",
       "57145                    1037637.0                    235981.0   \n",
       "298337                   1023563.0                    243328.0   \n",
       "166141                    994080.0                    198521.0   \n",
       "83613                    1016380.0                    246001.0   \n",
       "233333                    997901.0                    152790.0   \n",
       "246399                    985175.0                    213572.0   \n",
       "234366                    999780.0                    158477.0   \n",
       "228871                    982687.0                    211294.0   \n",
       "149164                   1021327.0                    241829.0   \n",
       "\n",
       "       Park Facility Name Park Borough Bridge Highway Name  \\\n",
       "276593        Unspecified       QUEENS                 NaN   \n",
       "57145         Unspecified        BRONX                 NaN   \n",
       "298337        Unspecified        BRONX                 NaN   \n",
       "166141        Unspecified     BROOKLYN                 NaN   \n",
       "83613         Unspecified        BRONX                 NaN   \n",
       "233333        Unspecified     BROOKLYN                 NaN   \n",
       "246399        Unspecified    MANHATTAN                 NaN   \n",
       "234366        Unspecified     BROOKLYN                 NaN   \n",
       "228871        Unspecified    MANHATTAN                 NaN   \n",
       "149164        Unspecified        BRONX                 NaN   \n",
       "\n",
       "       Bridge Highway Direction Road Ramp Bridge Highway Segment   Latitude  \\\n",
       "276593                      NaN       NaN                    NaN  40.675360   \n",
       "57145                       NaN       NaN                    NaN  40.814228   \n",
       "298337                      NaN       NaN                    NaN  40.834467   \n",
       "166141                      NaN       NaN                    NaN  40.711566   \n",
       "83613                       NaN       NaN                    NaN  40.841833   \n",
       "233333                      NaN       NaN                    NaN  40.586039   \n",
       "246399                      NaN       NaN                    NaN  40.752882   \n",
       "234366                      NaN       NaN                    NaN  40.601645   \n",
       "228871                      NaN       NaN                    NaN  40.746630   \n",
       "149164                      NaN       NaN                    NaN  40.830362   \n",
       "\n",
       "        Longitude                                  Location  \n",
       "276593 -73.812469   (40.67536017924152, -73.81246874581379)  \n",
       "57145  -73.807132   (40.81422776076232, -73.80713172981756)  \n",
       "298337 -73.857933    (40.83446700461629, -73.8579329417305)  \n",
       "166141 -73.964542  (40.711565574698284, -73.96454242454327)  \n",
       "83613  -73.883878  (40.841832660770464, -73.88387761513046)  \n",
       "233333 -73.950852   (40.58603886569018, -73.95085233298242)  \n",
       "246399 -73.996661   (40.75288228680099, -73.99666138361599)  \n",
       "234366 -73.944074    (40.60164544163709, -73.9440743028839)  \n",
       "228871 -74.005641   (40.74662966162459, -74.00564082989759)  \n",
       "149164 -73.866022   (40.83036235589997, -73.86602154214397)  "
      ]
     },
     "execution_count": 60,
     "metadata": {},
     "output_type": "execute_result"
    }
   ],
   "source": [
    "data_mod.sample(10)"
   ]
  },
  {
   "cell_type": "code",
   "execution_count": 61,
   "id": "73b2bad6",
   "metadata": {},
   "outputs": [
    {
     "data": {
      "text/plain": [
       "Index(['Created Date', 'Closed Date', 'Agency Name', 'Complaint Type',\n",
       "       'Descriptor', 'Location Type', 'Incident Zip', 'Incident Address',\n",
       "       'Street Name', 'Cross Street 1', 'Cross Street 2',\n",
       "       'Intersection Street 1', 'Intersection Street 2', 'Address Type',\n",
       "       'City', 'Landmark', 'Facility Type', 'Status', 'Due Date',\n",
       "       'Resolution Description', 'Resolution Action Updated Date',\n",
       "       'Community Board', 'Borough', 'X Coordinate (State Plane)',\n",
       "       'Y Coordinate (State Plane)', 'Park Facility Name', 'Park Borough',\n",
       "       'Bridge Highway Name', 'Bridge Highway Direction', 'Road Ramp',\n",
       "       'Bridge Highway Segment', 'Latitude', 'Longitude', 'Location'],\n",
       "      dtype='object')"
      ]
     },
     "execution_count": 61,
     "metadata": {},
     "output_type": "execute_result"
    }
   ],
   "source": [
    "data_mod.columns"
   ]
  },
  {
   "cell_type": "code",
   "execution_count": 62,
   "id": "0465b07e",
   "metadata": {},
   "outputs": [
    {
     "name": "stdout",
     "output_type": "stream",
     "text": [
      "<class 'pandas.core.frame.DataFrame'>\n",
      "RangeIndex: 300698 entries, 0 to 300697\n",
      "Data columns (total 34 columns):\n",
      " #   Column                          Non-Null Count   Dtype  \n",
      "---  ------                          --------------   -----  \n",
      " 0   Created Date                    300698 non-null  object \n",
      " 1   Closed Date                     298534 non-null  object \n",
      " 2   Agency Name                     300698 non-null  object \n",
      " 3   Complaint Type                  300698 non-null  object \n",
      " 4   Descriptor                      294784 non-null  object \n",
      " 5   Location Type                   300567 non-null  object \n",
      " 6   Incident Zip                    298083 non-null  float64\n",
      " 7   Incident Address                256288 non-null  object \n",
      " 8   Street Name                     256288 non-null  object \n",
      " 9   Cross Street 1                  251419 non-null  object \n",
      " 10  Cross Street 2                  250919 non-null  object \n",
      " 11  Intersection Street 1           43858 non-null   object \n",
      " 12  Intersection Street 2           43362 non-null   object \n",
      " 13  Address Type                    297883 non-null  object \n",
      " 14  City                            298084 non-null  object \n",
      " 15  Landmark                        349 non-null     object \n",
      " 16  Facility Type                   298527 non-null  object \n",
      " 17  Status                          300698 non-null  object \n",
      " 18  Due Date                        300695 non-null  object \n",
      " 19  Resolution Description          300698 non-null  object \n",
      " 20  Resolution Action Updated Date  298511 non-null  object \n",
      " 21  Community Board                 300698 non-null  object \n",
      " 22  Borough                         300698 non-null  object \n",
      " 23  X Coordinate (State Plane)      297158 non-null  float64\n",
      " 24  Y Coordinate (State Plane)      297158 non-null  float64\n",
      " 25  Park Facility Name              300698 non-null  object \n",
      " 26  Park Borough                    300698 non-null  object \n",
      " 27  Bridge Highway Name             243 non-null     object \n",
      " 28  Bridge Highway Direction        243 non-null     object \n",
      " 29  Road Ramp                       213 non-null     object \n",
      " 30  Bridge Highway Segment          213 non-null     object \n",
      " 31  Latitude                        297158 non-null  float64\n",
      " 32  Longitude                       297158 non-null  float64\n",
      " 33  Location                        297158 non-null  object \n",
      "dtypes: float64(5), object(29)\n",
      "memory usage: 78.0+ MB\n"
     ]
    }
   ],
   "source": [
    "# Final info.(features) after cleaning\n",
    "data_mod.info()"
   ]
  },
  {
   "cell_type": "markdown",
   "id": "80c285de",
   "metadata": {},
   "source": [
    "### 2. Read or convert the columns ‘Created Date’ and Closed Date’ to datetime datatype and create a new column ‘Request_Closing_Time’ as the time elapsed between request creation and request closing"
   ]
  },
  {
   "cell_type": "markdown",
   "id": "96ce7b0d",
   "metadata": {},
   "source": [
    "Now, converting the columns ‘Created Date’ and Closed Date’ to datetime datatype and create a new column ‘Request_Closing_Time’ as the time elapsed between request creation and request closing."
   ]
  },
  {
   "cell_type": "code",
   "execution_count": 63,
   "id": "e071894c",
   "metadata": {},
   "outputs": [],
   "source": [
    "data_mod['Closed Date'] = pd.to_datetime(data_mod['Closed Date'])\n",
    "data_mod['Created Date'] = pd.to_datetime(data_mod['Created Date'])\n",
    "\n",
    "data_mod['Request_Closing_Time'] = data_mod['Closed Date'] - data_mod['Created Date']\n",
    "\n",
    "#data_mod = data_mod[(data_mod.Request_Closing_Time)>=0]"
   ]
  },
  {
   "cell_type": "code",
   "execution_count": 64,
   "id": "b2e34be3",
   "metadata": {},
   "outputs": [
    {
     "name": "stdout",
     "output_type": "stream",
     "text": [
      "<class 'pandas.core.frame.DataFrame'>\n",
      "RangeIndex: 300698 entries, 0 to 300697\n",
      "Data columns (total 35 columns):\n",
      " #   Column                          Non-Null Count   Dtype          \n",
      "---  ------                          --------------   -----          \n",
      " 0   Created Date                    300698 non-null  datetime64[ns] \n",
      " 1   Closed Date                     298534 non-null  datetime64[ns] \n",
      " 2   Agency Name                     300698 non-null  object         \n",
      " 3   Complaint Type                  300698 non-null  object         \n",
      " 4   Descriptor                      294784 non-null  object         \n",
      " 5   Location Type                   300567 non-null  object         \n",
      " 6   Incident Zip                    298083 non-null  float64        \n",
      " 7   Incident Address                256288 non-null  object         \n",
      " 8   Street Name                     256288 non-null  object         \n",
      " 9   Cross Street 1                  251419 non-null  object         \n",
      " 10  Cross Street 2                  250919 non-null  object         \n",
      " 11  Intersection Street 1           43858 non-null   object         \n",
      " 12  Intersection Street 2           43362 non-null   object         \n",
      " 13  Address Type                    297883 non-null  object         \n",
      " 14  City                            298084 non-null  object         \n",
      " 15  Landmark                        349 non-null     object         \n",
      " 16  Facility Type                   298527 non-null  object         \n",
      " 17  Status                          300698 non-null  object         \n",
      " 18  Due Date                        300695 non-null  object         \n",
      " 19  Resolution Description          300698 non-null  object         \n",
      " 20  Resolution Action Updated Date  298511 non-null  object         \n",
      " 21  Community Board                 300698 non-null  object         \n",
      " 22  Borough                         300698 non-null  object         \n",
      " 23  X Coordinate (State Plane)      297158 non-null  float64        \n",
      " 24  Y Coordinate (State Plane)      297158 non-null  float64        \n",
      " 25  Park Facility Name              300698 non-null  object         \n",
      " 26  Park Borough                    300698 non-null  object         \n",
      " 27  Bridge Highway Name             243 non-null     object         \n",
      " 28  Bridge Highway Direction        243 non-null     object         \n",
      " 29  Road Ramp                       213 non-null     object         \n",
      " 30  Bridge Highway Segment          213 non-null     object         \n",
      " 31  Latitude                        297158 non-null  float64        \n",
      " 32  Longitude                       297158 non-null  float64        \n",
      " 33  Location                        297158 non-null  object         \n",
      " 34  Request_Closing_Time            298534 non-null  timedelta64[ns]\n",
      "dtypes: datetime64[ns](2), float64(5), object(27), timedelta64[ns](1)\n",
      "memory usage: 80.3+ MB\n"
     ]
    }
   ],
   "source": [
    "data_mod.info()"
   ]
  },
  {
   "cell_type": "code",
   "execution_count": 65,
   "id": "55e45b3b",
   "metadata": {},
   "outputs": [
    {
     "data": {
      "text/html": [
       "<div>\n",
       "<style scoped>\n",
       "    .dataframe tbody tr th:only-of-type {\n",
       "        vertical-align: middle;\n",
       "    }\n",
       "\n",
       "    .dataframe tbody tr th {\n",
       "        vertical-align: top;\n",
       "    }\n",
       "\n",
       "    .dataframe thead th {\n",
       "        text-align: right;\n",
       "    }\n",
       "</style>\n",
       "<table border=\"1\" class=\"dataframe\">\n",
       "  <thead>\n",
       "    <tr style=\"text-align: right;\">\n",
       "      <th></th>\n",
       "      <th>Created Date</th>\n",
       "      <th>Closed Date</th>\n",
       "      <th>Agency Name</th>\n",
       "      <th>Complaint Type</th>\n",
       "      <th>Descriptor</th>\n",
       "      <th>Location Type</th>\n",
       "      <th>Incident Zip</th>\n",
       "      <th>Incident Address</th>\n",
       "      <th>Street Name</th>\n",
       "      <th>Cross Street 1</th>\n",
       "      <th>Cross Street 2</th>\n",
       "      <th>Intersection Street 1</th>\n",
       "      <th>Intersection Street 2</th>\n",
       "      <th>Address Type</th>\n",
       "      <th>City</th>\n",
       "      <th>Landmark</th>\n",
       "      <th>Facility Type</th>\n",
       "      <th>Status</th>\n",
       "      <th>Due Date</th>\n",
       "      <th>Resolution Description</th>\n",
       "      <th>Resolution Action Updated Date</th>\n",
       "      <th>Community Board</th>\n",
       "      <th>Borough</th>\n",
       "      <th>X Coordinate (State Plane)</th>\n",
       "      <th>Y Coordinate (State Plane)</th>\n",
       "      <th>Park Facility Name</th>\n",
       "      <th>Park Borough</th>\n",
       "      <th>Bridge Highway Name</th>\n",
       "      <th>Bridge Highway Direction</th>\n",
       "      <th>Road Ramp</th>\n",
       "      <th>Bridge Highway Segment</th>\n",
       "      <th>Latitude</th>\n",
       "      <th>Longitude</th>\n",
       "      <th>Location</th>\n",
       "      <th>Request_Closing_Time</th>\n",
       "    </tr>\n",
       "  </thead>\n",
       "  <tbody>\n",
       "    <tr>\n",
       "      <th>107809</th>\n",
       "      <td>2015-09-19 15:19:53</td>\n",
       "      <td>2015-09-19 16:22:44</td>\n",
       "      <td>New York City Police Department</td>\n",
       "      <td>Illegal Parking</td>\n",
       "      <td>Posted Parking Sign Violation</td>\n",
       "      <td>Street/Sidewalk</td>\n",
       "      <td>10009.0</td>\n",
       "      <td>421 EAST 9 STREET</td>\n",
       "      <td>EAST 9 STREET</td>\n",
       "      <td>1 AVENUE</td>\n",
       "      <td>AVENUE A</td>\n",
       "      <td>NaN</td>\n",
       "      <td>NaN</td>\n",
       "      <td>ADDRESS</td>\n",
       "      <td>NEW YORK</td>\n",
       "      <td>NaN</td>\n",
       "      <td>Precinct</td>\n",
       "      <td>Closed</td>\n",
       "      <td>09/19/2015 11:19:53 PM</td>\n",
       "      <td>The Police Department responded to the complai...</td>\n",
       "      <td>09/19/2015 04:22:44 PM</td>\n",
       "      <td>03 MANHATTAN</td>\n",
       "      <td>MANHATTAN</td>\n",
       "      <td>988704.0</td>\n",
       "      <td>204434.0</td>\n",
       "      <td>Unspecified</td>\n",
       "      <td>MANHATTAN</td>\n",
       "      <td>NaN</td>\n",
       "      <td>NaN</td>\n",
       "      <td>NaN</td>\n",
       "      <td>NaN</td>\n",
       "      <td>40.727800</td>\n",
       "      <td>-73.983930</td>\n",
       "      <td>(40.72779967532257, -73.98393016170013)</td>\n",
       "      <td>0 days 01:02:51</td>\n",
       "    </tr>\n",
       "    <tr>\n",
       "      <th>194978</th>\n",
       "      <td>2015-07-04 20:03:00</td>\n",
       "      <td>2015-07-05 00:13:00</td>\n",
       "      <td>New York City Police Department</td>\n",
       "      <td>Illegal Parking</td>\n",
       "      <td>Commercial Overnight Parking</td>\n",
       "      <td>Street/Sidewalk</td>\n",
       "      <td>11210.0</td>\n",
       "      <td>2222 BAY AVENUE</td>\n",
       "      <td>BAY AVENUE</td>\n",
       "      <td>EAST 22 STREET</td>\n",
       "      <td>EAST 23 STREET</td>\n",
       "      <td>NaN</td>\n",
       "      <td>NaN</td>\n",
       "      <td>ADDRESS</td>\n",
       "      <td>BROOKLYN</td>\n",
       "      <td>NaN</td>\n",
       "      <td>Precinct</td>\n",
       "      <td>Closed</td>\n",
       "      <td>07-05-15 4:03</td>\n",
       "      <td>The Police Department responded to the complai...</td>\n",
       "      <td>07-05-15 0:13</td>\n",
       "      <td>14 BROOKLYN</td>\n",
       "      <td>BROOKLYN</td>\n",
       "      <td>997562.0</td>\n",
       "      <td>163281.0</td>\n",
       "      <td>Unspecified</td>\n",
       "      <td>BROOKLYN</td>\n",
       "      <td>NaN</td>\n",
       "      <td>NaN</td>\n",
       "      <td>NaN</td>\n",
       "      <td>NaN</td>\n",
       "      <td>40.614835</td>\n",
       "      <td>-73.952052</td>\n",
       "      <td>(40.61483504469457, -73.95205215928333)</td>\n",
       "      <td>0 days 04:10:00</td>\n",
       "    </tr>\n",
       "    <tr>\n",
       "      <th>33075</th>\n",
       "      <td>2015-11-28 08:50:39</td>\n",
       "      <td>2015-11-28 09:40:47</td>\n",
       "      <td>New York City Police Department</td>\n",
       "      <td>Derelict Vehicle</td>\n",
       "      <td>With License Plate</td>\n",
       "      <td>Street/Sidewalk</td>\n",
       "      <td>11355.0</td>\n",
       "      <td>57-02 156 STREET</td>\n",
       "      <td>156 STREET</td>\n",
       "      <td>BOOTH MEMORIAL AVENUE</td>\n",
       "      <td>59 AVENUE</td>\n",
       "      <td>NaN</td>\n",
       "      <td>NaN</td>\n",
       "      <td>ADDRESS</td>\n",
       "      <td>FLUSHING</td>\n",
       "      <td>NaN</td>\n",
       "      <td>Precinct</td>\n",
       "      <td>Closed</td>\n",
       "      <td>11/28/2015 04:50:39 PM</td>\n",
       "      <td>The Police Department reviewed your complaint ...</td>\n",
       "      <td>11/28/2015 09:40:47 AM</td>\n",
       "      <td>07 QUEENS</td>\n",
       "      <td>QUEENS</td>\n",
       "      <td>1036329.0</td>\n",
       "      <td>209773.0</td>\n",
       "      <td>Unspecified</td>\n",
       "      <td>QUEENS</td>\n",
       "      <td>NaN</td>\n",
       "      <td>NaN</td>\n",
       "      <td>NaN</td>\n",
       "      <td>NaN</td>\n",
       "      <td>40.742302</td>\n",
       "      <td>-73.812060</td>\n",
       "      <td>(40.74230169222747, -73.81206019056866)</td>\n",
       "      <td>0 days 00:50:08</td>\n",
       "    </tr>\n",
       "    <tr>\n",
       "      <th>6842</th>\n",
       "      <td>2015-12-24 01:13:50</td>\n",
       "      <td>2015-12-24 07:32:40</td>\n",
       "      <td>New York City Police Department</td>\n",
       "      <td>Noise - Commercial</td>\n",
       "      <td>Banging/Pounding</td>\n",
       "      <td>Store/Commercial</td>\n",
       "      <td>11355.0</td>\n",
       "      <td>131-35 FOWLER AVENUE</td>\n",
       "      <td>FOWLER AVENUE</td>\n",
       "      <td>FOWLER PATH</td>\n",
       "      <td>COLLEGE POINT BOULEVARD</td>\n",
       "      <td>NaN</td>\n",
       "      <td>NaN</td>\n",
       "      <td>ADDRESS</td>\n",
       "      <td>FLUSHING</td>\n",
       "      <td>NaN</td>\n",
       "      <td>Precinct</td>\n",
       "      <td>Closed</td>\n",
       "      <td>12/24/2015 09:13:50 AM</td>\n",
       "      <td>The Police Department responded to the complai...</td>\n",
       "      <td>12/24/2015 07:32:40 AM</td>\n",
       "      <td>07 QUEENS</td>\n",
       "      <td>QUEENS</td>\n",
       "      <td>1030540.0</td>\n",
       "      <td>213237.0</td>\n",
       "      <td>Unspecified</td>\n",
       "      <td>QUEENS</td>\n",
       "      <td>NaN</td>\n",
       "      <td>NaN</td>\n",
       "      <td>NaN</td>\n",
       "      <td>NaN</td>\n",
       "      <td>40.751842</td>\n",
       "      <td>-73.832927</td>\n",
       "      <td>(40.751841680725754, -73.83292731684462)</td>\n",
       "      <td>0 days 06:18:50</td>\n",
       "    </tr>\n",
       "  </tbody>\n",
       "</table>\n",
       "</div>"
      ],
      "text/plain": [
       "              Created Date         Closed Date  \\\n",
       "107809 2015-09-19 15:19:53 2015-09-19 16:22:44   \n",
       "194978 2015-07-04 20:03:00 2015-07-05 00:13:00   \n",
       "33075  2015-11-28 08:50:39 2015-11-28 09:40:47   \n",
       "6842   2015-12-24 01:13:50 2015-12-24 07:32:40   \n",
       "\n",
       "                            Agency Name      Complaint Type  \\\n",
       "107809  New York City Police Department     Illegal Parking   \n",
       "194978  New York City Police Department     Illegal Parking   \n",
       "33075   New York City Police Department    Derelict Vehicle   \n",
       "6842    New York City Police Department  Noise - Commercial   \n",
       "\n",
       "                           Descriptor     Location Type  Incident Zip  \\\n",
       "107809  Posted Parking Sign Violation   Street/Sidewalk       10009.0   \n",
       "194978   Commercial Overnight Parking   Street/Sidewalk       11210.0   \n",
       "33075              With License Plate   Street/Sidewalk       11355.0   \n",
       "6842                 Banging/Pounding  Store/Commercial       11355.0   \n",
       "\n",
       "            Incident Address    Street Name         Cross Street 1  \\\n",
       "107809     421 EAST 9 STREET  EAST 9 STREET               1 AVENUE   \n",
       "194978       2222 BAY AVENUE     BAY AVENUE         EAST 22 STREET   \n",
       "33075       57-02 156 STREET     156 STREET  BOOTH MEMORIAL AVENUE   \n",
       "6842    131-35 FOWLER AVENUE  FOWLER AVENUE            FOWLER PATH   \n",
       "\n",
       "                 Cross Street 2 Intersection Street 1 Intersection Street 2  \\\n",
       "107809                 AVENUE A                   NaN                   NaN   \n",
       "194978           EAST 23 STREET                   NaN                   NaN   \n",
       "33075                 59 AVENUE                   NaN                   NaN   \n",
       "6842    COLLEGE POINT BOULEVARD                   NaN                   NaN   \n",
       "\n",
       "       Address Type      City Landmark Facility Type  Status  \\\n",
       "107809      ADDRESS  NEW YORK      NaN      Precinct  Closed   \n",
       "194978      ADDRESS  BROOKLYN      NaN      Precinct  Closed   \n",
       "33075       ADDRESS  FLUSHING      NaN      Precinct  Closed   \n",
       "6842        ADDRESS  FLUSHING      NaN      Precinct  Closed   \n",
       "\n",
       "                      Due Date  \\\n",
       "107809  09/19/2015 11:19:53 PM   \n",
       "194978           07-05-15 4:03   \n",
       "33075   11/28/2015 04:50:39 PM   \n",
       "6842    12/24/2015 09:13:50 AM   \n",
       "\n",
       "                                   Resolution Description  \\\n",
       "107809  The Police Department responded to the complai...   \n",
       "194978  The Police Department responded to the complai...   \n",
       "33075   The Police Department reviewed your complaint ...   \n",
       "6842    The Police Department responded to the complai...   \n",
       "\n",
       "       Resolution Action Updated Date Community Board    Borough  \\\n",
       "107809         09/19/2015 04:22:44 PM    03 MANHATTAN  MANHATTAN   \n",
       "194978                  07-05-15 0:13     14 BROOKLYN   BROOKLYN   \n",
       "33075          11/28/2015 09:40:47 AM       07 QUEENS     QUEENS   \n",
       "6842           12/24/2015 07:32:40 AM       07 QUEENS     QUEENS   \n",
       "\n",
       "        X Coordinate (State Plane)  Y Coordinate (State Plane)  \\\n",
       "107809                    988704.0                    204434.0   \n",
       "194978                    997562.0                    163281.0   \n",
       "33075                    1036329.0                    209773.0   \n",
       "6842                     1030540.0                    213237.0   \n",
       "\n",
       "       Park Facility Name Park Borough Bridge Highway Name  \\\n",
       "107809        Unspecified    MANHATTAN                 NaN   \n",
       "194978        Unspecified     BROOKLYN                 NaN   \n",
       "33075         Unspecified       QUEENS                 NaN   \n",
       "6842          Unspecified       QUEENS                 NaN   \n",
       "\n",
       "       Bridge Highway Direction Road Ramp Bridge Highway Segment   Latitude  \\\n",
       "107809                      NaN       NaN                    NaN  40.727800   \n",
       "194978                      NaN       NaN                    NaN  40.614835   \n",
       "33075                       NaN       NaN                    NaN  40.742302   \n",
       "6842                        NaN       NaN                    NaN  40.751842   \n",
       "\n",
       "        Longitude                                  Location  \\\n",
       "107809 -73.983930   (40.72779967532257, -73.98393016170013)   \n",
       "194978 -73.952052   (40.61483504469457, -73.95205215928333)   \n",
       "33075  -73.812060   (40.74230169222747, -73.81206019056866)   \n",
       "6842   -73.832927  (40.751841680725754, -73.83292731684462)   \n",
       "\n",
       "       Request_Closing_Time  \n",
       "107809      0 days 01:02:51  \n",
       "194978      0 days 04:10:00  \n",
       "33075       0 days 00:50:08  \n",
       "6842        0 days 06:18:50  "
      ]
     },
     "execution_count": 65,
     "metadata": {},
     "output_type": "execute_result"
    }
   ],
   "source": [
    "data_mod.sample(4)"
   ]
  },
  {
   "cell_type": "code",
   "execution_count": 66,
   "id": "a3018341",
   "metadata": {},
   "outputs": [
    {
     "data": {
      "text/plain": [
       "Index(['Created Date', 'Closed Date', 'Agency Name', 'Complaint Type',\n",
       "       'Descriptor', 'Location Type', 'Incident Zip', 'Incident Address',\n",
       "       'Street Name', 'Cross Street 1', 'Cross Street 2',\n",
       "       'Intersection Street 1', 'Intersection Street 2', 'Address Type',\n",
       "       'City', 'Landmark', 'Facility Type', 'Status', 'Due Date',\n",
       "       'Resolution Description', 'Resolution Action Updated Date',\n",
       "       'Community Board', 'Borough', 'X Coordinate (State Plane)',\n",
       "       'Y Coordinate (State Plane)', 'Park Facility Name', 'Park Borough',\n",
       "       'Bridge Highway Name', 'Bridge Highway Direction', 'Road Ramp',\n",
       "       'Bridge Highway Segment', 'Latitude', 'Longitude', 'Location',\n",
       "       'Request_Closing_Time'],\n",
       "      dtype='object')"
      ]
     },
     "execution_count": 66,
     "metadata": {},
     "output_type": "execute_result"
    }
   ],
   "source": [
    "data_mod.columns"
   ]
  },
  {
   "cell_type": "markdown",
   "id": "4e822ead",
   "metadata": {},
   "source": [
    "### 3. Provide major insights/patterns that you can offer in a visual format (graphs or tables); at least 4 major conclusions that you can come up with after generic data mining"
   ]
  },
  {
   "cell_type": "markdown",
   "id": "973cf954",
   "metadata": {},
   "source": [
    "Now, lets visualize some basic results that we can conclude from the data. For instance, which type of complaint is more dominant?\n",
    "First, we will attempt the visualization of a single feature (complain type). Then, we will do the same for other features. "
   ]
  },
  {
   "cell_type": "code",
   "execution_count": 67,
   "id": "c852dba3",
   "metadata": {},
   "outputs": [
    {
     "data": {
      "text/html": [
       "<div>\n",
       "<style scoped>\n",
       "    .dataframe tbody tr th:only-of-type {\n",
       "        vertical-align: middle;\n",
       "    }\n",
       "\n",
       "    .dataframe tbody tr th {\n",
       "        vertical-align: top;\n",
       "    }\n",
       "\n",
       "    .dataframe thead th {\n",
       "        text-align: right;\n",
       "    }\n",
       "</style>\n",
       "<table border=\"1\" class=\"dataframe\">\n",
       "  <thead>\n",
       "    <tr style=\"text-align: right;\">\n",
       "      <th></th>\n",
       "      <th>Counts</th>\n",
       "    </tr>\n",
       "  </thead>\n",
       "  <tbody>\n",
       "    <tr>\n",
       "      <th>Blocked Driveway</th>\n",
       "      <td>77044</td>\n",
       "    </tr>\n",
       "    <tr>\n",
       "      <th>Illegal Parking</th>\n",
       "      <td>75361</td>\n",
       "    </tr>\n",
       "    <tr>\n",
       "      <th>Noise - Street/Sidewalk</th>\n",
       "      <td>48612</td>\n",
       "    </tr>\n",
       "    <tr>\n",
       "      <th>Noise - Commercial</th>\n",
       "      <td>35577</td>\n",
       "    </tr>\n",
       "    <tr>\n",
       "      <th>Derelict Vehicle</th>\n",
       "      <td>17718</td>\n",
       "    </tr>\n",
       "    <tr>\n",
       "      <th>Noise - Vehicle</th>\n",
       "      <td>17083</td>\n",
       "    </tr>\n",
       "    <tr>\n",
       "      <th>Animal Abuse</th>\n",
       "      <td>7778</td>\n",
       "    </tr>\n",
       "    <tr>\n",
       "      <th>Traffic</th>\n",
       "      <td>4498</td>\n",
       "    </tr>\n",
       "    <tr>\n",
       "      <th>Homeless Encampment</th>\n",
       "      <td>4416</td>\n",
       "    </tr>\n",
       "    <tr>\n",
       "      <th>Noise - Park</th>\n",
       "      <td>4042</td>\n",
       "    </tr>\n",
       "    <tr>\n",
       "      <th>Vending</th>\n",
       "      <td>3802</td>\n",
       "    </tr>\n",
       "    <tr>\n",
       "      <th>Drinking</th>\n",
       "      <td>1280</td>\n",
       "    </tr>\n",
       "    <tr>\n",
       "      <th>Noise - House of Worship</th>\n",
       "      <td>931</td>\n",
       "    </tr>\n",
       "    <tr>\n",
       "      <th>Posting Advertisement</th>\n",
       "      <td>650</td>\n",
       "    </tr>\n",
       "    <tr>\n",
       "      <th>Urinating in Public</th>\n",
       "      <td>592</td>\n",
       "    </tr>\n",
       "    <tr>\n",
       "      <th>Bike/Roller/Skate Chronic</th>\n",
       "      <td>427</td>\n",
       "    </tr>\n",
       "    <tr>\n",
       "      <th>Panhandling</th>\n",
       "      <td>307</td>\n",
       "    </tr>\n",
       "    <tr>\n",
       "      <th>Disorderly Youth</th>\n",
       "      <td>286</td>\n",
       "    </tr>\n",
       "    <tr>\n",
       "      <th>Illegal Fireworks</th>\n",
       "      <td>168</td>\n",
       "    </tr>\n",
       "    <tr>\n",
       "      <th>Graffiti</th>\n",
       "      <td>113</td>\n",
       "    </tr>\n",
       "    <tr>\n",
       "      <th>Agency Issues</th>\n",
       "      <td>6</td>\n",
       "    </tr>\n",
       "    <tr>\n",
       "      <th>Squeegee</th>\n",
       "      <td>4</td>\n",
       "    </tr>\n",
       "    <tr>\n",
       "      <th>Ferry Complaint</th>\n",
       "      <td>2</td>\n",
       "    </tr>\n",
       "    <tr>\n",
       "      <th>Animal in a Park</th>\n",
       "      <td>1</td>\n",
       "    </tr>\n",
       "  </tbody>\n",
       "</table>\n",
       "</div>"
      ],
      "text/plain": [
       "                           Counts\n",
       "Blocked Driveway            77044\n",
       "Illegal Parking             75361\n",
       "Noise - Street/Sidewalk     48612\n",
       "Noise - Commercial          35577\n",
       "Derelict Vehicle            17718\n",
       "Noise - Vehicle             17083\n",
       "Animal Abuse                 7778\n",
       "Traffic                      4498\n",
       "Homeless Encampment          4416\n",
       "Noise - Park                 4042\n",
       "Vending                      3802\n",
       "Drinking                     1280\n",
       "Noise - House of Worship      931\n",
       "Posting Advertisement         650\n",
       "Urinating in Public           592\n",
       "Bike/Roller/Skate Chronic     427\n",
       "Panhandling                   307\n",
       "Disorderly Youth              286\n",
       "Illegal Fireworks             168\n",
       "Graffiti                      113\n",
       "Agency Issues                   6\n",
       "Squeegee                        4\n",
       "Ferry Complaint                 2\n",
       "Animal in a Park                1"
      ]
     },
     "execution_count": 67,
     "metadata": {},
     "output_type": "execute_result"
    }
   ],
   "source": [
    "# Measuring the frequency (occurence) of the different complaint\n",
    "\n",
    "data_complaint = data['Complaint Type'].value_counts()\n",
    "data_complaint = data_complaint.to_frame()\n",
    "data_complaint = data_complaint.rename(columns={'Complaint Type':'Counts'})\n",
    "data_complaint"
   ]
  },
  {
   "cell_type": "code",
   "execution_count": 68,
   "id": "4f4453bf",
   "metadata": {},
   "outputs": [
    {
     "data": {
      "text/html": [
       "<div>\n",
       "<style scoped>\n",
       "    .dataframe tbody tr th:only-of-type {\n",
       "        vertical-align: middle;\n",
       "    }\n",
       "\n",
       "    .dataframe tbody tr th {\n",
       "        vertical-align: top;\n",
       "    }\n",
       "\n",
       "    .dataframe thead th {\n",
       "        text-align: right;\n",
       "    }\n",
       "</style>\n",
       "<table border=\"1\" class=\"dataframe\">\n",
       "  <thead>\n",
       "    <tr style=\"text-align: right;\">\n",
       "      <th></th>\n",
       "      <th>Counts</th>\n",
       "      <th>Percentage</th>\n",
       "    </tr>\n",
       "  </thead>\n",
       "  <tbody>\n",
       "    <tr>\n",
       "      <th>Blocked Driveway</th>\n",
       "      <td>77044</td>\n",
       "      <td>25.62</td>\n",
       "    </tr>\n",
       "    <tr>\n",
       "      <th>Illegal Parking</th>\n",
       "      <td>75361</td>\n",
       "      <td>25.06</td>\n",
       "    </tr>\n",
       "    <tr>\n",
       "      <th>Noise - Street/Sidewalk</th>\n",
       "      <td>48612</td>\n",
       "      <td>16.17</td>\n",
       "    </tr>\n",
       "    <tr>\n",
       "      <th>Noise - Commercial</th>\n",
       "      <td>35577</td>\n",
       "      <td>11.83</td>\n",
       "    </tr>\n",
       "    <tr>\n",
       "      <th>Derelict Vehicle</th>\n",
       "      <td>17718</td>\n",
       "      <td>5.89</td>\n",
       "    </tr>\n",
       "    <tr>\n",
       "      <th>Noise - Vehicle</th>\n",
       "      <td>17083</td>\n",
       "      <td>5.68</td>\n",
       "    </tr>\n",
       "    <tr>\n",
       "      <th>Animal Abuse</th>\n",
       "      <td>7778</td>\n",
       "      <td>2.59</td>\n",
       "    </tr>\n",
       "    <tr>\n",
       "      <th>Traffic</th>\n",
       "      <td>4498</td>\n",
       "      <td>1.50</td>\n",
       "    </tr>\n",
       "    <tr>\n",
       "      <th>Homeless Encampment</th>\n",
       "      <td>4416</td>\n",
       "      <td>1.47</td>\n",
       "    </tr>\n",
       "    <tr>\n",
       "      <th>Noise - Park</th>\n",
       "      <td>4042</td>\n",
       "      <td>1.34</td>\n",
       "    </tr>\n",
       "    <tr>\n",
       "      <th>Vending</th>\n",
       "      <td>3802</td>\n",
       "      <td>1.26</td>\n",
       "    </tr>\n",
       "    <tr>\n",
       "      <th>Drinking</th>\n",
       "      <td>1280</td>\n",
       "      <td>0.43</td>\n",
       "    </tr>\n",
       "    <tr>\n",
       "      <th>Noise - House of Worship</th>\n",
       "      <td>931</td>\n",
       "      <td>0.31</td>\n",
       "    </tr>\n",
       "    <tr>\n",
       "      <th>Posting Advertisement</th>\n",
       "      <td>650</td>\n",
       "      <td>0.22</td>\n",
       "    </tr>\n",
       "    <tr>\n",
       "      <th>Urinating in Public</th>\n",
       "      <td>592</td>\n",
       "      <td>0.20</td>\n",
       "    </tr>\n",
       "    <tr>\n",
       "      <th>Bike/Roller/Skate Chronic</th>\n",
       "      <td>427</td>\n",
       "      <td>0.14</td>\n",
       "    </tr>\n",
       "    <tr>\n",
       "      <th>Panhandling</th>\n",
       "      <td>307</td>\n",
       "      <td>0.10</td>\n",
       "    </tr>\n",
       "    <tr>\n",
       "      <th>Disorderly Youth</th>\n",
       "      <td>286</td>\n",
       "      <td>0.10</td>\n",
       "    </tr>\n",
       "    <tr>\n",
       "      <th>Illegal Fireworks</th>\n",
       "      <td>168</td>\n",
       "      <td>0.06</td>\n",
       "    </tr>\n",
       "    <tr>\n",
       "      <th>Graffiti</th>\n",
       "      <td>113</td>\n",
       "      <td>0.04</td>\n",
       "    </tr>\n",
       "    <tr>\n",
       "      <th>Agency Issues</th>\n",
       "      <td>6</td>\n",
       "      <td>0.00</td>\n",
       "    </tr>\n",
       "    <tr>\n",
       "      <th>Squeegee</th>\n",
       "      <td>4</td>\n",
       "      <td>0.00</td>\n",
       "    </tr>\n",
       "    <tr>\n",
       "      <th>Ferry Complaint</th>\n",
       "      <td>2</td>\n",
       "      <td>0.00</td>\n",
       "    </tr>\n",
       "    <tr>\n",
       "      <th>Animal in a Park</th>\n",
       "      <td>1</td>\n",
       "      <td>0.00</td>\n",
       "    </tr>\n",
       "  </tbody>\n",
       "</table>\n",
       "</div>"
      ],
      "text/plain": [
       "                           Counts  Percentage\n",
       "Blocked Driveway            77044       25.62\n",
       "Illegal Parking             75361       25.06\n",
       "Noise - Street/Sidewalk     48612       16.17\n",
       "Noise - Commercial          35577       11.83\n",
       "Derelict Vehicle            17718        5.89\n",
       "Noise - Vehicle             17083        5.68\n",
       "Animal Abuse                 7778        2.59\n",
       "Traffic                      4498        1.50\n",
       "Homeless Encampment          4416        1.47\n",
       "Noise - Park                 4042        1.34\n",
       "Vending                      3802        1.26\n",
       "Drinking                     1280        0.43\n",
       "Noise - House of Worship      931        0.31\n",
       "Posting Advertisement         650        0.22\n",
       "Urinating in Public           592        0.20\n",
       "Bike/Roller/Skate Chronic     427        0.14\n",
       "Panhandling                   307        0.10\n",
       "Disorderly Youth              286        0.10\n",
       "Illegal Fireworks             168        0.06\n",
       "Graffiti                      113        0.04\n",
       "Agency Issues                   6        0.00\n",
       "Squeegee                        4        0.00\n",
       "Ferry Complaint                 2        0.00\n",
       "Animal in a Park                1        0.00"
      ]
     },
     "execution_count": 68,
     "metadata": {},
     "output_type": "execute_result"
    }
   ],
   "source": [
    "# Evaluate the above in percentage\n",
    "data_complaint['Percentage'] = np.around((data_complaint.Counts/data_complaint.Counts.sum())*100,decimals=2)\n",
    "data_complaint"
   ]
  },
  {
   "cell_type": "code",
   "execution_count": 69,
   "id": "c8985edb",
   "metadata": {},
   "outputs": [
    {
     "data": {
      "text/html": [
       "<div>\n",
       "<style scoped>\n",
       "    .dataframe tbody tr th:only-of-type {\n",
       "        vertical-align: middle;\n",
       "    }\n",
       "\n",
       "    .dataframe tbody tr th {\n",
       "        vertical-align: top;\n",
       "    }\n",
       "\n",
       "    .dataframe thead th {\n",
       "        text-align: right;\n",
       "    }\n",
       "</style>\n",
       "<table border=\"1\" class=\"dataframe\">\n",
       "  <thead>\n",
       "    <tr style=\"text-align: right;\">\n",
       "      <th></th>\n",
       "      <th>Complaint Type</th>\n",
       "      <th>Counts</th>\n",
       "      <th>Percentage</th>\n",
       "    </tr>\n",
       "  </thead>\n",
       "  <tbody>\n",
       "    <tr>\n",
       "      <th>0</th>\n",
       "      <td>Blocked Driveway</td>\n",
       "      <td>77044</td>\n",
       "      <td>25.62</td>\n",
       "    </tr>\n",
       "    <tr>\n",
       "      <th>1</th>\n",
       "      <td>Illegal Parking</td>\n",
       "      <td>75361</td>\n",
       "      <td>25.06</td>\n",
       "    </tr>\n",
       "    <tr>\n",
       "      <th>2</th>\n",
       "      <td>Noise - Street/Sidewalk</td>\n",
       "      <td>48612</td>\n",
       "      <td>16.17</td>\n",
       "    </tr>\n",
       "    <tr>\n",
       "      <th>3</th>\n",
       "      <td>Noise - Commercial</td>\n",
       "      <td>35577</td>\n",
       "      <td>11.83</td>\n",
       "    </tr>\n",
       "    <tr>\n",
       "      <th>4</th>\n",
       "      <td>Derelict Vehicle</td>\n",
       "      <td>17718</td>\n",
       "      <td>5.89</td>\n",
       "    </tr>\n",
       "    <tr>\n",
       "      <th>5</th>\n",
       "      <td>Noise - Vehicle</td>\n",
       "      <td>17083</td>\n",
       "      <td>5.68</td>\n",
       "    </tr>\n",
       "    <tr>\n",
       "      <th>6</th>\n",
       "      <td>Animal Abuse</td>\n",
       "      <td>7778</td>\n",
       "      <td>2.59</td>\n",
       "    </tr>\n",
       "    <tr>\n",
       "      <th>7</th>\n",
       "      <td>Traffic</td>\n",
       "      <td>4498</td>\n",
       "      <td>1.50</td>\n",
       "    </tr>\n",
       "    <tr>\n",
       "      <th>8</th>\n",
       "      <td>Homeless Encampment</td>\n",
       "      <td>4416</td>\n",
       "      <td>1.47</td>\n",
       "    </tr>\n",
       "    <tr>\n",
       "      <th>9</th>\n",
       "      <td>Noise - Park</td>\n",
       "      <td>4042</td>\n",
       "      <td>1.34</td>\n",
       "    </tr>\n",
       "    <tr>\n",
       "      <th>10</th>\n",
       "      <td>Vending</td>\n",
       "      <td>3802</td>\n",
       "      <td>1.26</td>\n",
       "    </tr>\n",
       "  </tbody>\n",
       "</table>\n",
       "</div>"
      ],
      "text/plain": [
       "             Complaint Type  Counts  Percentage\n",
       "0          Blocked Driveway   77044       25.62\n",
       "1           Illegal Parking   75361       25.06\n",
       "2   Noise - Street/Sidewalk   48612       16.17\n",
       "3        Noise - Commercial   35577       11.83\n",
       "4          Derelict Vehicle   17718        5.89\n",
       "5           Noise - Vehicle   17083        5.68\n",
       "6              Animal Abuse    7778        2.59\n",
       "7                   Traffic    4498        1.50\n",
       "8       Homeless Encampment    4416        1.47\n",
       "9              Noise - Park    4042        1.34\n",
       "10                  Vending    3802        1.26"
      ]
     },
     "execution_count": 69,
     "metadata": {},
     "output_type": "execute_result"
    }
   ],
   "source": [
    "# Keeping the major complaint types\n",
    "\n",
    "data_complaint = data_complaint[data_complaint.Percentage>1.0]\n",
    "data_complaint = data_complaint.reset_index()\n",
    "data_complaint = data_complaint.rename(columns={'index':'Complaint Type'})\n",
    "data_complaint"
   ]
  },
  {
   "cell_type": "code",
   "execution_count": 70,
   "id": "e541225d",
   "metadata": {},
   "outputs": [
    {
     "data": {
      "image/png": "[encoded data removed]",
      "text/plain": [
       "<Figure size 864x432 with 1 Axes>"
      ]
     },
     "metadata": {
      "needs_background": "light"
     },
     "output_type": "display_data"
    },
    {
     "data": {
      "text/plain": [
       "<Figure size 432x288 with 0 Axes>"
      ]
     },
     "metadata": {},
     "output_type": "display_data"
    }
   ],
   "source": [
    "# Visualization of the above evaluated dataset\n",
    "plt.figure(figsize=(12,6))\n",
    "com_type = sns.barplot(x=data_complaint['Complaint Type'],y=data_complaint.Percentage,data=data_complaint)\n",
    "com_type.set_xticklabels(com_type.get_xticklabels(), rotation=30, ha=\"right\")\n",
    "plt.title('Proportion of different complaint type (major)')\n",
    "plt.show()\n",
    "plt.tight_layout()"
   ]
  },
  {
   "cell_type": "markdown",
   "id": "2700fb27",
   "metadata": {},
   "source": [
    "From the above data (Counts and Percentage), it is clear that main complain comes from 'Blocked Driveway', 'Illegal Parking' and noise from Street/Sidewalk or Commercial. \n",
    "\n",
    "However, it is alluring to represent such results via visualization. And it is easy to realise the facts also. \n",
    "\n",
    "Now, we will do the same for several features."
   ]
  },
  {
   "cell_type": "code",
   "execution_count": 71,
   "id": "d5ba1ccf",
   "metadata": {},
   "outputs": [
    {
     "data": {
      "text/html": [
       "<div>\n",
       "<style scoped>\n",
       "    .dataframe tbody tr th:only-of-type {\n",
       "        vertical-align: middle;\n",
       "    }\n",
       "\n",
       "    .dataframe tbody tr th {\n",
       "        vertical-align: top;\n",
       "    }\n",
       "\n",
       "    .dataframe thead th {\n",
       "        text-align: right;\n",
       "    }\n",
       "</style>\n",
       "<table border=\"1\" class=\"dataframe\">\n",
       "  <thead>\n",
       "    <tr style=\"text-align: right;\">\n",
       "      <th></th>\n",
       "      <th>Descriptor</th>\n",
       "      <th>Percentage</th>\n",
       "    </tr>\n",
       "  </thead>\n",
       "  <tbody>\n",
       "    <tr>\n",
       "      <th>0</th>\n",
       "      <td>Loud Music/Party</td>\n",
       "      <td>20.84</td>\n",
       "    </tr>\n",
       "    <tr>\n",
       "      <th>1</th>\n",
       "      <td>No Access</td>\n",
       "      <td>19.33</td>\n",
       "    </tr>\n",
       "    <tr>\n",
       "      <th>2</th>\n",
       "      <td>Posted Parking Sign Violation</td>\n",
       "      <td>7.61</td>\n",
       "    </tr>\n",
       "    <tr>\n",
       "      <th>3</th>\n",
       "      <td>Loud Talking</td>\n",
       "      <td>7.32</td>\n",
       "    </tr>\n",
       "    <tr>\n",
       "      <th>4</th>\n",
       "      <td>Partial Access</td>\n",
       "      <td>6.81</td>\n",
       "    </tr>\n",
       "    <tr>\n",
       "      <th>5</th>\n",
       "      <td>With License Plate</td>\n",
       "      <td>6.01</td>\n",
       "    </tr>\n",
       "    <tr>\n",
       "      <th>6</th>\n",
       "      <td>Blocked Hydrant</td>\n",
       "      <td>5.46</td>\n",
       "    </tr>\n",
       "    <tr>\n",
       "      <th>7</th>\n",
       "      <td>Commercial Overnight Parking</td>\n",
       "      <td>4.13</td>\n",
       "    </tr>\n",
       "    <tr>\n",
       "      <th>8</th>\n",
       "      <td>Car/Truck Music</td>\n",
       "      <td>3.82</td>\n",
       "    </tr>\n",
       "    <tr>\n",
       "      <th>9</th>\n",
       "      <td>Blocked Sidewalk</td>\n",
       "      <td>3.77</td>\n",
       "    </tr>\n",
       "  </tbody>\n",
       "</table>\n",
       "</div>"
      ],
      "text/plain": [
       "                      Descriptor  Percentage\n",
       "0               Loud Music/Party       20.84\n",
       "1                      No Access       19.33\n",
       "2  Posted Parking Sign Violation        7.61\n",
       "3                   Loud Talking        7.32\n",
       "4                 Partial Access        6.81\n",
       "5             With License Plate        6.01\n",
       "6                Blocked Hydrant        5.46\n",
       "7   Commercial Overnight Parking        4.13\n",
       "8                Car/Truck Music        3.82\n",
       "9               Blocked Sidewalk        3.77"
      ]
     },
     "execution_count": 71,
     "metadata": {},
     "output_type": "execute_result"
    }
   ],
   "source": [
    "# Applying the above procedure for Descriptor\n",
    "\n",
    "data_descriptor = np.around(((data_mod['Descriptor'].value_counts()*100) / data_mod['Descriptor'].value_counts().sum()),\n",
    "                            decimals=2)\n",
    "data_descriptor = data_descriptor.to_frame()\n",
    "data_descriptor = data_descriptor.rename(columns={'Descriptor':'Percentage'})\n",
    "data_descriptor['Descriptor'] = data_descriptor.index\n",
    "cols = data_descriptor.columns.tolist()\n",
    "cols = cols[-1:]+cols[:-1]\n",
    "data_descriptor = data_descriptor[cols]\n",
    "data_descriptor = data_descriptor[(data_descriptor.Percentage) >= 2.0]\n",
    "data_descriptor = data_descriptor.reset_index()\n",
    "data_descriptor = data_descriptor.drop(columns=['index'],axis=1)\n",
    "data_descriptor"
   ]
  },
  {
   "cell_type": "code",
   "execution_count": 72,
   "id": "dd331935",
   "metadata": {},
   "outputs": [
    {
     "data": {
      "text/html": [
       "<div>\n",
       "<style scoped>\n",
       "    .dataframe tbody tr th:only-of-type {\n",
       "        vertical-align: middle;\n",
       "    }\n",
       "\n",
       "    .dataframe tbody tr th {\n",
       "        vertical-align: top;\n",
       "    }\n",
       "\n",
       "    .dataframe thead th {\n",
       "        text-align: right;\n",
       "    }\n",
       "</style>\n",
       "<table border=\"1\" class=\"dataframe\">\n",
       "  <thead>\n",
       "    <tr style=\"text-align: right;\">\n",
       "      <th></th>\n",
       "      <th>Location Type</th>\n",
       "      <th>Percentage</th>\n",
       "    </tr>\n",
       "  </thead>\n",
       "  <tbody>\n",
       "    <tr>\n",
       "      <th>0</th>\n",
       "      <td>Street/Sidewalk</td>\n",
       "      <td>82.94</td>\n",
       "    </tr>\n",
       "    <tr>\n",
       "      <th>1</th>\n",
       "      <td>Store/Commercial</td>\n",
       "      <td>6.78</td>\n",
       "    </tr>\n",
       "    <tr>\n",
       "      <th>2</th>\n",
       "      <td>Club/Bar/Restaurant</td>\n",
       "      <td>5.78</td>\n",
       "    </tr>\n",
       "    <tr>\n",
       "      <th>3</th>\n",
       "      <td>Residential Building/House</td>\n",
       "      <td>2.32</td>\n",
       "    </tr>\n",
       "    <tr>\n",
       "      <th>4</th>\n",
       "      <td>Park/Playground</td>\n",
       "      <td>1.59</td>\n",
       "    </tr>\n",
       "    <tr>\n",
       "      <th>5</th>\n",
       "      <td>House of Worship</td>\n",
       "      <td>0.31</td>\n",
       "    </tr>\n",
       "  </tbody>\n",
       "</table>\n",
       "</div>"
      ],
      "text/plain": [
       "                Location Type  Percentage\n",
       "0             Street/Sidewalk       82.94\n",
       "1            Store/Commercial        6.78\n",
       "2         Club/Bar/Restaurant        5.78\n",
       "3  Residential Building/House        2.32\n",
       "4             Park/Playground        1.59\n",
       "5            House of Worship        0.31"
      ]
     },
     "execution_count": 72,
     "metadata": {},
     "output_type": "execute_result"
    }
   ],
   "source": [
    "# Applying the above procedure for Location Type\n",
    "\n",
    "data_location_type = np.around(((data_mod['Location Type'].value_counts()*100) / data_mod['Location Type'].value_counts().sum()),\n",
    "                            decimals=2)\n",
    "data_location_type = data_location_type.to_frame()\n",
    "data_location_type = data_location_type.rename(columns={'Location Type':'Percentage'})\n",
    "data_location_type['Location Type'] = data_location_type.index\n",
    "cols = data_location_type.columns.tolist()\n",
    "cols = cols[-1:]+cols[:-1]\n",
    "data_location_type = data_location_type[cols]\n",
    "data_location_type = data_location_type[(data_location_type.Percentage) >= 0.1]\n",
    "data_location_type = data_location_type.reset_index()\n",
    "data_location_type = data_location_type.drop(columns=['index'],axis=1)\n",
    "data_location_type"
   ]
  },
  {
   "cell_type": "code",
   "execution_count": 73,
   "id": "fdeefc9b",
   "metadata": {},
   "outputs": [
    {
     "data": {
      "text/html": [
       "<div>\n",
       "<style scoped>\n",
       "    .dataframe tbody tr th:only-of-type {\n",
       "        vertical-align: middle;\n",
       "    }\n",
       "\n",
       "    .dataframe tbody tr th {\n",
       "        vertical-align: top;\n",
       "    }\n",
       "\n",
       "    .dataframe thead th {\n",
       "        text-align: right;\n",
       "    }\n",
       "</style>\n",
       "<table border=\"1\" class=\"dataframe\">\n",
       "  <thead>\n",
       "    <tr style=\"text-align: right;\">\n",
       "      <th></th>\n",
       "      <th>City</th>\n",
       "      <th>Percentage</th>\n",
       "    </tr>\n",
       "  </thead>\n",
       "  <tbody>\n",
       "    <tr>\n",
       "      <th>0</th>\n",
       "      <td>BROOKLYN</td>\n",
       "      <td>32.98</td>\n",
       "    </tr>\n",
       "    <tr>\n",
       "      <th>1</th>\n",
       "      <td>NEW YORK</td>\n",
       "      <td>22.14</td>\n",
       "    </tr>\n",
       "    <tr>\n",
       "      <th>2</th>\n",
       "      <td>BRONX</td>\n",
       "      <td>13.65</td>\n",
       "    </tr>\n",
       "    <tr>\n",
       "      <th>3</th>\n",
       "      <td>STATEN ISLAND</td>\n",
       "      <td>4.14</td>\n",
       "    </tr>\n",
       "    <tr>\n",
       "      <th>4</th>\n",
       "      <td>JAMAICA</td>\n",
       "      <td>2.45</td>\n",
       "    </tr>\n",
       "    <tr>\n",
       "      <th>5</th>\n",
       "      <td>ASTORIA</td>\n",
       "      <td>2.12</td>\n",
       "    </tr>\n",
       "    <tr>\n",
       "      <th>6</th>\n",
       "      <td>FLUSHING</td>\n",
       "      <td>2.00</td>\n",
       "    </tr>\n",
       "    <tr>\n",
       "      <th>7</th>\n",
       "      <td>RIDGEWOOD</td>\n",
       "      <td>1.73</td>\n",
       "    </tr>\n",
       "    <tr>\n",
       "      <th>8</th>\n",
       "      <td>CORONA</td>\n",
       "      <td>1.44</td>\n",
       "    </tr>\n",
       "    <tr>\n",
       "      <th>9</th>\n",
       "      <td>WOODSIDE</td>\n",
       "      <td>1.19</td>\n",
       "    </tr>\n",
       "  </tbody>\n",
       "</table>\n",
       "</div>"
      ],
      "text/plain": [
       "            City  Percentage\n",
       "0       BROOKLYN       32.98\n",
       "1       NEW YORK       22.14\n",
       "2          BRONX       13.65\n",
       "3  STATEN ISLAND        4.14\n",
       "4        JAMAICA        2.45\n",
       "5        ASTORIA        2.12\n",
       "6       FLUSHING        2.00\n",
       "7      RIDGEWOOD        1.73\n",
       "8         CORONA        1.44\n",
       "9       WOODSIDE        1.19"
      ]
     },
     "execution_count": 73,
     "metadata": {},
     "output_type": "execute_result"
    }
   ],
   "source": [
    "# Applying the above procedure for City\n",
    "\n",
    "data_city = np.around(((data_mod['City'].value_counts()*100) / data_mod['City'].value_counts().sum()),\n",
    "                            decimals=2)\n",
    "data_city = data_city.to_frame()\n",
    "data_city = data_city.rename(columns={'City':'Percentage'})\n",
    "data_city['City'] = data_city.index\n",
    "cols = data_city.columns.tolist()\n",
    "cols = cols[-1:]+cols[:-1]\n",
    "data_city = data_city[cols]\n",
    "data_city = data_city[(data_city.Percentage) >= 1.0]\n",
    "data_city = data_city.reset_index()\n",
    "data_city = data_city.drop(columns=['index'],axis=1)\n",
    "data_city"
   ]
  },
  {
   "cell_type": "code",
   "execution_count": 74,
   "id": "3fd23072",
   "metadata": {},
   "outputs": [
    {
     "data": {
      "text/html": [
       "<div>\n",
       "<style scoped>\n",
       "    .dataframe tbody tr th:only-of-type {\n",
       "        vertical-align: middle;\n",
       "    }\n",
       "\n",
       "    .dataframe tbody tr th {\n",
       "        vertical-align: top;\n",
       "    }\n",
       "\n",
       "    .dataframe thead th {\n",
       "        text-align: right;\n",
       "    }\n",
       "</style>\n",
       "<table border=\"1\" class=\"dataframe\">\n",
       "  <thead>\n",
       "    <tr style=\"text-align: right;\">\n",
       "      <th></th>\n",
       "      <th>Address Type</th>\n",
       "      <th>Percentage</th>\n",
       "    </tr>\n",
       "  </thead>\n",
       "  <tbody>\n",
       "    <tr>\n",
       "      <th>0</th>\n",
       "      <td>ADDRESS</td>\n",
       "      <td>80.11</td>\n",
       "    </tr>\n",
       "    <tr>\n",
       "      <th>1</th>\n",
       "      <td>INTERSECTION</td>\n",
       "      <td>14.56</td>\n",
       "    </tr>\n",
       "    <tr>\n",
       "      <th>2</th>\n",
       "      <td>BLOCKFACE</td>\n",
       "      <td>4.03</td>\n",
       "    </tr>\n",
       "    <tr>\n",
       "      <th>3</th>\n",
       "      <td>LATLONG</td>\n",
       "      <td>1.18</td>\n",
       "    </tr>\n",
       "    <tr>\n",
       "      <th>4</th>\n",
       "      <td>PLACENAME</td>\n",
       "      <td>0.12</td>\n",
       "    </tr>\n",
       "  </tbody>\n",
       "</table>\n",
       "</div>"
      ],
      "text/plain": [
       "   Address Type  Percentage\n",
       "0       ADDRESS       80.11\n",
       "1  INTERSECTION       14.56\n",
       "2     BLOCKFACE        4.03\n",
       "3       LATLONG        1.18\n",
       "4     PLACENAME        0.12"
      ]
     },
     "execution_count": 74,
     "metadata": {},
     "output_type": "execute_result"
    }
   ],
   "source": [
    "# Applying the above procedure for Address Type\n",
    "\n",
    "data_address_type = np.around(((data_mod['Address Type'].value_counts()*100) / data_mod['Address Type'].value_counts().sum()),\n",
    "                            decimals=2)\n",
    "data_address_type = data_address_type.to_frame()\n",
    "data_address_type = data_address_type.rename(columns={'Address Type':'Percentage'})\n",
    "data_address_type['Address Type'] = data_address_type.index\n",
    "cols = data_address_type.columns.tolist()\n",
    "cols = cols[-1:]+cols[:-1]\n",
    "data_address_type = data_address_type[cols]\n",
    "#data_address_type = data_address_type[(data_address_type.Percentage) >= 1.0]\n",
    "data_address_type = data_address_type.reset_index()\n",
    "data_address_type = data_address_type.drop(columns=['index'],axis=1)\n",
    "data_address_type"
   ]
  },
  {
   "cell_type": "code",
   "execution_count": 75,
   "id": "ca194d88",
   "metadata": {},
   "outputs": [
    {
     "data": {
      "image/png": "[encoded data removed]",
      "text/plain": [
       "<Figure size 864x720 with 4 Axes>"
      ]
     },
     "metadata": {
      "needs_background": "light"
     },
     "output_type": "display_data"
    }
   ],
   "source": [
    "fig, ax = plt.subplots(2, 2, figsize=(12, 10))\n",
    "\n",
    "#sns.set_theme(style=\"whitegrid\")\n",
    "#plt.suptitle(\"Proportion of different outcomes for few interesting features.\")\n",
    "\n",
    "descriptor = sns.barplot(ax=ax[0,0],x=data_descriptor.Descriptor,y=data_descriptor.Percentage,)\n",
    "descriptor.set_xticklabels(descriptor.get_xticklabels(), rotation=30, ha=\"right\")\n",
    "\n",
    "location_type = sns.barplot(ax=ax[0,1],x=data_location_type['Location Type'],y=data_location_type.Percentage,)\n",
    "location_type.set_xticklabels(location_type.get_xticklabels(), rotation=30, ha=\"right\")\n",
    "\n",
    "city = sns.barplot(ax=ax[1,0],x=data_city['City'],y=data_city.Percentage,)\n",
    "city.set_xticklabels(city.get_xticklabels(), rotation=30, ha=\"right\")\n",
    "\n",
    "address = sns.barplot(ax=ax[1,1],x=data_address_type['Address Type'],y=data_address_type.Percentage,)\n",
    "address.set_xticklabels(address.get_xticklabels(), rotation=30, ha=\"right\")\n",
    "\n",
    "\n",
    "#plt.subplots_adjust(left=None, bottom=None, right=None, top=0.0, wspace=None, hspace=None)\n",
    "plt.tight_layout()"
   ]
  },
  {
   "cell_type": "markdown",
   "id": "5770921c",
   "metadata": {},
   "source": [
    "So it is obvious that the Loud Music/party causes the biggest problem for the citizens. And it seems most complaints occur at Street/Sidewalk. And 'Brooklyn' faces the largest problems among all other cities. However, we have mostly solid information.  The place where the problem occurs is pinpointed (Proper Address).\n",
    "\n",
    "These observations are very preliminary. One can expect or guess the outcomes from these visualizations, regarding the corresponding features. However, it needs to be realized that we can not infer/predict from here without any proper statistical explanation."
   ]
  },
  {
   "cell_type": "markdown",
   "id": "676e996d",
   "metadata": {},
   "source": [
    "Now, let's convert the time data ('timedelta64') into integer and store them (converting into hours) in a new column. Besides that let us cut the ambiguous data."
   ]
  },
  {
   "cell_type": "code",
   "execution_count": 76,
   "id": "7bbe5c8b",
   "metadata": {},
   "outputs": [
    {
     "name": "stderr",
     "output_type": "stream",
     "text": [
      "C:\\Users\\HP\\anaconda3\\lib\\site-packages\\pandas\\util\\_decorators.py:311: SettingWithCopyWarning: \n",
      "A value is trying to be set on a copy of a slice from a DataFrame\n",
      "\n",
      "See the caveats in the documentation: https://pandas.pydata.org/pandas-docs/stable/user_guide/indexing.html#returning-a-view-versus-a-copy\n",
      "  return func(*args, **kwargs)\n",
      "C:\\Users\\HP\\AppData\\Local\\Temp/ipykernel_9348/736232276.py:3: FutureWarning: casting timedelta64[ns] values to int64 with .astype(...) is deprecated and will raise in a future version. Use .view(...) instead.\n",
      "  data_place_CType_RCTime['DeltaT(in_hr.)'] = np.around( (data_place_CType_RCTime['Request_Closing_Time'].astype(np.int64)/\n",
      "C:\\Users\\HP\\AppData\\Local\\Temp/ipykernel_9348/736232276.py:3: SettingWithCopyWarning: \n",
      "A value is trying to be set on a copy of a slice from a DataFrame.\n",
      "Try using .loc[row_indexer,col_indexer] = value instead\n",
      "\n",
      "See the caveats in the documentation: https://pandas.pydata.org/pandas-docs/stable/user_guide/indexing.html#returning-a-view-versus-a-copy\n",
      "  data_place_CType_RCTime['DeltaT(in_hr.)'] = np.around( (data_place_CType_RCTime['Request_Closing_Time'].astype(np.int64)/\n"
     ]
    },
    {
     "ename": "TypeError",
     "evalue": "float() argument must be a string or a number, not 'Timedelta'",
     "output_type": "error",
     "traceback": [
      "\u001b[1;31m---------------------------------------------------------------------------\u001b[0m",
      "\u001b[1;31mTypeError\u001b[0m                                 Traceback (most recent call last)",
      "\u001b[1;32m~\\AppData\\Local\\Temp/ipykernel_9348/736232276.py\u001b[0m in \u001b[0;36m<module>\u001b[1;34m\u001b[0m\n\u001b[0;32m      3\u001b[0m data_place_CType_RCTime['DeltaT(in_hr.)'] = np.around( (data_place_CType_RCTime['Request_Closing_Time'].astype(np.int64)/\n\u001b[0;32m      4\u001b[0m                                                       (pow(10,9)*3600) ), decimals=2)\n\u001b[1;32m----> 5\u001b[1;33m \u001b[0mneg_time\u001b[0m \u001b[1;33m=\u001b[0m \u001b[0mdata_place_CType_RCTime\u001b[0m\u001b[1;33m[\u001b[0m\u001b[0mdata_place_CType_RCTime\u001b[0m\u001b[1;33m[\u001b[0m\u001b[1;34m'DeltaT(in_hr.)'\u001b[0m\u001b[1;33m]\u001b[0m \u001b[1;33m<\u001b[0m \u001b[1;36m0\u001b[0m\u001b[1;33m]\u001b[0m\u001b[1;33m.\u001b[0m\u001b[0msum\u001b[0m\u001b[1;33m(\u001b[0m\u001b[1;33m)\u001b[0m\u001b[1;33m\u001b[0m\u001b[1;33m\u001b[0m\u001b[0m\n\u001b[0m\u001b[0;32m      6\u001b[0m \u001b[0mprint\u001b[0m\u001b[1;33m(\u001b[0m\u001b[1;34m'The no negative time difference (Created Time > Clossing Time, which is not possible) = \\n'\u001b[0m\u001b[1;33m,\u001b[0m\u001b[0mneg_time\u001b[0m\u001b[1;33m)\u001b[0m\u001b[1;33m\u001b[0m\u001b[1;33m\u001b[0m\u001b[0m\n\u001b[0;32m      7\u001b[0m \u001b[1;31m#data_place_CType_RCTime['DeltaT(in sec)/Avg.'] = np.around((data_place_CType_RCTime['DeltaT(in sec)']/Avarage_time),decimals=1)\u001b[0m\u001b[1;33m\u001b[0m\u001b[1;33m\u001b[0m\u001b[0m\n",
      "\u001b[1;32m~\\anaconda3\\lib\\site-packages\\pandas\\core\\generic.py\u001b[0m in \u001b[0;36msum\u001b[1;34m(self, axis, skipna, level, numeric_only, min_count, **kwargs)\u001b[0m\n\u001b[0;32m  10706\u001b[0m             \u001b[1;33m**\u001b[0m\u001b[0mkwargs\u001b[0m\u001b[1;33m,\u001b[0m\u001b[1;33m\u001b[0m\u001b[1;33m\u001b[0m\u001b[0m\n\u001b[0;32m  10707\u001b[0m         ):\n\u001b[1;32m> 10708\u001b[1;33m             return NDFrame.sum(\n\u001b[0m\u001b[0;32m  10709\u001b[0m                 \u001b[0mself\u001b[0m\u001b[1;33m,\u001b[0m \u001b[0maxis\u001b[0m\u001b[1;33m,\u001b[0m \u001b[0mskipna\u001b[0m\u001b[1;33m,\u001b[0m \u001b[0mlevel\u001b[0m\u001b[1;33m,\u001b[0m \u001b[0mnumeric_only\u001b[0m\u001b[1;33m,\u001b[0m \u001b[0mmin_count\u001b[0m\u001b[1;33m,\u001b[0m \u001b[1;33m**\u001b[0m\u001b[0mkwargs\u001b[0m\u001b[1;33m\u001b[0m\u001b[1;33m\u001b[0m\u001b[0m\n\u001b[0;32m  10710\u001b[0m             )\n",
      "\u001b[1;32m~\\anaconda3\\lib\\site-packages\\pandas\\core\\generic.py\u001b[0m in \u001b[0;36msum\u001b[1;34m(self, axis, skipna, level, numeric_only, min_count, **kwargs)\u001b[0m\n\u001b[0;32m  10444\u001b[0m         \u001b[1;33m**\u001b[0m\u001b[0mkwargs\u001b[0m\u001b[1;33m,\u001b[0m\u001b[1;33m\u001b[0m\u001b[1;33m\u001b[0m\u001b[0m\n\u001b[0;32m  10445\u001b[0m     ):\n\u001b[1;32m> 10446\u001b[1;33m         return self._min_count_stat_function(\n\u001b[0m\u001b[0;32m  10447\u001b[0m             \u001b[1;34m\"sum\"\u001b[0m\u001b[1;33m,\u001b[0m \u001b[0mnanops\u001b[0m\u001b[1;33m.\u001b[0m\u001b[0mnansum\u001b[0m\u001b[1;33m,\u001b[0m \u001b[0maxis\u001b[0m\u001b[1;33m,\u001b[0m \u001b[0mskipna\u001b[0m\u001b[1;33m,\u001b[0m \u001b[0mlevel\u001b[0m\u001b[1;33m,\u001b[0m \u001b[0mnumeric_only\u001b[0m\u001b[1;33m,\u001b[0m \u001b[0mmin_count\u001b[0m\u001b[1;33m,\u001b[0m \u001b[1;33m**\u001b[0m\u001b[0mkwargs\u001b[0m\u001b[1;33m\u001b[0m\u001b[1;33m\u001b[0m\u001b[0m\n\u001b[0;32m  10448\u001b[0m         )\n",
      "\u001b[1;32m~\\anaconda3\\lib\\site-packages\\pandas\\core\\generic.py\u001b[0m in \u001b[0;36m_min_count_stat_function\u001b[1;34m(self, name, func, axis, skipna, level, numeric_only, min_count, **kwargs)\u001b[0m\n\u001b[0;32m  10426\u001b[0m                 \u001b[0mnumeric_only\u001b[0m\u001b[1;33m=\u001b[0m\u001b[0mnumeric_only\u001b[0m\u001b[1;33m,\u001b[0m\u001b[1;33m\u001b[0m\u001b[1;33m\u001b[0m\u001b[0m\n\u001b[0;32m  10427\u001b[0m             )\n\u001b[1;32m> 10428\u001b[1;33m         return self._reduce(\n\u001b[0m\u001b[0;32m  10429\u001b[0m             \u001b[0mfunc\u001b[0m\u001b[1;33m,\u001b[0m\u001b[1;33m\u001b[0m\u001b[1;33m\u001b[0m\u001b[0m\n\u001b[0;32m  10430\u001b[0m             \u001b[0mname\u001b[0m\u001b[1;33m=\u001b[0m\u001b[0mname\u001b[0m\u001b[1;33m,\u001b[0m\u001b[1;33m\u001b[0m\u001b[1;33m\u001b[0m\u001b[0m\n",
      "\u001b[1;32m~\\anaconda3\\lib\\site-packages\\pandas\\core\\frame.py\u001b[0m in \u001b[0;36m_reduce\u001b[1;34m(self, op, name, axis, skipna, numeric_only, filter_type, **kwds)\u001b[0m\n\u001b[0;32m   9856\u001b[0m                 \u001b[1;31m# Even if we are object dtype, follow numpy and return\u001b[0m\u001b[1;33m\u001b[0m\u001b[1;33m\u001b[0m\u001b[0m\n\u001b[0;32m   9857\u001b[0m                 \u001b[1;31m#  float64, see test_apply_funcs_over_empty\u001b[0m\u001b[1;33m\u001b[0m\u001b[1;33m\u001b[0m\u001b[0m\n\u001b[1;32m-> 9858\u001b[1;33m                 \u001b[0mout\u001b[0m \u001b[1;33m=\u001b[0m \u001b[0mout\u001b[0m\u001b[1;33m.\u001b[0m\u001b[0mastype\u001b[0m\u001b[1;33m(\u001b[0m\u001b[0mnp\u001b[0m\u001b[1;33m.\u001b[0m\u001b[0mfloat64\u001b[0m\u001b[1;33m)\u001b[0m\u001b[1;33m\u001b[0m\u001b[1;33m\u001b[0m\u001b[0m\n\u001b[0m\u001b[0;32m   9859\u001b[0m \u001b[1;33m\u001b[0m\u001b[0m\n\u001b[0;32m   9860\u001b[0m             \u001b[1;32mif\u001b[0m \u001b[0mnumeric_only\u001b[0m \u001b[1;32mis\u001b[0m \u001b[1;32mNone\u001b[0m \u001b[1;32mand\u001b[0m \u001b[0mout\u001b[0m\u001b[1;33m.\u001b[0m\u001b[0mshape\u001b[0m\u001b[1;33m[\u001b[0m\u001b[1;36m0\u001b[0m\u001b[1;33m]\u001b[0m \u001b[1;33m!=\u001b[0m \u001b[0mdf\u001b[0m\u001b[1;33m.\u001b[0m\u001b[0mshape\u001b[0m\u001b[1;33m[\u001b[0m\u001b[1;36m1\u001b[0m\u001b[1;33m]\u001b[0m\u001b[1;33m:\u001b[0m\u001b[1;33m\u001b[0m\u001b[1;33m\u001b[0m\u001b[0m\n",
      "\u001b[1;32m~\\anaconda3\\lib\\site-packages\\pandas\\core\\generic.py\u001b[0m in \u001b[0;36mastype\u001b[1;34m(self, dtype, copy, errors)\u001b[0m\n\u001b[0;32m   5813\u001b[0m         \u001b[1;32melse\u001b[0m\u001b[1;33m:\u001b[0m\u001b[1;33m\u001b[0m\u001b[1;33m\u001b[0m\u001b[0m\n\u001b[0;32m   5814\u001b[0m             \u001b[1;31m# else, only a single dtype is given\u001b[0m\u001b[1;33m\u001b[0m\u001b[1;33m\u001b[0m\u001b[0m\n\u001b[1;32m-> 5815\u001b[1;33m             \u001b[0mnew_data\u001b[0m \u001b[1;33m=\u001b[0m \u001b[0mself\u001b[0m\u001b[1;33m.\u001b[0m\u001b[0m_mgr\u001b[0m\u001b[1;33m.\u001b[0m\u001b[0mastype\u001b[0m\u001b[1;33m(\u001b[0m\u001b[0mdtype\u001b[0m\u001b[1;33m=\u001b[0m\u001b[0mdtype\u001b[0m\u001b[1;33m,\u001b[0m \u001b[0mcopy\u001b[0m\u001b[1;33m=\u001b[0m\u001b[0mcopy\u001b[0m\u001b[1;33m,\u001b[0m \u001b[0merrors\u001b[0m\u001b[1;33m=\u001b[0m\u001b[0merrors\u001b[0m\u001b[1;33m)\u001b[0m\u001b[1;33m\u001b[0m\u001b[1;33m\u001b[0m\u001b[0m\n\u001b[0m\u001b[0;32m   5816\u001b[0m             \u001b[1;32mreturn\u001b[0m \u001b[0mself\u001b[0m\u001b[1;33m.\u001b[0m\u001b[0m_constructor\u001b[0m\u001b[1;33m(\u001b[0m\u001b[0mnew_data\u001b[0m\u001b[1;33m)\u001b[0m\u001b[1;33m.\u001b[0m\u001b[0m__finalize__\u001b[0m\u001b[1;33m(\u001b[0m\u001b[0mself\u001b[0m\u001b[1;33m,\u001b[0m \u001b[0mmethod\u001b[0m\u001b[1;33m=\u001b[0m\u001b[1;34m\"astype\"\u001b[0m\u001b[1;33m)\u001b[0m\u001b[1;33m\u001b[0m\u001b[1;33m\u001b[0m\u001b[0m\n\u001b[0;32m   5817\u001b[0m \u001b[1;33m\u001b[0m\u001b[0m\n",
      "\u001b[1;32m~\\anaconda3\\lib\\site-packages\\pandas\\core\\internals\\managers.py\u001b[0m in \u001b[0;36mastype\u001b[1;34m(self, dtype, copy, errors)\u001b[0m\n\u001b[0;32m    416\u001b[0m \u001b[1;33m\u001b[0m\u001b[0m\n\u001b[0;32m    417\u001b[0m     \u001b[1;32mdef\u001b[0m \u001b[0mastype\u001b[0m\u001b[1;33m(\u001b[0m\u001b[0mself\u001b[0m\u001b[1;33m:\u001b[0m \u001b[0mT\u001b[0m\u001b[1;33m,\u001b[0m \u001b[0mdtype\u001b[0m\u001b[1;33m,\u001b[0m \u001b[0mcopy\u001b[0m\u001b[1;33m:\u001b[0m \u001b[0mbool\u001b[0m \u001b[1;33m=\u001b[0m \u001b[1;32mFalse\u001b[0m\u001b[1;33m,\u001b[0m \u001b[0merrors\u001b[0m\u001b[1;33m:\u001b[0m \u001b[0mstr\u001b[0m \u001b[1;33m=\u001b[0m \u001b[1;34m\"raise\"\u001b[0m\u001b[1;33m)\u001b[0m \u001b[1;33m->\u001b[0m \u001b[0mT\u001b[0m\u001b[1;33m:\u001b[0m\u001b[1;33m\u001b[0m\u001b[1;33m\u001b[0m\u001b[0m\n\u001b[1;32m--> 418\u001b[1;33m         \u001b[1;32mreturn\u001b[0m \u001b[0mself\u001b[0m\u001b[1;33m.\u001b[0m\u001b[0mapply\u001b[0m\u001b[1;33m(\u001b[0m\u001b[1;34m\"astype\"\u001b[0m\u001b[1;33m,\u001b[0m \u001b[0mdtype\u001b[0m\u001b[1;33m=\u001b[0m\u001b[0mdtype\u001b[0m\u001b[1;33m,\u001b[0m \u001b[0mcopy\u001b[0m\u001b[1;33m=\u001b[0m\u001b[0mcopy\u001b[0m\u001b[1;33m,\u001b[0m \u001b[0merrors\u001b[0m\u001b[1;33m=\u001b[0m\u001b[0merrors\u001b[0m\u001b[1;33m)\u001b[0m\u001b[1;33m\u001b[0m\u001b[1;33m\u001b[0m\u001b[0m\n\u001b[0m\u001b[0;32m    419\u001b[0m \u001b[1;33m\u001b[0m\u001b[0m\n\u001b[0;32m    420\u001b[0m     def convert(\n",
      "\u001b[1;32m~\\anaconda3\\lib\\site-packages\\pandas\\core\\internals\\managers.py\u001b[0m in \u001b[0;36mapply\u001b[1;34m(self, f, align_keys, ignore_failures, **kwargs)\u001b[0m\n\u001b[0;32m    325\u001b[0m                     \u001b[0mapplied\u001b[0m \u001b[1;33m=\u001b[0m \u001b[0mb\u001b[0m\u001b[1;33m.\u001b[0m\u001b[0mapply\u001b[0m\u001b[1;33m(\u001b[0m\u001b[0mf\u001b[0m\u001b[1;33m,\u001b[0m \u001b[1;33m**\u001b[0m\u001b[0mkwargs\u001b[0m\u001b[1;33m)\u001b[0m\u001b[1;33m\u001b[0m\u001b[1;33m\u001b[0m\u001b[0m\n\u001b[0;32m    326\u001b[0m                 \u001b[1;32melse\u001b[0m\u001b[1;33m:\u001b[0m\u001b[1;33m\u001b[0m\u001b[1;33m\u001b[0m\u001b[0m\n\u001b[1;32m--> 327\u001b[1;33m                     \u001b[0mapplied\u001b[0m \u001b[1;33m=\u001b[0m \u001b[0mgetattr\u001b[0m\u001b[1;33m(\u001b[0m\u001b[0mb\u001b[0m\u001b[1;33m,\u001b[0m \u001b[0mf\u001b[0m\u001b[1;33m)\u001b[0m\u001b[1;33m(\u001b[0m\u001b[1;33m**\u001b[0m\u001b[0mkwargs\u001b[0m\u001b[1;33m)\u001b[0m\u001b[1;33m\u001b[0m\u001b[1;33m\u001b[0m\u001b[0m\n\u001b[0m\u001b[0;32m    328\u001b[0m             \u001b[1;32mexcept\u001b[0m \u001b[1;33m(\u001b[0m\u001b[0mTypeError\u001b[0m\u001b[1;33m,\u001b[0m \u001b[0mNotImplementedError\u001b[0m\u001b[1;33m)\u001b[0m\u001b[1;33m:\u001b[0m\u001b[1;33m\u001b[0m\u001b[1;33m\u001b[0m\u001b[0m\n\u001b[0;32m    329\u001b[0m                 \u001b[1;32mif\u001b[0m \u001b[1;32mnot\u001b[0m \u001b[0mignore_failures\u001b[0m\u001b[1;33m:\u001b[0m\u001b[1;33m\u001b[0m\u001b[1;33m\u001b[0m\u001b[0m\n",
      "\u001b[1;32m~\\anaconda3\\lib\\site-packages\\pandas\\core\\internals\\blocks.py\u001b[0m in \u001b[0;36mastype\u001b[1;34m(self, dtype, copy, errors)\u001b[0m\n\u001b[0;32m    589\u001b[0m         \u001b[0mvalues\u001b[0m \u001b[1;33m=\u001b[0m \u001b[0mself\u001b[0m\u001b[1;33m.\u001b[0m\u001b[0mvalues\u001b[0m\u001b[1;33m\u001b[0m\u001b[1;33m\u001b[0m\u001b[0m\n\u001b[0;32m    590\u001b[0m \u001b[1;33m\u001b[0m\u001b[0m\n\u001b[1;32m--> 591\u001b[1;33m         \u001b[0mnew_values\u001b[0m \u001b[1;33m=\u001b[0m \u001b[0mastype_array_safe\u001b[0m\u001b[1;33m(\u001b[0m\u001b[0mvalues\u001b[0m\u001b[1;33m,\u001b[0m \u001b[0mdtype\u001b[0m\u001b[1;33m,\u001b[0m \u001b[0mcopy\u001b[0m\u001b[1;33m=\u001b[0m\u001b[0mcopy\u001b[0m\u001b[1;33m,\u001b[0m \u001b[0merrors\u001b[0m\u001b[1;33m=\u001b[0m\u001b[0merrors\u001b[0m\u001b[1;33m)\u001b[0m\u001b[1;33m\u001b[0m\u001b[1;33m\u001b[0m\u001b[0m\n\u001b[0m\u001b[0;32m    592\u001b[0m \u001b[1;33m\u001b[0m\u001b[0m\n\u001b[0;32m    593\u001b[0m         \u001b[0mnew_values\u001b[0m \u001b[1;33m=\u001b[0m \u001b[0mmaybe_coerce_values\u001b[0m\u001b[1;33m(\u001b[0m\u001b[0mnew_values\u001b[0m\u001b[1;33m)\u001b[0m\u001b[1;33m\u001b[0m\u001b[1;33m\u001b[0m\u001b[0m\n",
      "\u001b[1;32m~\\anaconda3\\lib\\site-packages\\pandas\\core\\dtypes\\cast.py\u001b[0m in \u001b[0;36mastype_array_safe\u001b[1;34m(values, dtype, copy, errors)\u001b[0m\n\u001b[0;32m   1307\u001b[0m \u001b[1;33m\u001b[0m\u001b[0m\n\u001b[0;32m   1308\u001b[0m     \u001b[1;32mtry\u001b[0m\u001b[1;33m:\u001b[0m\u001b[1;33m\u001b[0m\u001b[1;33m\u001b[0m\u001b[0m\n\u001b[1;32m-> 1309\u001b[1;33m         \u001b[0mnew_values\u001b[0m \u001b[1;33m=\u001b[0m \u001b[0mastype_array\u001b[0m\u001b[1;33m(\u001b[0m\u001b[0mvalues\u001b[0m\u001b[1;33m,\u001b[0m \u001b[0mdtype\u001b[0m\u001b[1;33m,\u001b[0m \u001b[0mcopy\u001b[0m\u001b[1;33m=\u001b[0m\u001b[0mcopy\u001b[0m\u001b[1;33m)\u001b[0m\u001b[1;33m\u001b[0m\u001b[1;33m\u001b[0m\u001b[0m\n\u001b[0m\u001b[0;32m   1310\u001b[0m     \u001b[1;32mexcept\u001b[0m \u001b[1;33m(\u001b[0m\u001b[0mValueError\u001b[0m\u001b[1;33m,\u001b[0m \u001b[0mTypeError\u001b[0m\u001b[1;33m)\u001b[0m\u001b[1;33m:\u001b[0m\u001b[1;33m\u001b[0m\u001b[1;33m\u001b[0m\u001b[0m\n\u001b[0;32m   1311\u001b[0m         \u001b[1;31m# e.g. astype_nansafe can fail on object-dtype of strings\u001b[0m\u001b[1;33m\u001b[0m\u001b[1;33m\u001b[0m\u001b[0m\n",
      "\u001b[1;32m~\\anaconda3\\lib\\site-packages\\pandas\\core\\dtypes\\cast.py\u001b[0m in \u001b[0;36mastype_array\u001b[1;34m(values, dtype, copy)\u001b[0m\n\u001b[0;32m   1255\u001b[0m \u001b[1;33m\u001b[0m\u001b[0m\n\u001b[0;32m   1256\u001b[0m     \u001b[1;32melse\u001b[0m\u001b[1;33m:\u001b[0m\u001b[1;33m\u001b[0m\u001b[1;33m\u001b[0m\u001b[0m\n\u001b[1;32m-> 1257\u001b[1;33m         \u001b[0mvalues\u001b[0m \u001b[1;33m=\u001b[0m \u001b[0mastype_nansafe\u001b[0m\u001b[1;33m(\u001b[0m\u001b[0mvalues\u001b[0m\u001b[1;33m,\u001b[0m \u001b[0mdtype\u001b[0m\u001b[1;33m,\u001b[0m \u001b[0mcopy\u001b[0m\u001b[1;33m=\u001b[0m\u001b[0mcopy\u001b[0m\u001b[1;33m)\u001b[0m\u001b[1;33m\u001b[0m\u001b[1;33m\u001b[0m\u001b[0m\n\u001b[0m\u001b[0;32m   1258\u001b[0m \u001b[1;33m\u001b[0m\u001b[0m\n\u001b[0;32m   1259\u001b[0m     \u001b[1;31m# in pandas we don't store numpy str dtypes, so convert to object\u001b[0m\u001b[1;33m\u001b[0m\u001b[1;33m\u001b[0m\u001b[0m\n",
      "\u001b[1;32m~\\anaconda3\\lib\\site-packages\\pandas\\core\\dtypes\\cast.py\u001b[0m in \u001b[0;36mastype_nansafe\u001b[1;34m(arr, dtype, copy, skipna)\u001b[0m\n\u001b[0;32m   1199\u001b[0m     \u001b[1;32mif\u001b[0m \u001b[0mcopy\u001b[0m \u001b[1;32mor\u001b[0m \u001b[0mis_object_dtype\u001b[0m\u001b[1;33m(\u001b[0m\u001b[0marr\u001b[0m\u001b[1;33m.\u001b[0m\u001b[0mdtype\u001b[0m\u001b[1;33m)\u001b[0m \u001b[1;32mor\u001b[0m \u001b[0mis_object_dtype\u001b[0m\u001b[1;33m(\u001b[0m\u001b[0mdtype\u001b[0m\u001b[1;33m)\u001b[0m\u001b[1;33m:\u001b[0m\u001b[1;33m\u001b[0m\u001b[1;33m\u001b[0m\u001b[0m\n\u001b[0;32m   1200\u001b[0m         \u001b[1;31m# Explicit copy, or required since NumPy can't view from / to object.\u001b[0m\u001b[1;33m\u001b[0m\u001b[1;33m\u001b[0m\u001b[0m\n\u001b[1;32m-> 1201\u001b[1;33m         \u001b[1;32mreturn\u001b[0m \u001b[0marr\u001b[0m\u001b[1;33m.\u001b[0m\u001b[0mastype\u001b[0m\u001b[1;33m(\u001b[0m\u001b[0mdtype\u001b[0m\u001b[1;33m,\u001b[0m \u001b[0mcopy\u001b[0m\u001b[1;33m=\u001b[0m\u001b[1;32mTrue\u001b[0m\u001b[1;33m)\u001b[0m\u001b[1;33m\u001b[0m\u001b[1;33m\u001b[0m\u001b[0m\n\u001b[0m\u001b[0;32m   1202\u001b[0m \u001b[1;33m\u001b[0m\u001b[0m\n\u001b[0;32m   1203\u001b[0m     \u001b[1;32mreturn\u001b[0m \u001b[0marr\u001b[0m\u001b[1;33m.\u001b[0m\u001b[0mastype\u001b[0m\u001b[1;33m(\u001b[0m\u001b[0mdtype\u001b[0m\u001b[1;33m,\u001b[0m \u001b[0mcopy\u001b[0m\u001b[1;33m=\u001b[0m\u001b[0mcopy\u001b[0m\u001b[1;33m)\u001b[0m\u001b[1;33m\u001b[0m\u001b[1;33m\u001b[0m\u001b[0m\n",
      "\u001b[1;31mTypeError\u001b[0m: float() argument must be a string or a number, not 'Timedelta'"
     ]
    }
   ],
   "source": [
    "data_place_CType_RCTime = data_mod[['City','Complaint Type','Request_Closing_Time']]\n",
    "data_place_CType_RCTime.dropna(subset = ['City','Complaint Type','Request_Closing_Time'], inplace = True)\n",
    "data_place_CType_RCTime['DeltaT(in_hr.)'] = np.around( (data_place_CType_RCTime['Request_Closing_Time'].astype(np.int64)/\n",
    "                                                      (pow(10,9)*3600) ), decimals=2)\n",
    "neg_time = data_place_CType_RCTime[data_place_CType_RCTime['DeltaT(in_hr.)'] < 0].sum()\n",
    "print('The no negative time difference (Created Time > Clossing Time, which is not possible) = \\n',neg_time)\n",
    "#data_place_CType_RCTime['DeltaT(in sec)/Avg.'] = np.around((data_place_CType_RCTime['DeltaT(in sec)']/Avarage_time),decimals=1)\n",
    "data_place_CType_RCTime.head(6)"
   ]
  },
  {
   "cell_type": "code",
   "execution_count": 77,
   "id": "503ece75",
   "metadata": {},
   "outputs": [
    {
     "name": "stdout",
     "output_type": "stream",
     "text": [
      "Avarage time gap between logging the complaint and problem solved =  4.31 hour\n",
      "Central value of the distribution =  2.71 hour\n",
      "Most occered value =  0    0.88\n",
      "dtype: float64 hour\n",
      "Deviation is =  6.08\n"
     ]
    }
   ],
   "source": [
    "Avarage_time = np.around((data_place_CType_RCTime['DeltaT(in_hr.)'].mean()),decimals=2)\n",
    "print('Avarage time gap between logging the complaint and problem solved = ',Avarage_time, 'hour')\n",
    "Central_val = np.around((data_place_CType_RCTime['DeltaT(in_hr.)'].median()),decimals=2)\n",
    "print('Central value of the distribution = ',Central_val, 'hour')\n",
    "Most_occoor = np.around((data_place_CType_RCTime['DeltaT(in_hr.)'].mode()),decimals=2)\n",
    "print('Most occered value = ',Most_occoor, 'hour')\n",
    "stand_dev = np.around((data_place_CType_RCTime['DeltaT(in_hr.)'].std()),decimals=2)\n",
    "print('Deviation is = ',stand_dev)"
   ]
  },
  {
   "cell_type": "markdown",
   "id": "73a36be6",
   "metadata": {},
   "source": [
    "So, one can take the central value as the normal time taken to solve the problem/issue. However, as it is clear from the deviation that it spreads around 6 hr.(more than the central value) from the distribution, so it is more practical to choose average time as the normal time to solve the problem. And categorize time interval as per the codes written below. "
   ]
  },
  {
   "cell_type": "code",
   "execution_count": 78,
   "id": "5b19fda1",
   "metadata": {},
   "outputs": [
    {
     "name": "stderr",
     "output_type": "stream",
     "text": [
      "C:\\Users\\HP\\AppData\\Local\\Temp/ipykernel_9348/3789049267.py:10: SettingWithCopyWarning: \n",
      "A value is trying to be set on a copy of a slice from a DataFrame.\n",
      "Try using .loc[row_indexer,col_indexer] = value instead\n",
      "\n",
      "See the caveats in the documentation: https://pandas.pydata.org/pandas-docs/stable/user_guide/indexing.html#returning-a-view-versus-a-copy\n",
      "  data_place_CType_RCTime['Solution Status'] = np.select(conditions,choices)\n"
     ]
    }
   ],
   "source": [
    "conditions = [data_place_CType_RCTime['DeltaT(in_hr.)'] <= 0.5, \n",
    "             (0.50 < data_place_CType_RCTime['DeltaT(in_hr.)']) & (data_place_CType_RCTime['DeltaT(in_hr.)'] <= 1.00),\n",
    "             (1.00 < data_place_CType_RCTime['DeltaT(in_hr.)']) & (data_place_CType_RCTime['DeltaT(in_hr.)'] <= 2.00),\n",
    "             (2.00 < data_place_CType_RCTime['DeltaT(in_hr.)']) & (data_place_CType_RCTime['DeltaT(in_hr.)'] <= 6.00),\n",
    "             (6.00 < data_place_CType_RCTime['DeltaT(in_hr.)']) & (data_place_CType_RCTime['DeltaT(in_hr.)'] <= 10.00),\n",
    "             (10.00 < data_place_CType_RCTime['DeltaT(in_hr.)'])]\n",
    "\n",
    "choices = ['Super fast','Very fast','Fast','Normal','Slow','Super Slow']\n",
    "\n",
    "data_place_CType_RCTime['Solution Status'] = np.select(conditions,choices)"
   ]
  },
  {
   "cell_type": "code",
   "execution_count": 79,
   "id": "2cf45b37",
   "metadata": {},
   "outputs": [
    {
     "data": {
      "text/html": [
       "<div>\n",
       "<style scoped>\n",
       "    .dataframe tbody tr th:only-of-type {\n",
       "        vertical-align: middle;\n",
       "    }\n",
       "\n",
       "    .dataframe tbody tr th {\n",
       "        vertical-align: top;\n",
       "    }\n",
       "\n",
       "    .dataframe thead th {\n",
       "        text-align: right;\n",
       "    }\n",
       "</style>\n",
       "<table border=\"1\" class=\"dataframe\">\n",
       "  <thead>\n",
       "    <tr style=\"text-align: right;\">\n",
       "      <th></th>\n",
       "      <th>City</th>\n",
       "      <th>Complaint Type</th>\n",
       "      <th>Request_Closing_Time</th>\n",
       "      <th>DeltaT(in_hr.)</th>\n",
       "      <th>Solution Status</th>\n",
       "    </tr>\n",
       "  </thead>\n",
       "  <tbody>\n",
       "    <tr>\n",
       "      <th>0</th>\n",
       "      <td>NEW YORK</td>\n",
       "      <td>Noise - Street/Sidewalk</td>\n",
       "      <td>0 days 00:55:15</td>\n",
       "      <td>0.92</td>\n",
       "      <td>Very fast</td>\n",
       "    </tr>\n",
       "    <tr>\n",
       "      <th>1</th>\n",
       "      <td>ASTORIA</td>\n",
       "      <td>Blocked Driveway</td>\n",
       "      <td>0 days 01:26:16</td>\n",
       "      <td>1.44</td>\n",
       "      <td>Fast</td>\n",
       "    </tr>\n",
       "    <tr>\n",
       "      <th>2</th>\n",
       "      <td>BRONX</td>\n",
       "      <td>Blocked Driveway</td>\n",
       "      <td>0 days 04:51:31</td>\n",
       "      <td>4.86</td>\n",
       "      <td>Normal</td>\n",
       "    </tr>\n",
       "    <tr>\n",
       "      <th>3</th>\n",
       "      <td>BRONX</td>\n",
       "      <td>Illegal Parking</td>\n",
       "      <td>0 days 07:45:14</td>\n",
       "      <td>7.75</td>\n",
       "      <td>Slow</td>\n",
       "    </tr>\n",
       "    <tr>\n",
       "      <th>4</th>\n",
       "      <td>ELMHURST</td>\n",
       "      <td>Illegal Parking</td>\n",
       "      <td>0 days 03:27:02</td>\n",
       "      <td>3.45</td>\n",
       "      <td>Normal</td>\n",
       "    </tr>\n",
       "    <tr>\n",
       "      <th>5</th>\n",
       "      <td>BROOKLYN</td>\n",
       "      <td>Illegal Parking</td>\n",
       "      <td>0 days 01:53:30</td>\n",
       "      <td>1.89</td>\n",
       "      <td>Fast</td>\n",
       "    </tr>\n",
       "  </tbody>\n",
       "</table>\n",
       "</div>"
      ],
      "text/plain": [
       "       City           Complaint Type Request_Closing_Time  DeltaT(in_hr.)  \\\n",
       "0  NEW YORK  Noise - Street/Sidewalk      0 days 00:55:15            0.92   \n",
       "1   ASTORIA         Blocked Driveway      0 days 01:26:16            1.44   \n",
       "2     BRONX         Blocked Driveway      0 days 04:51:31            4.86   \n",
       "3     BRONX          Illegal Parking      0 days 07:45:14            7.75   \n",
       "4  ELMHURST          Illegal Parking      0 days 03:27:02            3.45   \n",
       "5  BROOKLYN          Illegal Parking      0 days 01:53:30            1.89   \n",
       "\n",
       "  Solution Status  \n",
       "0       Very fast  \n",
       "1            Fast  \n",
       "2          Normal  \n",
       "3            Slow  \n",
       "4          Normal  \n",
       "5            Fast  "
      ]
     },
     "execution_count": 79,
     "metadata": {},
     "output_type": "execute_result"
    }
   ],
   "source": [
    "data_place_CType_RCTime.head(6)"
   ]
  },
  {
   "cell_type": "code",
   "execution_count": 80,
   "id": "c88365ad",
   "metadata": {},
   "outputs": [
    {
     "data": {
      "text/plain": [
       "Normal        118955\n",
       "Fast           58549\n",
       "Slow           38068\n",
       "Very fast      33459\n",
       "Super Slow     24871\n",
       "Super fast     24126\n",
       "Name: Solution Status, dtype: int64"
      ]
     },
     "execution_count": 80,
     "metadata": {},
     "output_type": "execute_result"
    }
   ],
   "source": [
    "data_place_CType_RCTime['Solution Status'].value_counts()"
   ]
  },
  {
   "cell_type": "code",
   "execution_count": 81,
   "id": "3ceff865",
   "metadata": {},
   "outputs": [
    {
     "data": {
      "image/png": "[encoded data removed]",
      "text/plain": [
       "<Figure size 432x288 with 1 Axes>"
      ]
     },
     "metadata": {
      "needs_background": "light"
     },
     "output_type": "display_data"
    },
    {
     "data": {
      "text/plain": [
       "<Figure size 432x288 with 0 Axes>"
      ]
     },
     "metadata": {},
     "output_type": "display_data"
    }
   ],
   "source": [
    "data_place_CType_RCTime['Solution Status'].value_counts().plot(kind='bar')\n",
    "plt.xlabel('Time Status')\n",
    "plt.ylabel('Counts')\n",
    "plt.title('Proportion of the fastness of different Solution status')\n",
    "plt.show()\n",
    "plt.tight_layout()"
   ]
  },
  {
   "cell_type": "markdown",
   "id": "651a83f1",
   "metadata": {},
   "source": [
    "Based on the above-discussed approximation, the proportion of the time interval (expressed in different groups/status) to solve the problem, is depicted here. And it is obvious that the 'Normal' status will dominant since the range is chosen around the average value.\n",
    "\n",
    "Now, let's see, is there any pattern for lodging a complaint?\n",
    "\n",
    "Does it depend on a particular day or is there any month where too much or fewer problems are recorded?"
   ]
  },
  {
   "cell_type": "code",
   "execution_count": 82,
   "id": "e124971e",
   "metadata": {},
   "outputs": [
    {
     "data": {
      "text/plain": [
       "0   2015-12-31 23:59:45\n",
       "1   2015-12-31 23:59:44\n",
       "2   2015-12-31 23:59:29\n",
       "3   2015-12-31 23:57:46\n",
       "4   2015-12-31 23:56:58\n",
       "Name: Created Date, dtype: datetime64[ns]"
      ]
     },
     "execution_count": 82,
     "metadata": {},
     "output_type": "execute_result"
    }
   ],
   "source": [
    "data_mod['Created Date'].head(5)"
   ]
  },
  {
   "cell_type": "code",
   "execution_count": 83,
   "id": "d8e7fe3c",
   "metadata": {},
   "outputs": [
    {
     "data": {
      "text/html": [
       "<div>\n",
       "<style scoped>\n",
       "    .dataframe tbody tr th:only-of-type {\n",
       "        vertical-align: middle;\n",
       "    }\n",
       "\n",
       "    .dataframe tbody tr th {\n",
       "        vertical-align: top;\n",
       "    }\n",
       "\n",
       "    .dataframe thead th {\n",
       "        text-align: right;\n",
       "    }\n",
       "</style>\n",
       "<table border=\"1\" class=\"dataframe\">\n",
       "  <thead>\n",
       "    <tr style=\"text-align: right;\">\n",
       "      <th></th>\n",
       "      <th>Date</th>\n",
       "      <th>Month</th>\n",
       "      <th>Day</th>\n",
       "      <th>Month Name</th>\n",
       "      <th>Day No</th>\n",
       "      <th>Day Name</th>\n",
       "    </tr>\n",
       "  </thead>\n",
       "  <tbody>\n",
       "    <tr>\n",
       "      <th>207347</th>\n",
       "      <td>2015-06-24</td>\n",
       "      <td>6</td>\n",
       "      <td>24</td>\n",
       "      <td>Jun</td>\n",
       "      <td>2</td>\n",
       "      <td>Wednesday</td>\n",
       "    </tr>\n",
       "    <tr>\n",
       "      <th>290323</th>\n",
       "      <td>2015-04-10</td>\n",
       "      <td>4</td>\n",
       "      <td>10</td>\n",
       "      <td>Apr</td>\n",
       "      <td>4</td>\n",
       "      <td>Friday</td>\n",
       "    </tr>\n",
       "    <tr>\n",
       "      <th>213934</th>\n",
       "      <td>2015-06-18</td>\n",
       "      <td>6</td>\n",
       "      <td>18</td>\n",
       "      <td>Jun</td>\n",
       "      <td>3</td>\n",
       "      <td>Thursday</td>\n",
       "    </tr>\n",
       "    <tr>\n",
       "      <th>230886</th>\n",
       "      <td>2015-06-04</td>\n",
       "      <td>6</td>\n",
       "      <td>4</td>\n",
       "      <td>Jun</td>\n",
       "      <td>3</td>\n",
       "      <td>Thursday</td>\n",
       "    </tr>\n",
       "    <tr>\n",
       "      <th>186228</th>\n",
       "      <td>2015-07-12</td>\n",
       "      <td>7</td>\n",
       "      <td>12</td>\n",
       "      <td>Jul</td>\n",
       "      <td>6</td>\n",
       "      <td>Sunday</td>\n",
       "    </tr>\n",
       "    <tr>\n",
       "      <th>24164</th>\n",
       "      <td>2015-12-07</td>\n",
       "      <td>12</td>\n",
       "      <td>7</td>\n",
       "      <td>Dec</td>\n",
       "      <td>0</td>\n",
       "      <td>Monday</td>\n",
       "    </tr>\n",
       "    <tr>\n",
       "      <th>281847</th>\n",
       "      <td>2015-04-19</td>\n",
       "      <td>4</td>\n",
       "      <td>19</td>\n",
       "      <td>Apr</td>\n",
       "      <td>6</td>\n",
       "      <td>Sunday</td>\n",
       "    </tr>\n",
       "    <tr>\n",
       "      <th>194721</th>\n",
       "      <td>2015-07-04</td>\n",
       "      <td>7</td>\n",
       "      <td>4</td>\n",
       "      <td>Jul</td>\n",
       "      <td>5</td>\n",
       "      <td>Saturday</td>\n",
       "    </tr>\n",
       "    <tr>\n",
       "      <th>265576</th>\n",
       "      <td>2015-05-05</td>\n",
       "      <td>5</td>\n",
       "      <td>5</td>\n",
       "      <td>May</td>\n",
       "      <td>1</td>\n",
       "      <td>Tuesday</td>\n",
       "    </tr>\n",
       "    <tr>\n",
       "      <th>168717</th>\n",
       "      <td>2015-07-27</td>\n",
       "      <td>7</td>\n",
       "      <td>27</td>\n",
       "      <td>Jul</td>\n",
       "      <td>0</td>\n",
       "      <td>Monday</td>\n",
       "    </tr>\n",
       "    <tr>\n",
       "      <th>160623</th>\n",
       "      <td>2015-08-04</td>\n",
       "      <td>8</td>\n",
       "      <td>4</td>\n",
       "      <td>Aug</td>\n",
       "      <td>1</td>\n",
       "      <td>Tuesday</td>\n",
       "    </tr>\n",
       "    <tr>\n",
       "      <th>56567</th>\n",
       "      <td>2015-11-05</td>\n",
       "      <td>11</td>\n",
       "      <td>5</td>\n",
       "      <td>Nov</td>\n",
       "      <td>3</td>\n",
       "      <td>Thursday</td>\n",
       "    </tr>\n",
       "    <tr>\n",
       "      <th>235269</th>\n",
       "      <td>2015-05-31</td>\n",
       "      <td>5</td>\n",
       "      <td>31</td>\n",
       "      <td>May</td>\n",
       "      <td>6</td>\n",
       "      <td>Sunday</td>\n",
       "    </tr>\n",
       "    <tr>\n",
       "      <th>225955</th>\n",
       "      <td>2015-06-08</td>\n",
       "      <td>6</td>\n",
       "      <td>8</td>\n",
       "      <td>Jun</td>\n",
       "      <td>0</td>\n",
       "      <td>Monday</td>\n",
       "    </tr>\n",
       "    <tr>\n",
       "      <th>202967</th>\n",
       "      <td>2015-06-27</td>\n",
       "      <td>6</td>\n",
       "      <td>27</td>\n",
       "      <td>Jun</td>\n",
       "      <td>5</td>\n",
       "      <td>Saturday</td>\n",
       "    </tr>\n",
       "    <tr>\n",
       "      <th>197532</th>\n",
       "      <td>2015-07-02</td>\n",
       "      <td>7</td>\n",
       "      <td>2</td>\n",
       "      <td>Jul</td>\n",
       "      <td>3</td>\n",
       "      <td>Thursday</td>\n",
       "    </tr>\n",
       "    <tr>\n",
       "      <th>190588</th>\n",
       "      <td>2015-07-08</td>\n",
       "      <td>7</td>\n",
       "      <td>8</td>\n",
       "      <td>Jul</td>\n",
       "      <td>2</td>\n",
       "      <td>Wednesday</td>\n",
       "    </tr>\n",
       "    <tr>\n",
       "      <th>59991</th>\n",
       "      <td>2015-11-02</td>\n",
       "      <td>11</td>\n",
       "      <td>2</td>\n",
       "      <td>Nov</td>\n",
       "      <td>0</td>\n",
       "      <td>Monday</td>\n",
       "    </tr>\n",
       "    <tr>\n",
       "      <th>99127</th>\n",
       "      <td>2015-09-26</td>\n",
       "      <td>9</td>\n",
       "      <td>26</td>\n",
       "      <td>Sep</td>\n",
       "      <td>5</td>\n",
       "      <td>Saturday</td>\n",
       "    </tr>\n",
       "    <tr>\n",
       "      <th>207887</th>\n",
       "      <td>2015-06-23</td>\n",
       "      <td>6</td>\n",
       "      <td>23</td>\n",
       "      <td>Jun</td>\n",
       "      <td>1</td>\n",
       "      <td>Tuesday</td>\n",
       "    </tr>\n",
       "  </tbody>\n",
       "</table>\n",
       "</div>"
      ],
      "text/plain": [
       "             Date  Month  Day Month Name  Day No   Day Name\n",
       "207347 2015-06-24      6   24        Jun       2  Wednesday\n",
       "290323 2015-04-10      4   10        Apr       4     Friday\n",
       "213934 2015-06-18      6   18        Jun       3   Thursday\n",
       "230886 2015-06-04      6    4        Jun       3   Thursday\n",
       "186228 2015-07-12      7   12        Jul       6     Sunday\n",
       "24164  2015-12-07     12    7        Dec       0     Monday\n",
       "281847 2015-04-19      4   19        Apr       6     Sunday\n",
       "194721 2015-07-04      7    4        Jul       5   Saturday\n",
       "265576 2015-05-05      5    5        May       1    Tuesday\n",
       "168717 2015-07-27      7   27        Jul       0     Monday\n",
       "160623 2015-08-04      8    4        Aug       1    Tuesday\n",
       "56567  2015-11-05     11    5        Nov       3   Thursday\n",
       "235269 2015-05-31      5   31        May       6     Sunday\n",
       "225955 2015-06-08      6    8        Jun       0     Monday\n",
       "202967 2015-06-27      6   27        Jun       5   Saturday\n",
       "197532 2015-07-02      7    2        Jul       3   Thursday\n",
       "190588 2015-07-08      7    8        Jul       2  Wednesday\n",
       "59991  2015-11-02     11    2        Nov       0     Monday\n",
       "99127  2015-09-26      9   26        Sep       5   Saturday\n",
       "207887 2015-06-23      6   23        Jun       1    Tuesday"
      ]
     },
     "execution_count": 83,
     "metadata": {},
     "output_type": "execute_result"
    }
   ],
   "source": [
    "# Creating a data frame Contain Days and Months of Complaint date\n",
    "\n",
    "Year_Month_Day = pd.to_datetime(data_mod['Created Date'].dt.date)\n",
    "Month_Day = pd.DataFrame()\n",
    "Month_Day['Date'] = pd.to_datetime(Year_Month_Day.dt.date)\n",
    "Month_Day['Month'] = Year_Month_Day.dt.month\n",
    "Month_Day['Day'] = Year_Month_Day.dt.day\n",
    "Month_Day['Month Name'] = Month_Day['Month'].apply(lambda x: calendar.month_abbr[x])\n",
    "Month_Day['Day No'] = Month_Day['Date'].dt.weekday\n",
    "Month_Day['Day Name'] = Month_Day['Day No'].map({0:'Monday',1:'Tuesday',2:'Wednesday',3:'Thursday',4:'Friday',\n",
    "                                                 5:'Saturday',6:'Sunday'})\n",
    "Month_Day.sample(20)"
   ]
  },
  {
   "cell_type": "code",
   "execution_count": 84,
   "id": "80a3ae2a",
   "metadata": {},
   "outputs": [
    {
     "data": {
      "text/html": [
       "<div>\n",
       "<style scoped>\n",
       "    .dataframe tbody tr th:only-of-type {\n",
       "        vertical-align: middle;\n",
       "    }\n",
       "\n",
       "    .dataframe tbody tr th {\n",
       "        vertical-align: top;\n",
       "    }\n",
       "\n",
       "    .dataframe thead th {\n",
       "        text-align: right;\n",
       "    }\n",
       "</style>\n",
       "<table border=\"1\" class=\"dataframe\">\n",
       "  <thead>\n",
       "    <tr style=\"text-align: right;\">\n",
       "      <th></th>\n",
       "      <th>Counts</th>\n",
       "    </tr>\n",
       "  </thead>\n",
       "  <tbody>\n",
       "    <tr>\n",
       "      <th>May</th>\n",
       "      <td>36437</td>\n",
       "    </tr>\n",
       "    <tr>\n",
       "      <th>Sep</th>\n",
       "      <td>35427</td>\n",
       "    </tr>\n",
       "    <tr>\n",
       "      <th>Jun</th>\n",
       "      <td>35315</td>\n",
       "    </tr>\n",
       "    <tr>\n",
       "      <th>Aug</th>\n",
       "      <td>34956</td>\n",
       "    </tr>\n",
       "    <tr>\n",
       "      <th>Jul</th>\n",
       "      <td>34888</td>\n",
       "    </tr>\n",
       "    <tr>\n",
       "      <th>Oct</th>\n",
       "      <td>32605</td>\n",
       "    </tr>\n",
       "    <tr>\n",
       "      <th>Nov</th>\n",
       "      <td>30773</td>\n",
       "    </tr>\n",
       "    <tr>\n",
       "      <th>Dec</th>\n",
       "      <td>30521</td>\n",
       "    </tr>\n",
       "    <tr>\n",
       "      <th>Apr</th>\n",
       "      <td>27305</td>\n",
       "    </tr>\n",
       "    <tr>\n",
       "      <th>Mar</th>\n",
       "      <td>2471</td>\n",
       "    </tr>\n",
       "  </tbody>\n",
       "</table>\n",
       "</div>"
      ],
      "text/plain": [
       "     Counts\n",
       "May   36437\n",
       "Sep   35427\n",
       "Jun   35315\n",
       "Aug   34956\n",
       "Jul   34888\n",
       "Oct   32605\n",
       "Nov   30773\n",
       "Dec   30521\n",
       "Apr   27305\n",
       "Mar    2471"
      ]
     },
     "execution_count": 84,
     "metadata": {},
     "output_type": "execute_result"
    }
   ],
   "source": [
    "Month_plot = Month_Day['Month Name'].value_counts()\n",
    "Month_plot = Month_plot.to_frame()\n",
    "Month_plot = Month_plot.rename(columns={'Month Name':'Counts'})\n",
    "Month_plot"
   ]
  },
  {
   "cell_type": "code",
   "execution_count": 85,
   "id": "f21acb4f",
   "metadata": {},
   "outputs": [
    {
     "data": {
      "text/html": [
       "<div>\n",
       "<style scoped>\n",
       "    .dataframe tbody tr th:only-of-type {\n",
       "        vertical-align: middle;\n",
       "    }\n",
       "\n",
       "    .dataframe tbody tr th {\n",
       "        vertical-align: top;\n",
       "    }\n",
       "\n",
       "    .dataframe thead th {\n",
       "        text-align: right;\n",
       "    }\n",
       "</style>\n",
       "<table border=\"1\" class=\"dataframe\">\n",
       "  <thead>\n",
       "    <tr style=\"text-align: right;\">\n",
       "      <th></th>\n",
       "      <th>Counts</th>\n",
       "    </tr>\n",
       "  </thead>\n",
       "  <tbody>\n",
       "    <tr>\n",
       "      <th>Sunday</th>\n",
       "      <td>47969</td>\n",
       "    </tr>\n",
       "    <tr>\n",
       "      <th>Saturday</th>\n",
       "      <td>47564</td>\n",
       "    </tr>\n",
       "    <tr>\n",
       "      <th>Friday</th>\n",
       "      <td>43995</td>\n",
       "    </tr>\n",
       "    <tr>\n",
       "      <th>Thursday</th>\n",
       "      <td>41342</td>\n",
       "    </tr>\n",
       "    <tr>\n",
       "      <th>Monday</th>\n",
       "      <td>40489</td>\n",
       "    </tr>\n",
       "    <tr>\n",
       "      <th>Wednesday</th>\n",
       "      <td>39788</td>\n",
       "    </tr>\n",
       "    <tr>\n",
       "      <th>Tuesday</th>\n",
       "      <td>39551</td>\n",
       "    </tr>\n",
       "  </tbody>\n",
       "</table>\n",
       "</div>"
      ],
      "text/plain": [
       "           Counts\n",
       "Sunday      47969\n",
       "Saturday    47564\n",
       "Friday      43995\n",
       "Thursday    41342\n",
       "Monday      40489\n",
       "Wednesday   39788\n",
       "Tuesday     39551"
      ]
     },
     "execution_count": 85,
     "metadata": {},
     "output_type": "execute_result"
    }
   ],
   "source": [
    "Day_plot = Month_Day['Day Name'].value_counts()\n",
    "Day_plot = Day_plot.to_frame()\n",
    "Day_plot = Day_plot.rename(columns={'Day Name':'Counts'})\n",
    "Day_plot"
   ]
  },
  {
   "cell_type": "code",
   "execution_count": 86,
   "id": "ef0aa711",
   "metadata": {},
   "outputs": [
    {
     "data": {
      "image/png": "[encoded data removed]",
      "text/plain": [
       "<Figure size 1008x576 with 2 Axes>"
      ]
     },
     "metadata": {},
     "output_type": "display_data"
    }
   ],
   "source": [
    "fig, axes = plt.subplots(1,2, figsize=(14,8))\n",
    "\n",
    "axes[0].pie(Month_plot['Counts'], labels = Month_plot.index,autopct='%1.1f%%')\n",
    "axes[0].set_title('Complain logged in different months of the year')\n",
    "\n",
    "axes[1].pie(Day_plot['Counts'], labels = Day_plot.index,autopct='%1.1f%%')\n",
    "axes[1].set_title('Complain logged in different days of the year')\n",
    "\n",
    "plt.tight_layout()"
   ]
  },
  {
   "cell_type": "markdown",
   "id": "78606d9b",
   "metadata": {},
   "source": [
    "So there is nothing abrupt for the months of lodging complaint. However, a very small amount of complaints recorded in the month of March.\n",
    "\n",
    "The same observation can be made for the days. But if we look carefully, there is a small increment on the weekends compared to the weekly days. \n",
    "\n",
    "However, looking at the days of a year might hide some extra information. It is better to check the days of each month of the year."
   ]
  },
  {
   "cell_type": "code",
   "execution_count": 87,
   "id": "3bda1f00",
   "metadata": {},
   "outputs": [
    {
     "data": {
      "text/html": [
       "<div>\n",
       "<style scoped>\n",
       "    .dataframe tbody tr th:only-of-type {\n",
       "        vertical-align: middle;\n",
       "    }\n",
       "\n",
       "    .dataframe tbody tr th {\n",
       "        vertical-align: top;\n",
       "    }\n",
       "\n",
       "    .dataframe thead th {\n",
       "        text-align: right;\n",
       "    }\n",
       "</style>\n",
       "<table border=\"1\" class=\"dataframe\">\n",
       "  <thead>\n",
       "    <tr style=\"text-align: right;\">\n",
       "      <th></th>\n",
       "      <th>Month Name</th>\n",
       "      <th>Day Name</th>\n",
       "      <th>Counts</th>\n",
       "    </tr>\n",
       "  </thead>\n",
       "  <tbody>\n",
       "    <tr>\n",
       "      <th>0</th>\n",
       "      <td>Apr</td>\n",
       "      <td>Friday</td>\n",
       "      <td>3565</td>\n",
       "    </tr>\n",
       "    <tr>\n",
       "      <th>1</th>\n",
       "      <td>Apr</td>\n",
       "      <td>Monday</td>\n",
       "      <td>3222</td>\n",
       "    </tr>\n",
       "    <tr>\n",
       "      <th>2</th>\n",
       "      <td>Apr</td>\n",
       "      <td>Saturday</td>\n",
       "      <td>4227</td>\n",
       "    </tr>\n",
       "    <tr>\n",
       "      <th>3</th>\n",
       "      <td>Apr</td>\n",
       "      <td>Sunday</td>\n",
       "      <td>4069</td>\n",
       "    </tr>\n",
       "    <tr>\n",
       "      <th>4</th>\n",
       "      <td>Apr</td>\n",
       "      <td>Thursday</td>\n",
       "      <td>4323</td>\n",
       "    </tr>\n",
       "    <tr>\n",
       "      <th>5</th>\n",
       "      <td>Apr</td>\n",
       "      <td>Tuesday</td>\n",
       "      <td>3586</td>\n",
       "    </tr>\n",
       "    <tr>\n",
       "      <th>6</th>\n",
       "      <td>Apr</td>\n",
       "      <td>Wednesday</td>\n",
       "      <td>4313</td>\n",
       "    </tr>\n",
       "    <tr>\n",
       "      <th>7</th>\n",
       "      <td>Aug</td>\n",
       "      <td>Friday</td>\n",
       "      <td>4684</td>\n",
       "    </tr>\n",
       "    <tr>\n",
       "      <th>8</th>\n",
       "      <td>Aug</td>\n",
       "      <td>Monday</td>\n",
       "      <td>5042</td>\n",
       "    </tr>\n",
       "    <tr>\n",
       "      <th>9</th>\n",
       "      <td>Aug</td>\n",
       "      <td>Saturday</td>\n",
       "      <td>6913</td>\n",
       "    </tr>\n",
       "    <tr>\n",
       "      <th>10</th>\n",
       "      <td>Aug</td>\n",
       "      <td>Sunday</td>\n",
       "      <td>6293</td>\n",
       "    </tr>\n",
       "    <tr>\n",
       "      <th>11</th>\n",
       "      <td>Aug</td>\n",
       "      <td>Thursday</td>\n",
       "      <td>4198</td>\n",
       "    </tr>\n",
       "    <tr>\n",
       "      <th>12</th>\n",
       "      <td>Aug</td>\n",
       "      <td>Tuesday</td>\n",
       "      <td>3893</td>\n",
       "    </tr>\n",
       "    <tr>\n",
       "      <th>13</th>\n",
       "      <td>Aug</td>\n",
       "      <td>Wednesday</td>\n",
       "      <td>3933</td>\n",
       "    </tr>\n",
       "    <tr>\n",
       "      <th>14</th>\n",
       "      <td>Dec</td>\n",
       "      <td>Friday</td>\n",
       "      <td>4000</td>\n",
       "    </tr>\n",
       "  </tbody>\n",
       "</table>\n",
       "</div>"
      ],
      "text/plain": [
       "   Month Name   Day Name  Counts\n",
       "0         Apr     Friday    3565\n",
       "1         Apr     Monday    3222\n",
       "2         Apr   Saturday    4227\n",
       "3         Apr     Sunday    4069\n",
       "4         Apr   Thursday    4323\n",
       "5         Apr    Tuesday    3586\n",
       "6         Apr  Wednesday    4313\n",
       "7         Aug     Friday    4684\n",
       "8         Aug     Monday    5042\n",
       "9         Aug   Saturday    6913\n",
       "10        Aug     Sunday    6293\n",
       "11        Aug   Thursday    4198\n",
       "12        Aug    Tuesday    3893\n",
       "13        Aug  Wednesday    3933\n",
       "14        Dec     Friday    4000"
      ]
     },
     "execution_count": 87,
     "metadata": {},
     "output_type": "execute_result"
    }
   ],
   "source": [
    "Month_Day_grouped = Month_Day.groupby(['Month Name','Day Name'],as_index=False)['Day No'].count()\n",
    "Month_Day_grouped_final = Month_Day_grouped.rename(columns={'Day No':'Counts'})\n",
    "Month_Day_grouped_final.head(15)"
   ]
  },
  {
   "cell_type": "code",
   "execution_count": 88,
   "id": "3b2e5ab5",
   "metadata": {},
   "outputs": [
    {
     "data": {
      "text/plain": [
       "Date          3222\n",
       "Month         3222\n",
       "Day           3222\n",
       "Month Name    3222\n",
       "Day No        3222\n",
       "Day Name      3222\n",
       "dtype: int64"
      ]
     },
     "execution_count": 88,
     "metadata": {},
     "output_type": "execute_result"
    }
   ],
   "source": [
    "Month_Day[( (Month_Day['Month Name'] == 'Apr') & (Month_Day['Day Name'] == 'Monday') )].count()"
   ]
  },
  {
   "cell_type": "markdown",
   "id": "ea9eee19",
   "metadata": {},
   "source": [
    "This is just to check whether the grouping operation is done correctly or not.\n",
    "\n",
    "\n",
    "As you can see below, complaints created in each month for all seven days of the week are plotted. As we already counter that in March there is an abrupt decrement of complaint lodging compared to the other months. And Only three days of a week contributed here. It may contain seven days of the week, but with a very lesser amount. So let's check that to as well from the numbers."
   ]
  },
  {
   "cell_type": "code",
   "execution_count": 89,
   "id": "146c9820",
   "metadata": {},
   "outputs": [
    {
     "data": {
      "image/png": "[encoded data removed]",
      "text/plain": [
       "<Figure size 1440x576 with 1 Axes>"
      ]
     },
     "metadata": {
      "needs_background": "light"
     },
     "output_type": "display_data"
    },
    {
     "data": {
      "text/plain": [
       "<Figure size 432x288 with 0 Axes>"
      ]
     },
     "metadata": {},
     "output_type": "display_data"
    }
   ],
   "source": [
    "plt.figure(figsize=(20,8))\n",
    "\n",
    "month_day_plot = sns.barplot(x=Month_Day_grouped_final['Month Name'], y=Month_Day_grouped_final['Counts'], \n",
    "                             hue=Month_Day_grouped_final['Day Name'], data=Month_Day_grouped_final)\n",
    "month_day_plot.set_xticklabels(month_day_plot.get_xticklabels(), rotation=30, ha=\"right\")\n",
    "plt.title('Distribution of daily complain in different months of the year')\n",
    "plt.show()\n",
    "plt.tight_layout()"
   ]
  },
  {
   "cell_type": "code",
   "execution_count": 90,
   "id": "f6020706",
   "metadata": {},
   "outputs": [
    {
     "data": {
      "text/html": [
       "<div>\n",
       "<style scoped>\n",
       "    .dataframe tbody tr th:only-of-type {\n",
       "        vertical-align: middle;\n",
       "    }\n",
       "\n",
       "    .dataframe tbody tr th {\n",
       "        vertical-align: top;\n",
       "    }\n",
       "\n",
       "    .dataframe thead th {\n",
       "        text-align: right;\n",
       "    }\n",
       "</style>\n",
       "<table border=\"1\" class=\"dataframe\">\n",
       "  <thead>\n",
       "    <tr style=\"text-align: right;\">\n",
       "      <th></th>\n",
       "      <th>Month Name</th>\n",
       "      <th>Day Name</th>\n",
       "      <th>Day No</th>\n",
       "    </tr>\n",
       "  </thead>\n",
       "  <tbody>\n",
       "    <tr>\n",
       "      <th>35</th>\n",
       "      <td>Mar</td>\n",
       "      <td>Monday</td>\n",
       "      <td>807</td>\n",
       "    </tr>\n",
       "    <tr>\n",
       "      <th>36</th>\n",
       "      <td>Mar</td>\n",
       "      <td>Sunday</td>\n",
       "      <td>802</td>\n",
       "    </tr>\n",
       "    <tr>\n",
       "      <th>37</th>\n",
       "      <td>Mar</td>\n",
       "      <td>Tuesday</td>\n",
       "      <td>862</td>\n",
       "    </tr>\n",
       "  </tbody>\n",
       "</table>\n",
       "</div>"
      ],
      "text/plain": [
       "   Month Name Day Name  Day No\n",
       "35        Mar   Monday     807\n",
       "36        Mar   Sunday     802\n",
       "37        Mar  Tuesday     862"
      ]
     },
     "execution_count": 90,
     "metadata": {},
     "output_type": "execute_result"
    }
   ],
   "source": [
    "Month_Day_grouped[Month_Day_grouped['Month Name'] == 'Mar']"
   ]
  },
  {
   "cell_type": "markdown",
   "id": "d2420e73",
   "metadata": {},
   "source": [
    "-  So complaints are recorded only in these three days of March.\n",
    "-  And let's have a look quickly at the status of the complaints."
   ]
  },
  {
   "cell_type": "code",
   "execution_count": 91,
   "id": "c12f154e",
   "metadata": {},
   "outputs": [
    {
     "data": {
      "image/png": "[encoded data removed]",
      "text/plain": [
       "<Figure size 432x288 with 1 Axes>"
      ]
     },
     "metadata": {
      "needs_background": "light"
     },
     "output_type": "display_data"
    },
    {
     "data": {
      "text/plain": [
       "<Figure size 432x288 with 0 Axes>"
      ]
     },
     "metadata": {},
     "output_type": "display_data"
    }
   ],
   "source": [
    "data_mod['Status'].value_counts().plot(kind='barh')\n",
    "plt.xlabel('Status')\n",
    "plt.ylabel('Counts')\n",
    "plt.title('Proportion of different Solution status')\n",
    "plt.show()\n",
    "plt.tight_layout()"
   ]
  },
  {
   "cell_type": "markdown",
   "id": "61216463",
   "metadata": {},
   "source": [
    "### 5. Perform a statistical test for the following:\n",
    "\n",
    "(For the below statements you need to state the Null and Alternate and then provide a statistical test to accept or reject the Null Hypothesis along with the corresponding ‘p-value’.)\n",
    "\n",
    " - Whether the average response time across complaint types is similar or not (overall)\n",
    " - Are the type of complaint or service requested and location related?"
   ]
  },
  {
   "cell_type": "code",
   "execution_count": 92,
   "id": "aae74d3c",
   "metadata": {},
   "outputs": [],
   "source": [
    "import scipy.stats as stat"
   ]
  },
  {
   "cell_type": "markdown",
   "id": "4dc54254",
   "metadata": {},
   "source": [
    " - Whether the average response time across complaint types is similar or not (overall)"
   ]
  },
  {
   "cell_type": "code",
   "execution_count": 93,
   "id": "ea766765",
   "metadata": {},
   "outputs": [
    {
     "data": {
      "text/html": [
       "<div>\n",
       "<style scoped>\n",
       "    .dataframe tbody tr th:only-of-type {\n",
       "        vertical-align: middle;\n",
       "    }\n",
       "\n",
       "    .dataframe tbody tr th {\n",
       "        vertical-align: top;\n",
       "    }\n",
       "\n",
       "    .dataframe thead th {\n",
       "        text-align: right;\n",
       "    }\n",
       "</style>\n",
       "<table border=\"1\" class=\"dataframe\">\n",
       "  <thead>\n",
       "    <tr style=\"text-align: right;\">\n",
       "      <th></th>\n",
       "      <th>Complaint Type</th>\n",
       "      <th>DeltaT(in_hr.)</th>\n",
       "    </tr>\n",
       "  </thead>\n",
       "  <tbody>\n",
       "    <tr>\n",
       "      <th>0</th>\n",
       "      <td>Posting Advertisement</td>\n",
       "      <td>1.975926</td>\n",
       "    </tr>\n",
       "    <tr>\n",
       "      <th>1</th>\n",
       "      <td>Illegal Fireworks</td>\n",
       "      <td>2.761190</td>\n",
       "    </tr>\n",
       "    <tr>\n",
       "      <th>2</th>\n",
       "      <td>Noise - Commercial</td>\n",
       "      <td>3.136907</td>\n",
       "    </tr>\n",
       "    <tr>\n",
       "      <th>3</th>\n",
       "      <td>Noise - House of Worship</td>\n",
       "      <td>3.193240</td>\n",
       "    </tr>\n",
       "    <tr>\n",
       "      <th>4</th>\n",
       "      <td>Noise - Park</td>\n",
       "      <td>3.401706</td>\n",
       "    </tr>\n",
       "    <tr>\n",
       "      <th>5</th>\n",
       "      <td>Noise - Street/Sidewalk</td>\n",
       "      <td>3.438573</td>\n",
       "    </tr>\n",
       "    <tr>\n",
       "      <th>6</th>\n",
       "      <td>Traffic</td>\n",
       "      <td>3.446291</td>\n",
       "    </tr>\n",
       "    <tr>\n",
       "      <th>7</th>\n",
       "      <td>Disorderly Youth</td>\n",
       "      <td>3.558916</td>\n",
       "    </tr>\n",
       "    <tr>\n",
       "      <th>8</th>\n",
       "      <td>Noise - Vehicle</td>\n",
       "      <td>3.588570</td>\n",
       "    </tr>\n",
       "    <tr>\n",
       "      <th>9</th>\n",
       "      <td>Urinating in Public</td>\n",
       "      <td>3.626486</td>\n",
       "    </tr>\n",
       "    <tr>\n",
       "      <th>10</th>\n",
       "      <td>Bike/Roller/Skate Chronic</td>\n",
       "      <td>3.756611</td>\n",
       "    </tr>\n",
       "    <tr>\n",
       "      <th>11</th>\n",
       "      <td>Drinking</td>\n",
       "      <td>3.855354</td>\n",
       "    </tr>\n",
       "    <tr>\n",
       "      <th>12</th>\n",
       "      <td>Vending</td>\n",
       "      <td>4.013619</td>\n",
       "    </tr>\n",
       "    <tr>\n",
       "      <th>13</th>\n",
       "      <td>Squeegee</td>\n",
       "      <td>4.047500</td>\n",
       "    </tr>\n",
       "    <tr>\n",
       "      <th>14</th>\n",
       "      <td>Homeless Encampment</td>\n",
       "      <td>4.366029</td>\n",
       "    </tr>\n",
       "    <tr>\n",
       "      <th>15</th>\n",
       "      <td>Panhandling</td>\n",
       "      <td>4.372852</td>\n",
       "    </tr>\n",
       "    <tr>\n",
       "      <th>16</th>\n",
       "      <td>Illegal Parking</td>\n",
       "      <td>4.486005</td>\n",
       "    </tr>\n",
       "    <tr>\n",
       "      <th>17</th>\n",
       "      <td>Blocked Driveway</td>\n",
       "      <td>4.738187</td>\n",
       "    </tr>\n",
       "    <tr>\n",
       "      <th>18</th>\n",
       "      <td>Animal Abuse</td>\n",
       "      <td>5.213471</td>\n",
       "    </tr>\n",
       "    <tr>\n",
       "      <th>19</th>\n",
       "      <td>Graffiti</td>\n",
       "      <td>7.151062</td>\n",
       "    </tr>\n",
       "    <tr>\n",
       "      <th>20</th>\n",
       "      <td>Derelict Vehicle</td>\n",
       "      <td>7.346105</td>\n",
       "    </tr>\n",
       "    <tr>\n",
       "      <th>21</th>\n",
       "      <td>Animal in a Park</td>\n",
       "      <td>336.830000</td>\n",
       "    </tr>\n",
       "  </tbody>\n",
       "</table>\n",
       "</div>"
      ],
      "text/plain": [
       "               Complaint Type  DeltaT(in_hr.)\n",
       "0       Posting Advertisement        1.975926\n",
       "1           Illegal Fireworks        2.761190\n",
       "2          Noise - Commercial        3.136907\n",
       "3    Noise - House of Worship        3.193240\n",
       "4                Noise - Park        3.401706\n",
       "5     Noise - Street/Sidewalk        3.438573\n",
       "6                     Traffic        3.446291\n",
       "7            Disorderly Youth        3.558916\n",
       "8             Noise - Vehicle        3.588570\n",
       "9         Urinating in Public        3.626486\n",
       "10  Bike/Roller/Skate Chronic        3.756611\n",
       "11                   Drinking        3.855354\n",
       "12                    Vending        4.013619\n",
       "13                   Squeegee        4.047500\n",
       "14        Homeless Encampment        4.366029\n",
       "15                Panhandling        4.372852\n",
       "16            Illegal Parking        4.486005\n",
       "17           Blocked Driveway        4.738187\n",
       "18               Animal Abuse        5.213471\n",
       "19                   Graffiti        7.151062\n",
       "20           Derelict Vehicle        7.346105\n",
       "21           Animal in a Park      336.830000"
      ]
     },
     "execution_count": 93,
     "metadata": {},
     "output_type": "execute_result"
    }
   ],
   "source": [
    "# Average response time across complaint types \n",
    "\n",
    "Complaint_AvgTime = data_place_CType_RCTime.groupby(['Complaint Type']).agg({'DeltaT(in_hr.)':'mean'})\n",
    "Complaint_AvgTime = pd.DataFrame(Complaint_AvgTime)\n",
    "Complaint_AvgTime = Complaint_AvgTime.sort_values(['DeltaT(in_hr.)']).reset_index()\n",
    "Complaint_AvgTime"
   ]
  },
  {
   "cell_type": "markdown",
   "id": "a5a410ee",
   "metadata": {},
   "source": [
    "#### 1. T-test\n",
    "#### (a) 1-sample T-test"
   ]
  },
  {
   "cell_type": "markdown",
   "id": "99b94609",
   "metadata": {},
   "source": [
    "It is noteworthy that the value of the Avg. time due to complaint type 'Animal in a Park' quite out of the range. Let's find out the average with or without this particular complaint type."
   ]
  },
  {
   "cell_type": "code",
   "execution_count": 94,
   "id": "f4ede133",
   "metadata": {},
   "outputs": [
    {
     "name": "stdout",
     "output_type": "stream",
     "text": [
      "Without complaint type 'Animal in a Park' -----  4.070219157949681\n",
      "With complaint type 'Animal in a Park' -----  19.19566374167924\n"
     ]
    },
    {
     "name": "stderr",
     "output_type": "stream",
     "text": [
      "C:\\Users\\HP\\AppData\\Local\\Temp/ipykernel_9348/2842791953.py:1: FutureWarning: Dropping of nuisance columns in DataFrame reductions (with 'numeric_only=None') is deprecated; in a future version this will raise TypeError.  Select only valid columns before calling the reduction.\n",
      "  Tmean_without = float(Complaint_AvgTime[Complaint_AvgTime['Complaint Type']!='Animal in a Park'].mean())\n"
     ]
    }
   ],
   "source": [
    "Tmean_without = float(Complaint_AvgTime[Complaint_AvgTime['Complaint Type']!='Animal in a Park'].mean())\n",
    "print(\"Without complaint type 'Animal in a Park' ----- \",Tmean_without)\n",
    "Tmean_with = float(Complaint_AvgTime['DeltaT(in_hr.)'].mean())\n",
    "print(\"With complaint type 'Animal in a Park' ----- \",Tmean_with)"
   ]
  },
  {
   "cell_type": "code",
   "execution_count": 95,
   "id": "a2e8a7df",
   "metadata": {},
   "outputs": [
    {
     "name": "stdout",
     "output_type": "stream",
     "text": [
      "T-statistic is = 0.0\n",
      "p value is = 1.0\n"
     ]
    }
   ],
   "source": [
    "ttest_with, pval_with = stat.ttest_1samp(Complaint_AvgTime['DeltaT(in_hr.)'], Tmean_with)\n",
    "print('T-statistic is =',ttest_with)\n",
    "print('p value is =',np.around(pval_with))"
   ]
  },
  {
   "cell_type": "code",
   "execution_count": 96,
   "id": "41fb8630",
   "metadata": {},
   "outputs": [
    {
     "name": "stdout",
     "output_type": "stream",
     "text": [
      "Null hypothesis is accepted since p value (1.0) is greater than 0.05\n"
     ]
    }
   ],
   "source": [
    "if (pval_with<0.05):\n",
    "    print('Null hypothesis is rejected since p value ({}) is less than 0.05'.format(np.around(pval_with,decimals=2)))\n",
    "else:\n",
    "    print('Null hypothesis is accepted since p value ({}) is greater than 0.05'.format(np.around(pval_with,decimals=2)))"
   ]
  },
  {
   "cell_type": "markdown",
   "id": "02496449",
   "metadata": {},
   "source": [
    "#### Without complaint type 'Animal in a Park'"
   ]
  },
  {
   "cell_type": "code",
   "execution_count": 97,
   "id": "9d55081f",
   "metadata": {},
   "outputs": [
    {
     "data": {
      "text/html": [
       "<div>\n",
       "<style scoped>\n",
       "    .dataframe tbody tr th:only-of-type {\n",
       "        vertical-align: middle;\n",
       "    }\n",
       "\n",
       "    .dataframe tbody tr th {\n",
       "        vertical-align: top;\n",
       "    }\n",
       "\n",
       "    .dataframe thead th {\n",
       "        text-align: right;\n",
       "    }\n",
       "</style>\n",
       "<table border=\"1\" class=\"dataframe\">\n",
       "  <thead>\n",
       "    <tr style=\"text-align: right;\">\n",
       "      <th></th>\n",
       "      <th>Complaint Type</th>\n",
       "      <th>DeltaT(in_hr.)</th>\n",
       "    </tr>\n",
       "  </thead>\n",
       "  <tbody>\n",
       "    <tr>\n",
       "      <th>0</th>\n",
       "      <td>Posting Advertisement</td>\n",
       "      <td>1.975926</td>\n",
       "    </tr>\n",
       "    <tr>\n",
       "      <th>1</th>\n",
       "      <td>Illegal Fireworks</td>\n",
       "      <td>2.761190</td>\n",
       "    </tr>\n",
       "    <tr>\n",
       "      <th>2</th>\n",
       "      <td>Noise - Commercial</td>\n",
       "      <td>3.136907</td>\n",
       "    </tr>\n",
       "    <tr>\n",
       "      <th>3</th>\n",
       "      <td>Noise - House of Worship</td>\n",
       "      <td>3.193240</td>\n",
       "    </tr>\n",
       "    <tr>\n",
       "      <th>4</th>\n",
       "      <td>Noise - Park</td>\n",
       "      <td>3.401706</td>\n",
       "    </tr>\n",
       "    <tr>\n",
       "      <th>5</th>\n",
       "      <td>Noise - Street/Sidewalk</td>\n",
       "      <td>3.438573</td>\n",
       "    </tr>\n",
       "    <tr>\n",
       "      <th>6</th>\n",
       "      <td>Traffic</td>\n",
       "      <td>3.446291</td>\n",
       "    </tr>\n",
       "    <tr>\n",
       "      <th>7</th>\n",
       "      <td>Disorderly Youth</td>\n",
       "      <td>3.558916</td>\n",
       "    </tr>\n",
       "    <tr>\n",
       "      <th>8</th>\n",
       "      <td>Noise - Vehicle</td>\n",
       "      <td>3.588570</td>\n",
       "    </tr>\n",
       "    <tr>\n",
       "      <th>9</th>\n",
       "      <td>Urinating in Public</td>\n",
       "      <td>3.626486</td>\n",
       "    </tr>\n",
       "    <tr>\n",
       "      <th>10</th>\n",
       "      <td>Bike/Roller/Skate Chronic</td>\n",
       "      <td>3.756611</td>\n",
       "    </tr>\n",
       "    <tr>\n",
       "      <th>11</th>\n",
       "      <td>Drinking</td>\n",
       "      <td>3.855354</td>\n",
       "    </tr>\n",
       "    <tr>\n",
       "      <th>12</th>\n",
       "      <td>Vending</td>\n",
       "      <td>4.013619</td>\n",
       "    </tr>\n",
       "    <tr>\n",
       "      <th>13</th>\n",
       "      <td>Squeegee</td>\n",
       "      <td>4.047500</td>\n",
       "    </tr>\n",
       "    <tr>\n",
       "      <th>14</th>\n",
       "      <td>Homeless Encampment</td>\n",
       "      <td>4.366029</td>\n",
       "    </tr>\n",
       "    <tr>\n",
       "      <th>15</th>\n",
       "      <td>Panhandling</td>\n",
       "      <td>4.372852</td>\n",
       "    </tr>\n",
       "    <tr>\n",
       "      <th>16</th>\n",
       "      <td>Illegal Parking</td>\n",
       "      <td>4.486005</td>\n",
       "    </tr>\n",
       "    <tr>\n",
       "      <th>17</th>\n",
       "      <td>Blocked Driveway</td>\n",
       "      <td>4.738187</td>\n",
       "    </tr>\n",
       "    <tr>\n",
       "      <th>18</th>\n",
       "      <td>Animal Abuse</td>\n",
       "      <td>5.213471</td>\n",
       "    </tr>\n",
       "    <tr>\n",
       "      <th>19</th>\n",
       "      <td>Graffiti</td>\n",
       "      <td>7.151062</td>\n",
       "    </tr>\n",
       "    <tr>\n",
       "      <th>20</th>\n",
       "      <td>Derelict Vehicle</td>\n",
       "      <td>7.346105</td>\n",
       "    </tr>\n",
       "  </tbody>\n",
       "</table>\n",
       "</div>"
      ],
      "text/plain": [
       "               Complaint Type  DeltaT(in_hr.)\n",
       "0       Posting Advertisement        1.975926\n",
       "1           Illegal Fireworks        2.761190\n",
       "2          Noise - Commercial        3.136907\n",
       "3    Noise - House of Worship        3.193240\n",
       "4                Noise - Park        3.401706\n",
       "5     Noise - Street/Sidewalk        3.438573\n",
       "6                     Traffic        3.446291\n",
       "7            Disorderly Youth        3.558916\n",
       "8             Noise - Vehicle        3.588570\n",
       "9         Urinating in Public        3.626486\n",
       "10  Bike/Roller/Skate Chronic        3.756611\n",
       "11                   Drinking        3.855354\n",
       "12                    Vending        4.013619\n",
       "13                   Squeegee        4.047500\n",
       "14        Homeless Encampment        4.366029\n",
       "15                Panhandling        4.372852\n",
       "16            Illegal Parking        4.486005\n",
       "17           Blocked Driveway        4.738187\n",
       "18               Animal Abuse        5.213471\n",
       "19                   Graffiti        7.151062\n",
       "20           Derelict Vehicle        7.346105"
      ]
     },
     "execution_count": 97,
     "metadata": {},
     "output_type": "execute_result"
    }
   ],
   "source": [
    "Complaint_AvgTime_without = Complaint_AvgTime.drop([len(Complaint_AvgTime)-1],axis=0)\n",
    "Complaint_AvgTime_without"
   ]
  },
  {
   "cell_type": "code",
   "execution_count": 98,
   "id": "68177d91",
   "metadata": {},
   "outputs": [
    {
     "name": "stdout",
     "output_type": "stream",
     "text": [
      "T-statistic is = 0.0\n",
      "p value is = 1.0\n"
     ]
    }
   ],
   "source": [
    "ttest_without, pval_without = stat.ttest_1samp(Complaint_AvgTime_without['DeltaT(in_hr.)'], Tmean_without)\n",
    "print('T-statistic is =',ttest_without)\n",
    "print('p value is =',np.around(pval_without,decimals=8))"
   ]
  },
  {
   "cell_type": "code",
   "execution_count": 99,
   "id": "543e6df0",
   "metadata": {},
   "outputs": [
    {
     "name": "stdout",
     "output_type": "stream",
     "text": [
      "Null hypothesis is accepted since p value (1.0) is greater than 0.05\n"
     ]
    }
   ],
   "source": [
    "if (pval_without<0.05):\n",
    "    print('Null hypothesis is rejected since p value ({}) is less than 0.05'.format(np.around(pval_without,decimals=2)))\n",
    "else:\n",
    "    print('Null hypothesis is accepted since p value ({}) is greater than 0.05'.format(np.around(pval_without,decimals=2)))"
   ]
  },
  {
   "cell_type": "markdown",
   "id": "c377a657",
   "metadata": {},
   "source": [
    "-  With or without the Hypothesis remain the same."
   ]
  },
  {
   "cell_type": "markdown",
   "id": "6e881ab7",
   "metadata": {},
   "source": [
    "#### (b) 2-sample T-test"
   ]
  },
  {
   "cell_type": "code",
   "execution_count": 100,
   "id": "4a565fa3",
   "metadata": {},
   "outputs": [
    {
     "data": {
      "text/html": [
       "<div>\n",
       "<style scoped>\n",
       "    .dataframe tbody tr th:only-of-type {\n",
       "        vertical-align: middle;\n",
       "    }\n",
       "\n",
       "    .dataframe tbody tr th {\n",
       "        vertical-align: top;\n",
       "    }\n",
       "\n",
       "    .dataframe thead th {\n",
       "        text-align: right;\n",
       "    }\n",
       "</style>\n",
       "<table border=\"1\" class=\"dataframe\">\n",
       "  <thead>\n",
       "    <tr style=\"text-align: right;\">\n",
       "      <th></th>\n",
       "      <th>Complaint Type</th>\n",
       "      <th>DeltaT(in_hr.)</th>\n",
       "    </tr>\n",
       "  </thead>\n",
       "  <tbody>\n",
       "    <tr>\n",
       "      <th>3</th>\n",
       "      <td>Noise - House of Worship</td>\n",
       "      <td>3.193240</td>\n",
       "    </tr>\n",
       "    <tr>\n",
       "      <th>9</th>\n",
       "      <td>Urinating in Public</td>\n",
       "      <td>3.626486</td>\n",
       "    </tr>\n",
       "    <tr>\n",
       "      <th>2</th>\n",
       "      <td>Noise - Commercial</td>\n",
       "      <td>3.136907</td>\n",
       "    </tr>\n",
       "    <tr>\n",
       "      <th>6</th>\n",
       "      <td>Traffic</td>\n",
       "      <td>3.446291</td>\n",
       "    </tr>\n",
       "    <tr>\n",
       "      <th>13</th>\n",
       "      <td>Squeegee</td>\n",
       "      <td>4.047500</td>\n",
       "    </tr>\n",
       "    <tr>\n",
       "      <th>1</th>\n",
       "      <td>Illegal Fireworks</td>\n",
       "      <td>2.761190</td>\n",
       "    </tr>\n",
       "    <tr>\n",
       "      <th>17</th>\n",
       "      <td>Blocked Driveway</td>\n",
       "      <td>4.738187</td>\n",
       "    </tr>\n",
       "    <tr>\n",
       "      <th>18</th>\n",
       "      <td>Animal Abuse</td>\n",
       "      <td>5.213471</td>\n",
       "    </tr>\n",
       "    <tr>\n",
       "      <th>8</th>\n",
       "      <td>Noise - Vehicle</td>\n",
       "      <td>3.588570</td>\n",
       "    </tr>\n",
       "    <tr>\n",
       "      <th>4</th>\n",
       "      <td>Noise - Park</td>\n",
       "      <td>3.401706</td>\n",
       "    </tr>\n",
       "    <tr>\n",
       "      <th>15</th>\n",
       "      <td>Panhandling</td>\n",
       "      <td>4.372852</td>\n",
       "    </tr>\n",
       "  </tbody>\n",
       "</table>\n",
       "</div>"
      ],
      "text/plain": [
       "              Complaint Type  DeltaT(in_hr.)\n",
       "3   Noise - House of Worship        3.193240\n",
       "9        Urinating in Public        3.626486\n",
       "2         Noise - Commercial        3.136907\n",
       "6                    Traffic        3.446291\n",
       "13                  Squeegee        4.047500\n",
       "1          Illegal Fireworks        2.761190\n",
       "17          Blocked Driveway        4.738187\n",
       "18              Animal Abuse        5.213471\n",
       "8            Noise - Vehicle        3.588570\n",
       "4               Noise - Park        3.401706\n",
       "15               Panhandling        4.372852"
      ]
     },
     "execution_count": 100,
     "metadata": {},
     "output_type": "execute_result"
    }
   ],
   "source": [
    "sample1 = Complaint_AvgTime.sample(frac=.5)\n",
    "sample1"
   ]
  },
  {
   "cell_type": "code",
   "execution_count": 101,
   "id": "1514b63f",
   "metadata": {},
   "outputs": [
    {
     "data": {
      "text/html": [
       "<div>\n",
       "<style scoped>\n",
       "    .dataframe tbody tr th:only-of-type {\n",
       "        vertical-align: middle;\n",
       "    }\n",
       "\n",
       "    .dataframe tbody tr th {\n",
       "        vertical-align: top;\n",
       "    }\n",
       "\n",
       "    .dataframe thead th {\n",
       "        text-align: right;\n",
       "    }\n",
       "</style>\n",
       "<table border=\"1\" class=\"dataframe\">\n",
       "  <thead>\n",
       "    <tr style=\"text-align: right;\">\n",
       "      <th></th>\n",
       "      <th>Complaint Type</th>\n",
       "      <th>DeltaT(in_hr.)</th>\n",
       "    </tr>\n",
       "  </thead>\n",
       "  <tbody>\n",
       "    <tr>\n",
       "      <th>0</th>\n",
       "      <td>Posting Advertisement</td>\n",
       "      <td>1.975926</td>\n",
       "    </tr>\n",
       "    <tr>\n",
       "      <th>5</th>\n",
       "      <td>Noise - Street/Sidewalk</td>\n",
       "      <td>3.438573</td>\n",
       "    </tr>\n",
       "    <tr>\n",
       "      <th>7</th>\n",
       "      <td>Disorderly Youth</td>\n",
       "      <td>3.558916</td>\n",
       "    </tr>\n",
       "    <tr>\n",
       "      <th>10</th>\n",
       "      <td>Bike/Roller/Skate Chronic</td>\n",
       "      <td>3.756611</td>\n",
       "    </tr>\n",
       "    <tr>\n",
       "      <th>11</th>\n",
       "      <td>Drinking</td>\n",
       "      <td>3.855354</td>\n",
       "    </tr>\n",
       "    <tr>\n",
       "      <th>12</th>\n",
       "      <td>Vending</td>\n",
       "      <td>4.013619</td>\n",
       "    </tr>\n",
       "    <tr>\n",
       "      <th>14</th>\n",
       "      <td>Homeless Encampment</td>\n",
       "      <td>4.366029</td>\n",
       "    </tr>\n",
       "    <tr>\n",
       "      <th>16</th>\n",
       "      <td>Illegal Parking</td>\n",
       "      <td>4.486005</td>\n",
       "    </tr>\n",
       "    <tr>\n",
       "      <th>19</th>\n",
       "      <td>Graffiti</td>\n",
       "      <td>7.151062</td>\n",
       "    </tr>\n",
       "    <tr>\n",
       "      <th>20</th>\n",
       "      <td>Derelict Vehicle</td>\n",
       "      <td>7.346105</td>\n",
       "    </tr>\n",
       "    <tr>\n",
       "      <th>21</th>\n",
       "      <td>Animal in a Park</td>\n",
       "      <td>336.830000</td>\n",
       "    </tr>\n",
       "  </tbody>\n",
       "</table>\n",
       "</div>"
      ],
      "text/plain": [
       "               Complaint Type  DeltaT(in_hr.)\n",
       "0       Posting Advertisement        1.975926\n",
       "5     Noise - Street/Sidewalk        3.438573\n",
       "7            Disorderly Youth        3.558916\n",
       "10  Bike/Roller/Skate Chronic        3.756611\n",
       "11                   Drinking        3.855354\n",
       "12                    Vending        4.013619\n",
       "14        Homeless Encampment        4.366029\n",
       "16            Illegal Parking        4.486005\n",
       "19                   Graffiti        7.151062\n",
       "20           Derelict Vehicle        7.346105\n",
       "21           Animal in a Park      336.830000"
      ]
     },
     "execution_count": 101,
     "metadata": {},
     "output_type": "execute_result"
    }
   ],
   "source": [
    "sample2 = Complaint_AvgTime.drop(sample1.index)\n",
    "sample2"
   ]
  },
  {
   "cell_type": "code",
   "execution_count": 102,
   "id": "28377350",
   "metadata": {},
   "outputs": [
    {
     "name": "stdout",
     "output_type": "stream",
     "text": [
      "Mean of 1st sample = 3.78\n",
      "Standard dev. of 1st sample = 0.74\n",
      "Mean of 2nd sample = 34.62\n",
      "Standard dev. of 2nd sample = 100.25\n"
     ]
    }
   ],
   "source": [
    "print('Mean of 1st sample =',np.around(float(sample1['DeltaT(in_hr.)'].mean()),decimals=2))\n",
    "print('Standard dev. of 1st sample =',np.around(float(sample1['DeltaT(in_hr.)'].std()),decimals=2))\n",
    "print('Mean of 2nd sample =',np.around(float(sample2['DeltaT(in_hr.)'].mean()),decimals=2))\n",
    "print('Standard dev. of 2nd sample =',np.around(float(sample2['DeltaT(in_hr.)'].std()),decimals=2))"
   ]
  },
  {
   "cell_type": "code",
   "execution_count": 103,
   "id": "fbf34616",
   "metadata": {},
   "outputs": [
    {
     "name": "stdout",
     "output_type": "stream",
     "text": [
      "T-statistic is = -1.020352117360926\n",
      "p value is = 0.32\n"
     ]
    }
   ],
   "source": [
    "ttest_2sp, p_val = stat.ttest_ind(sample1['DeltaT(in_hr.)'],sample2['DeltaT(in_hr.)'])\n",
    "print('T-statistic is =',ttest_2sp)\n",
    "print('p value is =',np.around(p_val,decimals=2))"
   ]
  },
  {
   "cell_type": "code",
   "execution_count": 104,
   "id": "f483dc12",
   "metadata": {},
   "outputs": [
    {
     "name": "stdout",
     "output_type": "stream",
     "text": [
      "Null hypothesis is accepted since p value (0.32) is greater than 0.05\n"
     ]
    }
   ],
   "source": [
    "if (p_val<0.05):\n",
    "    print('Null hypothesis is rejected since p value ({}) is less than 0.05'.format(np.around(p_val,decimals=2)))\n",
    "else:\n",
    "    print('Null hypothesis is accepted since p value ({}) is greater than 0.05'.format(np.around(p_val,decimals=2)))"
   ]
  },
  {
   "cell_type": "markdown",
   "id": "5926b98b",
   "metadata": {},
   "source": [
    "#### 2. One way F-test (ANOVA)"
   ]
  },
  {
   "cell_type": "code",
   "execution_count": 105,
   "id": "0922f7e0",
   "metadata": {},
   "outputs": [
    {
     "data": {
      "text/html": [
       "<div>\n",
       "<style scoped>\n",
       "    .dataframe tbody tr th:only-of-type {\n",
       "        vertical-align: middle;\n",
       "    }\n",
       "\n",
       "    .dataframe tbody tr th {\n",
       "        vertical-align: top;\n",
       "    }\n",
       "\n",
       "    .dataframe thead th {\n",
       "        text-align: right;\n",
       "    }\n",
       "</style>\n",
       "<table border=\"1\" class=\"dataframe\">\n",
       "  <thead>\n",
       "    <tr style=\"text-align: right;\">\n",
       "      <th></th>\n",
       "      <th>Complaint Type</th>\n",
       "      <th>DeltaT(in_hr.)</th>\n",
       "    </tr>\n",
       "  </thead>\n",
       "  <tbody>\n",
       "    <tr>\n",
       "      <th>20</th>\n",
       "      <td>Derelict Vehicle</td>\n",
       "      <td>7.346105</td>\n",
       "    </tr>\n",
       "    <tr>\n",
       "      <th>19</th>\n",
       "      <td>Graffiti</td>\n",
       "      <td>7.151062</td>\n",
       "    </tr>\n",
       "    <tr>\n",
       "      <th>21</th>\n",
       "      <td>Animal in a Park</td>\n",
       "      <td>336.830000</td>\n",
       "    </tr>\n",
       "    <tr>\n",
       "      <th>17</th>\n",
       "      <td>Blocked Driveway</td>\n",
       "      <td>4.738187</td>\n",
       "    </tr>\n",
       "    <tr>\n",
       "      <th>10</th>\n",
       "      <td>Bike/Roller/Skate Chronic</td>\n",
       "      <td>3.756611</td>\n",
       "    </tr>\n",
       "    <tr>\n",
       "      <th>5</th>\n",
       "      <td>Noise - Street/Sidewalk</td>\n",
       "      <td>3.438573</td>\n",
       "    </tr>\n",
       "    <tr>\n",
       "      <th>11</th>\n",
       "      <td>Drinking</td>\n",
       "      <td>3.855354</td>\n",
       "    </tr>\n",
       "  </tbody>\n",
       "</table>\n",
       "</div>"
      ],
      "text/plain": [
       "               Complaint Type  DeltaT(in_hr.)\n",
       "20           Derelict Vehicle        7.346105\n",
       "19                   Graffiti        7.151062\n",
       "21           Animal in a Park      336.830000\n",
       "17           Blocked Driveway        4.738187\n",
       "10  Bike/Roller/Skate Chronic        3.756611\n",
       "5     Noise - Street/Sidewalk        3.438573\n",
       "11                   Drinking        3.855354"
      ]
     },
     "execution_count": 105,
     "metadata": {},
     "output_type": "execute_result"
    }
   ],
   "source": [
    "sample1_anova = Complaint_AvgTime.sample(frac=1/3)\n",
    "sample1_anova"
   ]
  },
  {
   "cell_type": "code",
   "execution_count": 106,
   "id": "ec6a241f",
   "metadata": {},
   "outputs": [
    {
     "data": {
      "text/html": [
       "<div>\n",
       "<style scoped>\n",
       "    .dataframe tbody tr th:only-of-type {\n",
       "        vertical-align: middle;\n",
       "    }\n",
       "\n",
       "    .dataframe tbody tr th {\n",
       "        vertical-align: top;\n",
       "    }\n",
       "\n",
       "    .dataframe thead th {\n",
       "        text-align: right;\n",
       "    }\n",
       "</style>\n",
       "<table border=\"1\" class=\"dataframe\">\n",
       "  <thead>\n",
       "    <tr style=\"text-align: right;\">\n",
       "      <th></th>\n",
       "      <th>Complaint Type</th>\n",
       "      <th>DeltaT(in_hr.)</th>\n",
       "    </tr>\n",
       "  </thead>\n",
       "  <tbody>\n",
       "    <tr>\n",
       "      <th>0</th>\n",
       "      <td>Posting Advertisement</td>\n",
       "      <td>1.975926</td>\n",
       "    </tr>\n",
       "    <tr>\n",
       "      <th>1</th>\n",
       "      <td>Illegal Fireworks</td>\n",
       "      <td>2.761190</td>\n",
       "    </tr>\n",
       "    <tr>\n",
       "      <th>2</th>\n",
       "      <td>Noise - Commercial</td>\n",
       "      <td>3.136907</td>\n",
       "    </tr>\n",
       "    <tr>\n",
       "      <th>3</th>\n",
       "      <td>Noise - House of Worship</td>\n",
       "      <td>3.193240</td>\n",
       "    </tr>\n",
       "    <tr>\n",
       "      <th>4</th>\n",
       "      <td>Noise - Park</td>\n",
       "      <td>3.401706</td>\n",
       "    </tr>\n",
       "    <tr>\n",
       "      <th>6</th>\n",
       "      <td>Traffic</td>\n",
       "      <td>3.446291</td>\n",
       "    </tr>\n",
       "    <tr>\n",
       "      <th>7</th>\n",
       "      <td>Disorderly Youth</td>\n",
       "      <td>3.558916</td>\n",
       "    </tr>\n",
       "    <tr>\n",
       "      <th>8</th>\n",
       "      <td>Noise - Vehicle</td>\n",
       "      <td>3.588570</td>\n",
       "    </tr>\n",
       "    <tr>\n",
       "      <th>9</th>\n",
       "      <td>Urinating in Public</td>\n",
       "      <td>3.626486</td>\n",
       "    </tr>\n",
       "    <tr>\n",
       "      <th>12</th>\n",
       "      <td>Vending</td>\n",
       "      <td>4.013619</td>\n",
       "    </tr>\n",
       "    <tr>\n",
       "      <th>13</th>\n",
       "      <td>Squeegee</td>\n",
       "      <td>4.047500</td>\n",
       "    </tr>\n",
       "    <tr>\n",
       "      <th>14</th>\n",
       "      <td>Homeless Encampment</td>\n",
       "      <td>4.366029</td>\n",
       "    </tr>\n",
       "    <tr>\n",
       "      <th>15</th>\n",
       "      <td>Panhandling</td>\n",
       "      <td>4.372852</td>\n",
       "    </tr>\n",
       "    <tr>\n",
       "      <th>16</th>\n",
       "      <td>Illegal Parking</td>\n",
       "      <td>4.486005</td>\n",
       "    </tr>\n",
       "    <tr>\n",
       "      <th>18</th>\n",
       "      <td>Animal Abuse</td>\n",
       "      <td>5.213471</td>\n",
       "    </tr>\n",
       "  </tbody>\n",
       "</table>\n",
       "</div>"
      ],
      "text/plain": [
       "              Complaint Type  DeltaT(in_hr.)\n",
       "0      Posting Advertisement        1.975926\n",
       "1          Illegal Fireworks        2.761190\n",
       "2         Noise - Commercial        3.136907\n",
       "3   Noise - House of Worship        3.193240\n",
       "4               Noise - Park        3.401706\n",
       "6                    Traffic        3.446291\n",
       "7           Disorderly Youth        3.558916\n",
       "8            Noise - Vehicle        3.588570\n",
       "9        Urinating in Public        3.626486\n",
       "12                   Vending        4.013619\n",
       "13                  Squeegee        4.047500\n",
       "14       Homeless Encampment        4.366029\n",
       "15               Panhandling        4.372852\n",
       "16           Illegal Parking        4.486005\n",
       "18              Animal Abuse        5.213471"
      ]
     },
     "execution_count": 106,
     "metadata": {},
     "output_type": "execute_result"
    }
   ],
   "source": [
    "rest_data = Complaint_AvgTime.drop(sample1_anova.index)\n",
    "rest_data"
   ]
  },
  {
   "cell_type": "code",
   "execution_count": 107,
   "id": "7335726c",
   "metadata": {},
   "outputs": [
    {
     "data": {
      "text/html": [
       "<div>\n",
       "<style scoped>\n",
       "    .dataframe tbody tr th:only-of-type {\n",
       "        vertical-align: middle;\n",
       "    }\n",
       "\n",
       "    .dataframe tbody tr th {\n",
       "        vertical-align: top;\n",
       "    }\n",
       "\n",
       "    .dataframe thead th {\n",
       "        text-align: right;\n",
       "    }\n",
       "</style>\n",
       "<table border=\"1\" class=\"dataframe\">\n",
       "  <thead>\n",
       "    <tr style=\"text-align: right;\">\n",
       "      <th></th>\n",
       "      <th>Complaint Type</th>\n",
       "      <th>DeltaT(in_hr.)</th>\n",
       "    </tr>\n",
       "  </thead>\n",
       "  <tbody>\n",
       "    <tr>\n",
       "      <th>0</th>\n",
       "      <td>Posting Advertisement</td>\n",
       "      <td>1.975926</td>\n",
       "    </tr>\n",
       "    <tr>\n",
       "      <th>12</th>\n",
       "      <td>Vending</td>\n",
       "      <td>4.013619</td>\n",
       "    </tr>\n",
       "    <tr>\n",
       "      <th>3</th>\n",
       "      <td>Noise - House of Worship</td>\n",
       "      <td>3.193240</td>\n",
       "    </tr>\n",
       "    <tr>\n",
       "      <th>9</th>\n",
       "      <td>Urinating in Public</td>\n",
       "      <td>3.626486</td>\n",
       "    </tr>\n",
       "    <tr>\n",
       "      <th>1</th>\n",
       "      <td>Illegal Fireworks</td>\n",
       "      <td>2.761190</td>\n",
       "    </tr>\n",
       "    <tr>\n",
       "      <th>16</th>\n",
       "      <td>Illegal Parking</td>\n",
       "      <td>4.486005</td>\n",
       "    </tr>\n",
       "    <tr>\n",
       "      <th>15</th>\n",
       "      <td>Panhandling</td>\n",
       "      <td>4.372852</td>\n",
       "    </tr>\n",
       "    <tr>\n",
       "      <th>14</th>\n",
       "      <td>Homeless Encampment</td>\n",
       "      <td>4.366029</td>\n",
       "    </tr>\n",
       "  </tbody>\n",
       "</table>\n",
       "</div>"
      ],
      "text/plain": [
       "              Complaint Type  DeltaT(in_hr.)\n",
       "0      Posting Advertisement        1.975926\n",
       "12                   Vending        4.013619\n",
       "3   Noise - House of Worship        3.193240\n",
       "9        Urinating in Public        3.626486\n",
       "1          Illegal Fireworks        2.761190\n",
       "16           Illegal Parking        4.486005\n",
       "15               Panhandling        4.372852\n",
       "14       Homeless Encampment        4.366029"
      ]
     },
     "execution_count": 107,
     "metadata": {},
     "output_type": "execute_result"
    }
   ],
   "source": [
    "sample2_anova = rest_data.sample(frac=1/2)\n",
    "sample2_anova"
   ]
  },
  {
   "cell_type": "code",
   "execution_count": 108,
   "id": "6d18b677",
   "metadata": {},
   "outputs": [
    {
     "data": {
      "text/html": [
       "<div>\n",
       "<style scoped>\n",
       "    .dataframe tbody tr th:only-of-type {\n",
       "        vertical-align: middle;\n",
       "    }\n",
       "\n",
       "    .dataframe tbody tr th {\n",
       "        vertical-align: top;\n",
       "    }\n",
       "\n",
       "    .dataframe thead th {\n",
       "        text-align: right;\n",
       "    }\n",
       "</style>\n",
       "<table border=\"1\" class=\"dataframe\">\n",
       "  <thead>\n",
       "    <tr style=\"text-align: right;\">\n",
       "      <th></th>\n",
       "      <th>Complaint Type</th>\n",
       "      <th>DeltaT(in_hr.)</th>\n",
       "    </tr>\n",
       "  </thead>\n",
       "  <tbody>\n",
       "    <tr>\n",
       "      <th>2</th>\n",
       "      <td>Noise - Commercial</td>\n",
       "      <td>3.136907</td>\n",
       "    </tr>\n",
       "    <tr>\n",
       "      <th>4</th>\n",
       "      <td>Noise - Park</td>\n",
       "      <td>3.401706</td>\n",
       "    </tr>\n",
       "    <tr>\n",
       "      <th>6</th>\n",
       "      <td>Traffic</td>\n",
       "      <td>3.446291</td>\n",
       "    </tr>\n",
       "    <tr>\n",
       "      <th>7</th>\n",
       "      <td>Disorderly Youth</td>\n",
       "      <td>3.558916</td>\n",
       "    </tr>\n",
       "    <tr>\n",
       "      <th>8</th>\n",
       "      <td>Noise - Vehicle</td>\n",
       "      <td>3.588570</td>\n",
       "    </tr>\n",
       "    <tr>\n",
       "      <th>13</th>\n",
       "      <td>Squeegee</td>\n",
       "      <td>4.047500</td>\n",
       "    </tr>\n",
       "    <tr>\n",
       "      <th>18</th>\n",
       "      <td>Animal Abuse</td>\n",
       "      <td>5.213471</td>\n",
       "    </tr>\n",
       "  </tbody>\n",
       "</table>\n",
       "</div>"
      ],
      "text/plain": [
       "        Complaint Type  DeltaT(in_hr.)\n",
       "2   Noise - Commercial        3.136907\n",
       "4         Noise - Park        3.401706\n",
       "6              Traffic        3.446291\n",
       "7     Disorderly Youth        3.558916\n",
       "8      Noise - Vehicle        3.588570\n",
       "13            Squeegee        4.047500\n",
       "18        Animal Abuse        5.213471"
      ]
     },
     "execution_count": 108,
     "metadata": {},
     "output_type": "execute_result"
    }
   ],
   "source": [
    "sample3_anova = rest_data.drop(sample2_anova.index)\n",
    "sample3_anova"
   ]
  },
  {
   "cell_type": "code",
   "execution_count": 109,
   "id": "2072ea30",
   "metadata": {},
   "outputs": [
    {
     "name": "stdout",
     "output_type": "stream",
     "text": [
      "Mean of 1st sample = 52.45\n",
      "Standard dev. of 1st sample = 125.41\n",
      "Mean of 2nd sample = 3.6\n",
      "Standard dev. of 2nd sample = 0.9\n",
      "Mean of 3rd sample = 3.77\n",
      "Standard dev. of 3rd sample = 0.69\n"
     ]
    }
   ],
   "source": [
    "print('Mean of 1st sample =',np.around(float(sample1_anova['DeltaT(in_hr.)'].mean()),decimals=2))\n",
    "print('Standard dev. of 1st sample =',np.around(float(sample1_anova['DeltaT(in_hr.)'].std()),decimals=2))\n",
    "print('Mean of 2nd sample =',np.around(float(sample2_anova['DeltaT(in_hr.)'].mean()),decimals=2))\n",
    "print('Standard dev. of 2nd sample =',np.around(float(sample2_anova['DeltaT(in_hr.)'].std()),decimals=2))\n",
    "print('Mean of 3rd sample =',np.around(float(sample3_anova['DeltaT(in_hr.)'].mean()),decimals=2))\n",
    "print('Standard dev. of 3rd sample =',np.around(float(sample3_anova['DeltaT(in_hr.)'].std()),decimals=2))"
   ]
  },
  {
   "cell_type": "markdown",
   "id": "f3e944e0",
   "metadata": {},
   "source": [
    "#### (a) Shapiro-Wilk normality test for each data group"
   ]
  },
  {
   "cell_type": "code",
   "execution_count": 110,
   "id": "caf70320",
   "metadata": {},
   "outputs": [
    {
     "name": "stdout",
     "output_type": "stream",
     "text": [
      "F-statistic is = 0.4641622304916382\n",
      "p value is = 0.0\n"
     ]
    }
   ],
   "source": [
    "f_val,p_val = stat.shapiro(sample1_anova['DeltaT(in_hr.)'])\n",
    "print('F-statistic is =',f_val)\n",
    "print('p value is =',np.around(p_val,decimals=2))"
   ]
  },
  {
   "cell_type": "code",
   "execution_count": 111,
   "id": "14a687a2",
   "metadata": {},
   "outputs": [
    {
     "name": "stdout",
     "output_type": "stream",
     "text": [
      "F-statistic is = 0.9009988903999329\n",
      "p value is = 0.29\n"
     ]
    }
   ],
   "source": [
    "f_val,p_val = stat.shapiro(sample2_anova['DeltaT(in_hr.)'])\n",
    "print('F-statistic is =',f_val)\n",
    "print('p value is =',np.around(p_val,decimals=2))"
   ]
  },
  {
   "cell_type": "code",
   "execution_count": 112,
   "id": "f13924f5",
   "metadata": {},
   "outputs": [
    {
     "name": "stdout",
     "output_type": "stream",
     "text": [
      "F-statistic is = 0.7915611863136292\n",
      "p value is = 0.03\n"
     ]
    }
   ],
   "source": [
    "f_val,p_val = stat.shapiro(sample3_anova['DeltaT(in_hr.)'])\n",
    "print('F-statistic is =',f_val)\n",
    "print('p value is =',np.around(p_val,decimals=2))"
   ]
  },
  {
   "cell_type": "markdown",
   "id": "0d3b7b24",
   "metadata": {},
   "source": [
    " - All p values are greater than 0.05\n",
    " - Fail to reject the null hypothesis\n",
    " - Samples come from populations that follow normal distribution"
   ]
  },
  {
   "cell_type": "markdown",
   "id": "0b56ba28",
   "metadata": {},
   "source": [
    "#### (b) Levene variance test  "
   ]
  },
  {
   "cell_type": "code",
   "execution_count": 113,
   "id": "1eb0742e",
   "metadata": {},
   "outputs": [
    {
     "name": "stdout",
     "output_type": "stream",
     "text": [
      "F-statistic is = 1.1160806146138733\n",
      "p value is = 0.35\n"
     ]
    }
   ],
   "source": [
    "f_val,p_val = stat.levene(sample1_anova['DeltaT(in_hr.)'],sample2_anova['DeltaT(in_hr.)'],sample3_anova['DeltaT(in_hr.)'])\n",
    "print('F-statistic is =',f_val)\n",
    "print('p value is =',np.around(p_val,decimals=2))"
   ]
  },
  {
   "cell_type": "code",
   "execution_count": 114,
   "id": "ab8bd5b5",
   "metadata": {},
   "outputs": [
    {
     "name": "stdout",
     "output_type": "stream",
     "text": [
      "Null hypothesis is accepted since p value (0.35) is greater than 0.05\n"
     ]
    }
   ],
   "source": [
    "if (p_val<0.05):\n",
    "    print('Null hypothesis is rejected since p value ({}) is less than 0.05'.format(np.around(p_val,decimals=2)))\n",
    "else:\n",
    "    print('Null hypothesis is accepted since p value ({}) is greater than 0.05'.format(np.around(p_val,decimals=2)))"
   ]
  },
  {
   "cell_type": "markdown",
   "id": "4066355b",
   "metadata": {},
   "source": [
    "#### (d) Again independent 2-sample T-test\n",
    "\n",
    "We already checked the independent T-test for 2 samples. Let's do the same for 3 samples and check the consistency."
   ]
  },
  {
   "cell_type": "code",
   "execution_count": 115,
   "id": "0c848560",
   "metadata": {},
   "outputs": [
    {
     "name": "stdout",
     "output_type": "stream",
     "text": [
      "T-statistic for sample 1 and 2 is = 1.1076893317112848\n",
      "p value is = 0.29\n"
     ]
    }
   ],
   "source": [
    "t_val,p_val = stat.ttest_ind(sample1_anova['DeltaT(in_hr.)'],sample2_anova['DeltaT(in_hr.)'])\n",
    "print('T-statistic for sample 1 and 2 is =',t_val)\n",
    "print('p value is =',np.around(p_val,decimals=2))"
   ]
  },
  {
   "cell_type": "code",
   "execution_count": 116,
   "id": "01eb6665",
   "metadata": {},
   "outputs": [
    {
     "name": "stdout",
     "output_type": "stream",
     "text": [
      "T-statistic for sample 1 and 3 is = 1.0268460213720618\n",
      "p value is = 0.32\n"
     ]
    }
   ],
   "source": [
    "t_val,p_val = stat.ttest_ind(sample1_anova['DeltaT(in_hr.)'],sample3_anova['DeltaT(in_hr.)'])\n",
    "print('T-statistic for sample 1 and 3 is =',t_val)\n",
    "print('p value is =',np.around(p_val,decimals=2))"
   ]
  },
  {
   "cell_type": "code",
   "execution_count": 117,
   "id": "1c1e112c",
   "metadata": {},
   "outputs": [
    {
     "name": "stdout",
     "output_type": "stream",
     "text": [
      "T-statistic for sample 2 and 3 is = -0.4081100559291089\n",
      "p value is = 0.69\n"
     ]
    }
   ],
   "source": [
    "t_val,p_val = stat.ttest_ind(sample2_anova['DeltaT(in_hr.)'],sample3_anova['DeltaT(in_hr.)'])\n",
    "print('T-statistic for sample 2 and 3 is =',t_val)\n",
    "print('p value is =',np.around(p_val,decimals=2))"
   ]
  },
  {
   "cell_type": "markdown",
   "id": "d510e3c0",
   "metadata": {},
   "source": [
    " - All the cases p-value is greater than 0.05\n",
    " - Fail to reject the null hypothesis.\n",
    "\n",
    "All the tests (T-test, F-test) provide a common conclusion. That is we fail to reject the 'Null hypothesis'. \n",
    "\n",
    " - Null Hypothesis states - there is no significant relationship among the average response time across complaint types\n",
    "\n",
    " - Alternate Hypothesis states - there is a significant relationship among the average response time across complaint types\n",
    "\n",
    "Thus we may conclude that there is no significant relationship among the average response time across complaint types or they are not similar types."
   ]
  },
  {
   "cell_type": "markdown",
   "id": "2e164ccb",
   "metadata": {},
   "source": [
    " - Are the type of complaint or service requested and location related?"
   ]
  },
  {
   "cell_type": "code",
   "execution_count": 118,
   "id": "7069b839",
   "metadata": {},
   "outputs": [
    {
     "name": "stdout",
     "output_type": "stream",
     "text": [
      "Null data in Complaint Type = 0\n",
      "Null data in City = 2614\n"
     ]
    }
   ],
   "source": [
    "print('Null data in Complaint Type =',data_mod['Complaint Type'].isnull().sum())\n",
    "print('Null data in City =',data_mod['City'].isnull().sum())"
   ]
  },
  {
   "cell_type": "code",
   "execution_count": 119,
   "id": "a5e66041",
   "metadata": {},
   "outputs": [],
   "source": [
    "df_cc = data_mod[['Complaint Type','City']]\n",
    "df_cc = df_cc.dropna()\n",
    "#df_cc.isnull().sum()\n",
    "#df_cc"
   ]
  },
  {
   "cell_type": "code",
   "execution_count": 120,
   "id": "cfc94368",
   "metadata": {},
   "outputs": [
    {
     "data": {
      "text/html": [
       "<div>\n",
       "<style scoped>\n",
       "    .dataframe tbody tr th:only-of-type {\n",
       "        vertical-align: middle;\n",
       "    }\n",
       "\n",
       "    .dataframe tbody tr th {\n",
       "        vertical-align: top;\n",
       "    }\n",
       "\n",
       "    .dataframe thead th {\n",
       "        text-align: right;\n",
       "    }\n",
       "</style>\n",
       "<table border=\"1\" class=\"dataframe\">\n",
       "  <thead>\n",
       "    <tr style=\"text-align: right;\">\n",
       "      <th>City</th>\n",
       "      <th>ARVERNE</th>\n",
       "      <th>ASTORIA</th>\n",
       "      <th>Astoria</th>\n",
       "      <th>BAYSIDE</th>\n",
       "      <th>BELLEROSE</th>\n",
       "      <th>BREEZY POINT</th>\n",
       "      <th>BRONX</th>\n",
       "      <th>BROOKLYN</th>\n",
       "      <th>CAMBRIA HEIGHTS</th>\n",
       "      <th>CENTRAL PARK</th>\n",
       "      <th>COLLEGE POINT</th>\n",
       "      <th>CORONA</th>\n",
       "      <th>EAST ELMHURST</th>\n",
       "      <th>ELMHURST</th>\n",
       "      <th>East Elmhurst</th>\n",
       "      <th>FAR ROCKAWAY</th>\n",
       "      <th>FLORAL PARK</th>\n",
       "      <th>FLUSHING</th>\n",
       "      <th>FOREST HILLS</th>\n",
       "      <th>FRESH MEADOWS</th>\n",
       "      <th>GLEN OAKS</th>\n",
       "      <th>HOLLIS</th>\n",
       "      <th>HOWARD BEACH</th>\n",
       "      <th>Howard Beach</th>\n",
       "      <th>JACKSON HEIGHTS</th>\n",
       "      <th>JAMAICA</th>\n",
       "      <th>KEW GARDENS</th>\n",
       "      <th>LITTLE NECK</th>\n",
       "      <th>LONG ISLAND CITY</th>\n",
       "      <th>Long Island City</th>\n",
       "      <th>MASPETH</th>\n",
       "      <th>MIDDLE VILLAGE</th>\n",
       "      <th>NEW HYDE PARK</th>\n",
       "      <th>NEW YORK</th>\n",
       "      <th>OAKLAND GARDENS</th>\n",
       "      <th>OZONE PARK</th>\n",
       "      <th>QUEENS</th>\n",
       "      <th>QUEENS VILLAGE</th>\n",
       "      <th>REGO PARK</th>\n",
       "      <th>RICHMOND HILL</th>\n",
       "      <th>RIDGEWOOD</th>\n",
       "      <th>ROCKAWAY PARK</th>\n",
       "      <th>ROSEDALE</th>\n",
       "      <th>SAINT ALBANS</th>\n",
       "      <th>SOUTH OZONE PARK</th>\n",
       "      <th>SOUTH RICHMOND HILL</th>\n",
       "      <th>SPRINGFIELD GARDENS</th>\n",
       "      <th>STATEN ISLAND</th>\n",
       "      <th>SUNNYSIDE</th>\n",
       "      <th>WHITESTONE</th>\n",
       "      <th>WOODHAVEN</th>\n",
       "      <th>WOODSIDE</th>\n",
       "      <th>Woodside</th>\n",
       "      <th>Total</th>\n",
       "    </tr>\n",
       "    <tr>\n",
       "      <th>Complaint Type</th>\n",
       "      <th></th>\n",
       "      <th></th>\n",
       "      <th></th>\n",
       "      <th></th>\n",
       "      <th></th>\n",
       "      <th></th>\n",
       "      <th></th>\n",
       "      <th></th>\n",
       "      <th></th>\n",
       "      <th></th>\n",
       "      <th></th>\n",
       "      <th></th>\n",
       "      <th></th>\n",
       "      <th></th>\n",
       "      <th></th>\n",
       "      <th></th>\n",
       "      <th></th>\n",
       "      <th></th>\n",
       "      <th></th>\n",
       "      <th></th>\n",
       "      <th></th>\n",
       "      <th></th>\n",
       "      <th></th>\n",
       "      <th></th>\n",
       "      <th></th>\n",
       "      <th></th>\n",
       "      <th></th>\n",
       "      <th></th>\n",
       "      <th></th>\n",
       "      <th></th>\n",
       "      <th></th>\n",
       "      <th></th>\n",
       "      <th></th>\n",
       "      <th></th>\n",
       "      <th></th>\n",
       "      <th></th>\n",
       "      <th></th>\n",
       "      <th></th>\n",
       "      <th></th>\n",
       "      <th></th>\n",
       "      <th></th>\n",
       "      <th></th>\n",
       "      <th></th>\n",
       "      <th></th>\n",
       "      <th></th>\n",
       "      <th></th>\n",
       "      <th></th>\n",
       "      <th></th>\n",
       "      <th></th>\n",
       "      <th></th>\n",
       "      <th></th>\n",
       "      <th></th>\n",
       "      <th></th>\n",
       "      <th></th>\n",
       "    </tr>\n",
       "  </thead>\n",
       "  <tbody>\n",
       "    <tr>\n",
       "      <th>Animal Abuse</th>\n",
       "      <td>38</td>\n",
       "      <td>125</td>\n",
       "      <td>0</td>\n",
       "      <td>37</td>\n",
       "      <td>7</td>\n",
       "      <td>2</td>\n",
       "      <td>1415</td>\n",
       "      <td>2394</td>\n",
       "      <td>11</td>\n",
       "      <td>0</td>\n",
       "      <td>28</td>\n",
       "      <td>61</td>\n",
       "      <td>59</td>\n",
       "      <td>38</td>\n",
       "      <td>0</td>\n",
       "      <td>89</td>\n",
       "      <td>2</td>\n",
       "      <td>143</td>\n",
       "      <td>45</td>\n",
       "      <td>45</td>\n",
       "      <td>5</td>\n",
       "      <td>33</td>\n",
       "      <td>31</td>\n",
       "      <td>0</td>\n",
       "      <td>42</td>\n",
       "      <td>229</td>\n",
       "      <td>19</td>\n",
       "      <td>15</td>\n",
       "      <td>30</td>\n",
       "      <td>0</td>\n",
       "      <td>36</td>\n",
       "      <td>22</td>\n",
       "      <td>1</td>\n",
       "      <td>1525</td>\n",
       "      <td>19</td>\n",
       "      <td>48</td>\n",
       "      <td>0</td>\n",
       "      <td>66</td>\n",
       "      <td>26</td>\n",
       "      <td>32</td>\n",
       "      <td>117</td>\n",
       "      <td>30</td>\n",
       "      <td>33</td>\n",
       "      <td>30</td>\n",
       "      <td>55</td>\n",
       "      <td>26</td>\n",
       "      <td>24</td>\n",
       "      <td>557</td>\n",
       "      <td>35</td>\n",
       "      <td>28</td>\n",
       "      <td>45</td>\n",
       "      <td>69</td>\n",
       "      <td>0</td>\n",
       "      <td>7767</td>\n",
       "    </tr>\n",
       "    <tr>\n",
       "      <th>Animal in a Park</th>\n",
       "      <td>0</td>\n",
       "      <td>0</td>\n",
       "      <td>0</td>\n",
       "      <td>0</td>\n",
       "      <td>0</td>\n",
       "      <td>0</td>\n",
       "      <td>0</td>\n",
       "      <td>0</td>\n",
       "      <td>0</td>\n",
       "      <td>0</td>\n",
       "      <td>0</td>\n",
       "      <td>0</td>\n",
       "      <td>0</td>\n",
       "      <td>0</td>\n",
       "      <td>0</td>\n",
       "      <td>0</td>\n",
       "      <td>0</td>\n",
       "      <td>0</td>\n",
       "      <td>0</td>\n",
       "      <td>0</td>\n",
       "      <td>0</td>\n",
       "      <td>0</td>\n",
       "      <td>0</td>\n",
       "      <td>0</td>\n",
       "      <td>0</td>\n",
       "      <td>0</td>\n",
       "      <td>0</td>\n",
       "      <td>0</td>\n",
       "      <td>0</td>\n",
       "      <td>0</td>\n",
       "      <td>0</td>\n",
       "      <td>0</td>\n",
       "      <td>0</td>\n",
       "      <td>0</td>\n",
       "      <td>0</td>\n",
       "      <td>0</td>\n",
       "      <td>1</td>\n",
       "      <td>0</td>\n",
       "      <td>0</td>\n",
       "      <td>0</td>\n",
       "      <td>0</td>\n",
       "      <td>0</td>\n",
       "      <td>0</td>\n",
       "      <td>0</td>\n",
       "      <td>0</td>\n",
       "      <td>0</td>\n",
       "      <td>0</td>\n",
       "      <td>0</td>\n",
       "      <td>0</td>\n",
       "      <td>0</td>\n",
       "      <td>0</td>\n",
       "      <td>0</td>\n",
       "      <td>0</td>\n",
       "      <td>1</td>\n",
       "    </tr>\n",
       "    <tr>\n",
       "      <th>Bike/Roller/Skate Chronic</th>\n",
       "      <td>0</td>\n",
       "      <td>15</td>\n",
       "      <td>0</td>\n",
       "      <td>0</td>\n",
       "      <td>1</td>\n",
       "      <td>0</td>\n",
       "      <td>20</td>\n",
       "      <td>111</td>\n",
       "      <td>0</td>\n",
       "      <td>0</td>\n",
       "      <td>0</td>\n",
       "      <td>0</td>\n",
       "      <td>1</td>\n",
       "      <td>2</td>\n",
       "      <td>0</td>\n",
       "      <td>0</td>\n",
       "      <td>0</td>\n",
       "      <td>3</td>\n",
       "      <td>5</td>\n",
       "      <td>0</td>\n",
       "      <td>0</td>\n",
       "      <td>0</td>\n",
       "      <td>1</td>\n",
       "      <td>0</td>\n",
       "      <td>2</td>\n",
       "      <td>2</td>\n",
       "      <td>0</td>\n",
       "      <td>0</td>\n",
       "      <td>3</td>\n",
       "      <td>0</td>\n",
       "      <td>1</td>\n",
       "      <td>1</td>\n",
       "      <td>0</td>\n",
       "      <td>225</td>\n",
       "      <td>2</td>\n",
       "      <td>1</td>\n",
       "      <td>0</td>\n",
       "      <td>0</td>\n",
       "      <td>0</td>\n",
       "      <td>0</td>\n",
       "      <td>3</td>\n",
       "      <td>0</td>\n",
       "      <td>2</td>\n",
       "      <td>0</td>\n",
       "      <td>1</td>\n",
       "      <td>1</td>\n",
       "      <td>0</td>\n",
       "      <td>7</td>\n",
       "      <td>2</td>\n",
       "      <td>4</td>\n",
       "      <td>2</td>\n",
       "      <td>4</td>\n",
       "      <td>0</td>\n",
       "      <td>422</td>\n",
       "    </tr>\n",
       "    <tr>\n",
       "      <th>Blocked Driveway</th>\n",
       "      <td>35</td>\n",
       "      <td>2618</td>\n",
       "      <td>116</td>\n",
       "      <td>377</td>\n",
       "      <td>95</td>\n",
       "      <td>3</td>\n",
       "      <td>12755</td>\n",
       "      <td>28148</td>\n",
       "      <td>147</td>\n",
       "      <td>0</td>\n",
       "      <td>435</td>\n",
       "      <td>2761</td>\n",
       "      <td>1408</td>\n",
       "      <td>1446</td>\n",
       "      <td>0</td>\n",
       "      <td>284</td>\n",
       "      <td>20</td>\n",
       "      <td>2795</td>\n",
       "      <td>663</td>\n",
       "      <td>503</td>\n",
       "      <td>30</td>\n",
       "      <td>342</td>\n",
       "      <td>167</td>\n",
       "      <td>1</td>\n",
       "      <td>568</td>\n",
       "      <td>2818</td>\n",
       "      <td>313</td>\n",
       "      <td>121</td>\n",
       "      <td>772</td>\n",
       "      <td>34</td>\n",
       "      <td>732</td>\n",
       "      <td>457</td>\n",
       "      <td>53</td>\n",
       "      <td>2072</td>\n",
       "      <td>132</td>\n",
       "      <td>1259</td>\n",
       "      <td>2</td>\n",
       "      <td>585</td>\n",
       "      <td>611</td>\n",
       "      <td>872</td>\n",
       "      <td>1694</td>\n",
       "      <td>70</td>\n",
       "      <td>211</td>\n",
       "      <td>244</td>\n",
       "      <td>942</td>\n",
       "      <td>1548</td>\n",
       "      <td>262</td>\n",
       "      <td>2142</td>\n",
       "      <td>206</td>\n",
       "      <td>208</td>\n",
       "      <td>1060</td>\n",
       "      <td>1613</td>\n",
       "      <td>11</td>\n",
       "      <td>76761</td>\n",
       "    </tr>\n",
       "    <tr>\n",
       "      <th>Derelict Vehicle</th>\n",
       "      <td>27</td>\n",
       "      <td>351</td>\n",
       "      <td>12</td>\n",
       "      <td>198</td>\n",
       "      <td>89</td>\n",
       "      <td>3</td>\n",
       "      <td>1953</td>\n",
       "      <td>5181</td>\n",
       "      <td>115</td>\n",
       "      <td>0</td>\n",
       "      <td>184</td>\n",
       "      <td>57</td>\n",
       "      <td>113</td>\n",
       "      <td>78</td>\n",
       "      <td>1</td>\n",
       "      <td>187</td>\n",
       "      <td>56</td>\n",
       "      <td>440</td>\n",
       "      <td>52</td>\n",
       "      <td>291</td>\n",
       "      <td>49</td>\n",
       "      <td>143</td>\n",
       "      <td>138</td>\n",
       "      <td>0</td>\n",
       "      <td>29</td>\n",
       "      <td>954</td>\n",
       "      <td>14</td>\n",
       "      <td>61</td>\n",
       "      <td>195</td>\n",
       "      <td>4</td>\n",
       "      <td>434</td>\n",
       "      <td>296</td>\n",
       "      <td>14</td>\n",
       "      <td>537</td>\n",
       "      <td>86</td>\n",
       "      <td>420</td>\n",
       "      <td>1</td>\n",
       "      <td>370</td>\n",
       "      <td>81</td>\n",
       "      <td>167</td>\n",
       "      <td>330</td>\n",
       "      <td>9</td>\n",
       "      <td>208</td>\n",
       "      <td>202</td>\n",
       "      <td>358</td>\n",
       "      <td>289</td>\n",
       "      <td>210</td>\n",
       "      <td>1766</td>\n",
       "      <td>10</td>\n",
       "      <td>227</td>\n",
       "      <td>308</td>\n",
       "      <td>247</td>\n",
       "      <td>2</td>\n",
       "      <td>17547</td>\n",
       "    </tr>\n",
       "    <tr>\n",
       "      <th>Disorderly Youth</th>\n",
       "      <td>2</td>\n",
       "      <td>3</td>\n",
       "      <td>0</td>\n",
       "      <td>1</td>\n",
       "      <td>2</td>\n",
       "      <td>0</td>\n",
       "      <td>63</td>\n",
       "      <td>72</td>\n",
       "      <td>0</td>\n",
       "      <td>0</td>\n",
       "      <td>1</td>\n",
       "      <td>6</td>\n",
       "      <td>1</td>\n",
       "      <td>2</td>\n",
       "      <td>0</td>\n",
       "      <td>1</td>\n",
       "      <td>1</td>\n",
       "      <td>2</td>\n",
       "      <td>1</td>\n",
       "      <td>0</td>\n",
       "      <td>0</td>\n",
       "      <td>1</td>\n",
       "      <td>1</td>\n",
       "      <td>0</td>\n",
       "      <td>0</td>\n",
       "      <td>8</td>\n",
       "      <td>0</td>\n",
       "      <td>2</td>\n",
       "      <td>1</td>\n",
       "      <td>0</td>\n",
       "      <td>2</td>\n",
       "      <td>0</td>\n",
       "      <td>0</td>\n",
       "      <td>69</td>\n",
       "      <td>1</td>\n",
       "      <td>4</td>\n",
       "      <td>0</td>\n",
       "      <td>0</td>\n",
       "      <td>0</td>\n",
       "      <td>0</td>\n",
       "      <td>3</td>\n",
       "      <td>4</td>\n",
       "      <td>0</td>\n",
       "      <td>1</td>\n",
       "      <td>2</td>\n",
       "      <td>2</td>\n",
       "      <td>0</td>\n",
       "      <td>23</td>\n",
       "      <td>2</td>\n",
       "      <td>1</td>\n",
       "      <td>0</td>\n",
       "      <td>1</td>\n",
       "      <td>0</td>\n",
       "      <td>286</td>\n",
       "    </tr>\n",
       "  </tbody>\n",
       "</table>\n",
       "</div>"
      ],
      "text/plain": [
       "City                       ARVERNE  ASTORIA  Astoria  BAYSIDE  BELLEROSE  \\\n",
       "Complaint Type                                                             \n",
       "Animal Abuse                    38      125        0       37          7   \n",
       "Animal in a Park                 0        0        0        0          0   \n",
       "Bike/Roller/Skate Chronic        0       15        0        0          1   \n",
       "Blocked Driveway                35     2618      116      377         95   \n",
       "Derelict Vehicle                27      351       12      198         89   \n",
       "Disorderly Youth                 2        3        0        1          2   \n",
       "\n",
       "City                       BREEZY POINT  BRONX  BROOKLYN  CAMBRIA HEIGHTS  \\\n",
       "Complaint Type                                                              \n",
       "Animal Abuse                          2   1415      2394               11   \n",
       "Animal in a Park                      0      0         0                0   \n",
       "Bike/Roller/Skate Chronic             0     20       111                0   \n",
       "Blocked Driveway                      3  12755     28148              147   \n",
       "Derelict Vehicle                      3   1953      5181              115   \n",
       "Disorderly Youth                      0     63        72                0   \n",
       "\n",
       "City                       CENTRAL PARK  COLLEGE POINT  CORONA  EAST ELMHURST  \\\n",
       "Complaint Type                                                                  \n",
       "Animal Abuse                          0             28      61             59   \n",
       "Animal in a Park                      0              0       0              0   \n",
       "Bike/Roller/Skate Chronic             0              0       0              1   \n",
       "Blocked Driveway                      0            435    2761           1408   \n",
       "Derelict Vehicle                      0            184      57            113   \n",
       "Disorderly Youth                      0              1       6              1   \n",
       "\n",
       "City                       ELMHURST  East Elmhurst  FAR ROCKAWAY  FLORAL PARK  \\\n",
       "Complaint Type                                                                  \n",
       "Animal Abuse                     38              0            89            2   \n",
       "Animal in a Park                  0              0             0            0   \n",
       "Bike/Roller/Skate Chronic         2              0             0            0   \n",
       "Blocked Driveway               1446              0           284           20   \n",
       "Derelict Vehicle                 78              1           187           56   \n",
       "Disorderly Youth                  2              0             1            1   \n",
       "\n",
       "City                       FLUSHING  FOREST HILLS  FRESH MEADOWS  GLEN OAKS  \\\n",
       "Complaint Type                                                                \n",
       "Animal Abuse                    143            45             45          5   \n",
       "Animal in a Park                  0             0              0          0   \n",
       "Bike/Roller/Skate Chronic         3             5              0          0   \n",
       "Blocked Driveway               2795           663            503         30   \n",
       "Derelict Vehicle                440            52            291         49   \n",
       "Disorderly Youth                  2             1              0          0   \n",
       "\n",
       "City                       HOLLIS  HOWARD BEACH  Howard Beach  \\\n",
       "Complaint Type                                                  \n",
       "Animal Abuse                   33            31             0   \n",
       "Animal in a Park                0             0             0   \n",
       "Bike/Roller/Skate Chronic       0             1             0   \n",
       "Blocked Driveway              342           167             1   \n",
       "Derelict Vehicle              143           138             0   \n",
       "Disorderly Youth                1             1             0   \n",
       "\n",
       "City                       JACKSON HEIGHTS  JAMAICA  KEW GARDENS  LITTLE NECK  \\\n",
       "Complaint Type                                                                  \n",
       "Animal Abuse                            42      229           19           15   \n",
       "Animal in a Park                         0        0            0            0   \n",
       "Bike/Roller/Skate Chronic                2        2            0            0   \n",
       "Blocked Driveway                       568     2818          313          121   \n",
       "Derelict Vehicle                        29      954           14           61   \n",
       "Disorderly Youth                         0        8            0            2   \n",
       "\n",
       "City                       LONG ISLAND CITY  Long Island City  MASPETH  \\\n",
       "Complaint Type                                                           \n",
       "Animal Abuse                             30                 0       36   \n",
       "Animal in a Park                          0                 0        0   \n",
       "Bike/Roller/Skate Chronic                 3                 0        1   \n",
       "Blocked Driveway                        772                34      732   \n",
       "Derelict Vehicle                        195                 4      434   \n",
       "Disorderly Youth                          1                 0        2   \n",
       "\n",
       "City                       MIDDLE VILLAGE  NEW HYDE PARK  NEW YORK  \\\n",
       "Complaint Type                                                       \n",
       "Animal Abuse                           22              1      1525   \n",
       "Animal in a Park                        0              0         0   \n",
       "Bike/Roller/Skate Chronic               1              0       225   \n",
       "Blocked Driveway                      457             53      2072   \n",
       "Derelict Vehicle                      296             14       537   \n",
       "Disorderly Youth                        0              0        69   \n",
       "\n",
       "City                       OAKLAND GARDENS  OZONE PARK  QUEENS  \\\n",
       "Complaint Type                                                   \n",
       "Animal Abuse                            19          48       0   \n",
       "Animal in a Park                         0           0       1   \n",
       "Bike/Roller/Skate Chronic                2           1       0   \n",
       "Blocked Driveway                       132        1259       2   \n",
       "Derelict Vehicle                        86         420       1   \n",
       "Disorderly Youth                         1           4       0   \n",
       "\n",
       "City                       QUEENS VILLAGE  REGO PARK  RICHMOND HILL  \\\n",
       "Complaint Type                                                        \n",
       "Animal Abuse                           66         26             32   \n",
       "Animal in a Park                        0          0              0   \n",
       "Bike/Roller/Skate Chronic               0          0              0   \n",
       "Blocked Driveway                      585        611            872   \n",
       "Derelict Vehicle                      370         81            167   \n",
       "Disorderly Youth                        0          0              0   \n",
       "\n",
       "City                       RIDGEWOOD  ROCKAWAY PARK  ROSEDALE  SAINT ALBANS  \\\n",
       "Complaint Type                                                                \n",
       "Animal Abuse                     117             30        33            30   \n",
       "Animal in a Park                   0              0         0             0   \n",
       "Bike/Roller/Skate Chronic          3              0         2             0   \n",
       "Blocked Driveway                1694             70       211           244   \n",
       "Derelict Vehicle                 330              9       208           202   \n",
       "Disorderly Youth                   3              4         0             1   \n",
       "\n",
       "City                       SOUTH OZONE PARK  SOUTH RICHMOND HILL  \\\n",
       "Complaint Type                                                     \n",
       "Animal Abuse                             55                   26   \n",
       "Animal in a Park                          0                    0   \n",
       "Bike/Roller/Skate Chronic                 1                    1   \n",
       "Blocked Driveway                        942                 1548   \n",
       "Derelict Vehicle                        358                  289   \n",
       "Disorderly Youth                          2                    2   \n",
       "\n",
       "City                       SPRINGFIELD GARDENS  STATEN ISLAND  SUNNYSIDE  \\\n",
       "Complaint Type                                                             \n",
       "Animal Abuse                                24            557         35   \n",
       "Animal in a Park                             0              0          0   \n",
       "Bike/Roller/Skate Chronic                    0              7          2   \n",
       "Blocked Driveway                           262           2142        206   \n",
       "Derelict Vehicle                           210           1766         10   \n",
       "Disorderly Youth                             0             23          2   \n",
       "\n",
       "City                       WHITESTONE  WOODHAVEN  WOODSIDE  Woodside  Total  \n",
       "Complaint Type                                                               \n",
       "Animal Abuse                       28         45        69         0   7767  \n",
       "Animal in a Park                    0          0         0         0      1  \n",
       "Bike/Roller/Skate Chronic           4          2         4         0    422  \n",
       "Blocked Driveway                  208       1060      1613        11  76761  \n",
       "Derelict Vehicle                  227        308       247         2  17547  \n",
       "Disorderly Youth                    1          0         1         0    286  "
      ]
     },
     "execution_count": 120,
     "metadata": {},
     "output_type": "execute_result"
    }
   ],
   "source": [
    "City_Complaint = pd.crosstab(data_mod['Complaint Type'],data_mod['City'],margins=True, margins_name='Total')\n",
    "#City_Complaint = pd.crosstab(df_cc['Complaint Type'],df_cc['City'])\n",
    "City_Complaint.head(6)"
   ]
  },
  {
   "cell_type": "markdown",
   "id": "2be8549e",
   "metadata": {},
   "source": [
    "Applying the ANOVA for a few combinations and let's see how does it go?"
   ]
  },
  {
   "cell_type": "code",
   "execution_count": 121,
   "id": "e1922ada",
   "metadata": {},
   "outputs": [
    {
     "name": "stdout",
     "output_type": "stream",
     "text": [
      "For 'ARVERNE' and 'ASTORIA' pair -------\n",
      "F-statistic is = 3.3097701947747975\n",
      "p value is = 0.08\n"
     ]
    }
   ],
   "source": [
    "print(\"For 'ARVERNE' and 'ASTORIA' pair -------\")\n",
    "f_val,p_val = stat.f_oneway(City_Complaint['ARVERNE'],City_Complaint['ASTORIA'])\n",
    "print('F-statistic is =',f_val)\n",
    "print('p value is =',np.around(p_val,decimals=2))"
   ]
  },
  {
   "cell_type": "code",
   "execution_count": 122,
   "id": "d92aac5a",
   "metadata": {},
   "outputs": [
    {
     "name": "stdout",
     "output_type": "stream",
     "text": [
      "For 'ARVERNE' and 'BROOKLYN' pair -------\n",
      "F-statistic is = 3.716772993046823\n",
      "p value is = 0.06\n"
     ]
    }
   ],
   "source": [
    "print(\"For 'ARVERNE' and 'BROOKLYN' pair -------\")\n",
    "f_val,p_val = stat.f_oneway(City_Complaint['ARVERNE'],City_Complaint['BROOKLYN'])\n",
    "print('F-statistic is =',f_val)\n",
    "print('p value is =',np.around(p_val,decimals=2))"
   ]
  },
  {
   "cell_type": "code",
   "execution_count": 123,
   "id": "4f36b643",
   "metadata": {},
   "outputs": [
    {
     "name": "stdout",
     "output_type": "stream",
     "text": [
      "For 'HOLLIS' and 'JAMAICA' pair -------\n",
      "F-statistic is = 2.666621070410633\n",
      "p value is = 0.11\n"
     ]
    }
   ],
   "source": [
    "print(\"For 'HOLLIS' and 'JAMAICA' pair -------\")\n",
    "f_val,p_val = stat.f_oneway(City_Complaint['HOLLIS'],City_Complaint['JAMAICA'])\n",
    "print('F-statistic is =',f_val)\n",
    "print('p value is =',np.around(p_val,decimals=2))"
   ]
  },
  {
   "cell_type": "code",
   "execution_count": 124,
   "id": "e8cbd45c",
   "metadata": {},
   "outputs": [
    {
     "name": "stdout",
     "output_type": "stream",
     "text": [
      "For 'MASPETH' and 'QUEENS' pair -------\n",
      "F-statistic is = 3.368313812374042\n",
      "p value is = 0.07\n"
     ]
    }
   ],
   "source": [
    "print(\"For 'MASPETH' and 'QUEENS' pair -------\")\n",
    "f_val,p_val = stat.f_oneway(City_Complaint['MASPETH'],City_Complaint['QUEENS'])\n",
    "print('F-statistic is =',f_val)\n",
    "print('p value is =',np.around(p_val,decimals=2))"
   ]
  },
  {
   "cell_type": "markdown",
   "id": "e4c4ae8f",
   "metadata": {},
   "source": [
    "We have seen a few of the pairs. And it seems p-value is around 0.05. This is a very insufficient number of pair checking. So, though it looks like 'neglecting Null Hypothesis', but we can not certain unless checking all pairs ($^{53}{C}_{2}$ combinations for 53 cities). Even for 21 complaint types, it is still $^{21}{C}_{2}$ combinations.\n",
    "\n",
    "It is more proper to use the chai square contingency test for such data structure. It gives us the correlation between different features (here different cities for a given complaint type).\n",
    "\n",
    " - Null Hypothesis states - there is no dependence or relation among the features\n",
    " - Alternate Hypothesis states - there is a relation among the features"
   ]
  },
  {
   "cell_type": "markdown",
   "id": "497a0fc2",
   "metadata": {},
   "source": [
    "#### Chai square Contigency test "
   ]
  },
  {
   "cell_type": "code",
   "execution_count": 125,
   "id": "5239eddf",
   "metadata": {},
   "outputs": [],
   "source": [
    "chai2, p_val, df, exp_frq = stat.chi2_contingency(City_Complaint)"
   ]
  },
  {
   "cell_type": "code",
   "execution_count": 126,
   "id": "bf71911a",
   "metadata": {},
   "outputs": [
    {
     "name": "stdout",
     "output_type": "stream",
     "text": [
      "Chai square value = 119769.34666374495\n",
      "p-value is = 0.0\n"
     ]
    }
   ],
   "source": [
    "print('Chai square value =',chai2)\n",
    "print('p-value is =',p_val)"
   ]
  },
  {
   "cell_type": "code",
   "execution_count": 127,
   "id": "57d16706",
   "metadata": {},
   "outputs": [
    {
     "name": "stdout",
     "output_type": "stream",
     "text": [
      "Null hypothesis is rejected since p value (0.0) is less than 0.05\n"
     ]
    }
   ],
   "source": [
    "if (p_val<0.05):\n",
    "    print('Null hypothesis is rejected since p value ({}) is less than 0.05'.format(np.around(p_val,decimals=2)))\n",
    "else:\n",
    "    print('Null hypothesis is accepted since p value ({}) is greater than 0.05'.format(np.around(p_val,decimals=2)))"
   ]
  },
  {
   "cell_type": "markdown",
   "id": "eb9b8033",
   "metadata": {},
   "source": [
    "#### conclusion\n",
    "Thus we may conclude that there is a relationship between the type of complaint or service requested and location."
   ]
  },
  {
   "cell_type": "code",
   "execution_count": null,
   "id": "0747b685",
   "metadata": {},
   "outputs": [],
   "source": []
  }
 ],
 "metadata": {
  "kernelspec": {
   "display_name": "Python 3 (ipykernel)",
   "language": "python",
   "name": "python3"
  },
  "language_info": {
   "codemirror_mode": {
    "name": "ipython",
    "version": 3
   },
   "file_extension": ".py",
   "mimetype": "text/x-python",
   "name": "python",
   "nbconvert_exporter": "python",
   "pygments_lexer": "ipython3",
   "version": "3.9.7"
  }
 },
 "nbformat": 4,
 "nbformat_minor": 5
}
